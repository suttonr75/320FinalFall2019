{
 "cells": [
  {
   "cell_type": "markdown",
   "metadata": {},
   "source": [
    "<h1> Song Lyric Analysis </h1>\n",
    "    <br>\n",
    "    By: Noah Burkhardt, Courtland Climer, Ares Shackleford, and Ryan Sutton"
   ]
  },
  {
   "cell_type": "code",
   "execution_count": 49,
   "metadata": {},
   "outputs": [],
   "source": [
    "%%capture\n",
    "!pip install spotipy\n",
    "!pip install billboard.py;\n",
    "!pip install lyricsgenius;\n",
    "!pip install nltk;\n",
    "!pip install matplotlib;\n",
    "!pip install seaborn;\n",
    "!pip install profanity-check"
   ]
  },
  {
   "cell_type": "code",
   "execution_count": 63,
   "metadata": {},
   "outputs": [
    {
     "name": "stderr",
     "output_type": "stream",
     "text": [
      "[nltk_data] Downloading package stopwords to /home/jovyan/nltk_data...\n",
      "[nltk_data]   Package stopwords is already up-to-date!\n"
     ]
    }
   ],
   "source": [
    "%%capture\n",
    "import requests\n",
    "import pandas as pd\n",
    "import numpy as np\n",
    "import billboard as bb\n",
    "import lyricsgenius\n",
    "import seaborn as sns\n",
    "import sqlite3\n",
    "import matplotlib.pyplot as plt\n",
    "import nltk\n",
    "from sklearn.feature_extraction.text import CountVectorizer\n",
    "import spotipy\n",
    "from spotipy.oauth2 import SpotifyClientCredentials\n",
    "from sklearn.feature_extraction.text import TfidfVectorizer\n",
    "import nltk\n",
    "nltk.download(\"stopwords\")\n",
    "from nltk.corpus import stopwords\n",
    "from sklearn.linear_model import LinearRegression\n",
    "from sklearn.model_selection import cross_val_score\n",
    "from profanity_check import predict, predict_prob"
   ]
  },
  {
   "cell_type": "code",
   "execution_count": 3,
   "metadata": {},
   "outputs": [],
   "source": [
    "genius = lyricsgenius.Genius(\"JxIIf2vA02Oopvz2JRUbC6iysXRZnNEHN0j84a16uLsB8niafpsNZPR1SvcSxu8r\")\n",
    "genius.verbose = False # Turn off status messages\n",
    "genius.remove_section_headers = True # Remove section headers (e.g. [Chorus]) from lyrics when searching\n",
    "genius.skip_non_songs = False # Include hits thought to be non-songs (e.g. track lists)\n",
    "genius.excluded_terms = [\"(Remix)\", \"(Live)\"] # Exclude songs with these words in their title\n",
    "\n",
    "client_credentials_manager = SpotifyClientCredentials(client_id = \"ee9a1f8e2f634959967d52ed9fad54de\", client_secret = \"934a6bbc90e74664b502638f6f5fc92b\")\n",
    "sp = spotipy.Spotify(client_credentials_manager=client_credentials_manager)"
   ]
  },
  {
   "cell_type": "markdown",
   "metadata": {},
   "source": [
    "The above cell sets up using the genius API to get lyrics for specific songs. One would need to replace \"Api Key\" with their own genius API key in order to use the API. If you want to know more about the genius api you can find information about it here: https://docs.genius.com/. If you want to know more about the lyricsgenius python library that wraps the genius API you can find more about it here: https://github.com/johnwmillr/LyricsGenius. We tried using many different lyrics sites/APIs to get the lyrics such as Musixmatch or azlyrics, but we ran into the problem that you needed a paid API key to get access to all of the lyrics or that the search function for songs did not work with the way Billboard formulated the Song artist and title."
   ]
  },
  {
   "cell_type": "markdown",
   "metadata": {},
   "source": [
    "We use a python wrapper for the Spotify API called spotipy. The documentation for spotipy can be found here: https://spotipy.readthedocs.io/en/latest/#non-authorized-requests. The documentation for the Spotify API as a whole can be found here: https://developer.spotify.com/documentation/web-api/"
   ]
  },
  {
   "cell_type": "code",
   "execution_count": 4,
   "metadata": {},
   "outputs": [],
   "source": [
    "def create_songs_df(chart_name):\n",
    "    top100 = bb.ChartData(chart_name)\n",
    "    songs = top100.entries\n",
    "    dataframe = {\"Rank\": [], \"Title\": [], \"Artist\": []}\n",
    "    for song in songs:\n",
    "        dataframe[\"Title\"].append(song.title)\n",
    "        dataframe[\"Artist\"].append(song.artist)\n",
    "        dataframe[\"Rank\"].append(song.rank)\n",
    "    df = pd.DataFrame(dataframe)\n",
    "    return df"
   ]
  },
  {
   "cell_type": "markdown",
   "metadata": {},
   "source": [
    "The above cell allows for creation of dataframes to store different charts from the billboard website. We used a billboard python package that you can find more information about here https://github.com/guoguo12/billboard-charts. This method creates a dataframe for a specific chart with columns for song title, song artist, and the rank of the song on the chart and then returns the dataframe."
   ]
  },
  {
   "cell_type": "code",
   "execution_count": 5,
   "metadata": {},
   "outputs": [],
   "source": [
    "top100 = create_songs_df(\"hot-100\")\n",
    "country = create_songs_df(\"country-songs\")\n",
    "rock = create_songs_df(\"rock-songs\")\n",
    "pop = create_songs_df(\"pop-songs\")\n",
    "rap = create_songs_df('rap-song')"
   ]
  },
  {
   "cell_type": "markdown",
   "metadata": {},
   "source": [
    "Here we load in five different billboard top100 charts that we will use later to perform our analysis. If you want to explore Billboard's website you can view it here: https://www.billboard.com/ and you can find more information about how the charts are actually compiled here: https://www.billboard.com/p/billboard-charts-legend."
   ]
  },
  {
   "cell_type": "code",
   "execution_count": 6,
   "metadata": {},
   "outputs": [],
   "source": [
    "def try_load_lyrics(title,artist):\n",
    "    try:\n",
    "        return genius.search_song(title, artist).lyrics\n",
    "    except:\n",
    "        return \"Failed to Find Lyrics\""
   ]
  },
  {
   "cell_type": "code",
   "execution_count": 7,
   "metadata": {},
   "outputs": [],
   "source": [
    "def populate_chart_with_lyrics(chart):\n",
    "    chart[\"lyrics\"] = chart.apply(lambda x: try_load_lyrics(x[\"Title\"],x[\"Artist\"]), axis = 1)\n",
    "    return chart"
   ]
  },
  {
   "cell_type": "markdown",
   "metadata": {},
   "source": [
    "The above methods are used to add a column to a dataframe for the lyrics of each song using the genius API."
   ]
  },
  {
   "cell_type": "code",
   "execution_count": 8,
   "metadata": {
    "scrolled": false
   },
   "outputs": [
    {
     "data": {
      "text/html": [
       "<div>\n",
       "<style scoped>\n",
       "    .dataframe tbody tr th:only-of-type {\n",
       "        vertical-align: middle;\n",
       "    }\n",
       "\n",
       "    .dataframe tbody tr th {\n",
       "        vertical-align: top;\n",
       "    }\n",
       "\n",
       "    .dataframe thead th {\n",
       "        text-align: right;\n",
       "    }\n",
       "</style>\n",
       "<table border=\"1\" class=\"dataframe\">\n",
       "  <thead>\n",
       "    <tr style=\"text-align: right;\">\n",
       "      <th></th>\n",
       "      <th>Rank</th>\n",
       "      <th>Title</th>\n",
       "      <th>Artist</th>\n",
       "      <th>lyrics</th>\n",
       "    </tr>\n",
       "  </thead>\n",
       "  <tbody>\n",
       "    <tr>\n",
       "      <th>0</th>\n",
       "      <td>1</td>\n",
       "      <td>Heartless</td>\n",
       "      <td>The Weeknd</td>\n",
       "      <td>Young Metro, young Metro, young Metro (Sheesh)...</td>\n",
       "    </tr>\n",
       "    <tr>\n",
       "      <th>1</th>\n",
       "      <td>2</td>\n",
       "      <td>Circles</td>\n",
       "      <td>Post Malone</td>\n",
       "      <td>Oh, oh, oh\\nOh,  oh, oh\\nOh,  oh, oh, oh, oh\\n...</td>\n",
       "    </tr>\n",
       "    <tr>\n",
       "      <th>2</th>\n",
       "      <td>3</td>\n",
       "      <td>All I Want For Christmas Is You</td>\n",
       "      <td>Mariah Carey</td>\n",
       "      <td>I don't want a lot for Christmas\\nThere is jus...</td>\n",
       "    </tr>\n",
       "    <tr>\n",
       "      <th>3</th>\n",
       "      <td>4</td>\n",
       "      <td>Someone You Loved</td>\n",
       "      <td>Lewis Capaldi</td>\n",
       "      <td>I'm going under, and this time, I fear there's...</td>\n",
       "    </tr>\n",
       "    <tr>\n",
       "      <th>4</th>\n",
       "      <td>5</td>\n",
       "      <td>Memories</td>\n",
       "      <td>Maroon 5</td>\n",
       "      <td>Here's to the ones that we got\\nCheers to the ...</td>\n",
       "    </tr>\n",
       "    <tr>\n",
       "      <th>5</th>\n",
       "      <td>6</td>\n",
       "      <td>Good As Hell</td>\n",
       "      <td>Lizzo</td>\n",
       "      <td>I do my hair toss, check my nails\\nBaby, how y...</td>\n",
       "    </tr>\n",
       "    <tr>\n",
       "      <th>6</th>\n",
       "      <td>7</td>\n",
       "      <td>Roxanne</td>\n",
       "      <td>Arizona Zervas</td>\n",
       "      <td>All for the 'Gram\\nBitches love the 'Gram\\nOh ...</td>\n",
       "    </tr>\n",
       "    <tr>\n",
       "      <th>7</th>\n",
       "      <td>8</td>\n",
       "      <td>Rockin' Around The Christmas Tree</td>\n",
       "      <td>Brenda Lee</td>\n",
       "      <td>Rockin' around the Christmas tree\\nAt the Chri...</td>\n",
       "    </tr>\n",
       "    <tr>\n",
       "      <th>8</th>\n",
       "      <td>9</td>\n",
       "      <td>Lose You To Love Me</td>\n",
       "      <td>Selena Gomez</td>\n",
       "      <td>You promised the world and I fell for it\\nI pu...</td>\n",
       "    </tr>\n",
       "    <tr>\n",
       "      <th>9</th>\n",
       "      <td>10</td>\n",
       "      <td>10,000 Hours</td>\n",
       "      <td>Dan + Shay &amp; Justin Bieber</td>\n",
       "      <td>Do you love the rain, does it make you dance\\n...</td>\n",
       "    </tr>\n",
       "  </tbody>\n",
       "</table>\n",
       "</div>"
      ],
      "text/plain": [
       "   Rank                              Title                      Artist  \\\n",
       "0     1                          Heartless                  The Weeknd   \n",
       "1     2                            Circles                 Post Malone   \n",
       "2     3    All I Want For Christmas Is You                Mariah Carey   \n",
       "3     4                  Someone You Loved               Lewis Capaldi   \n",
       "4     5                           Memories                    Maroon 5   \n",
       "5     6                       Good As Hell                       Lizzo   \n",
       "6     7                            Roxanne              Arizona Zervas   \n",
       "7     8  Rockin' Around The Christmas Tree                  Brenda Lee   \n",
       "8     9                Lose You To Love Me                Selena Gomez   \n",
       "9    10                       10,000 Hours  Dan + Shay & Justin Bieber   \n",
       "\n",
       "                                              lyrics  \n",
       "0  Young Metro, young Metro, young Metro (Sheesh)...  \n",
       "1  Oh, oh, oh\\nOh,  oh, oh\\nOh,  oh, oh, oh, oh\\n...  \n",
       "2  I don't want a lot for Christmas\\nThere is jus...  \n",
       "3  I'm going under, and this time, I fear there's...  \n",
       "4  Here's to the ones that we got\\nCheers to the ...  \n",
       "5  I do my hair toss, check my nails\\nBaby, how y...  \n",
       "6  All for the 'Gram\\nBitches love the 'Gram\\nOh ...  \n",
       "7  Rockin' around the Christmas tree\\nAt the Chri...  \n",
       "8  You promised the world and I fell for it\\nI pu...  \n",
       "9  Do you love the rain, does it make you dance\\n...  "
      ]
     },
     "metadata": {},
     "output_type": "display_data"
    }
   ],
   "source": [
    "top100 = populate_chart_with_lyrics(top100)\n",
    "rap = populate_chart_with_lyrics(rap)\n",
    "pop = populate_chart_with_lyrics(pop)\n",
    "country = populate_chart_with_lyrics(country)\n",
    "rock = populate_chart_with_lyrics(rock)\n",
    "\n",
    "display(top100.head(10))"
   ]
  },
  {
   "cell_type": "markdown",
   "metadata": {},
   "source": [
    "```python\n",
    "def getSongRanks(year):\n",
    "    r = requests.get(f\"https://www.billboard.com/charts/year-end/{year}/hot-100-songs\")\n",
    "    if r.status_code != 200:\n",
    "        print(f\"Failed on year {year}\")\n",
    "        return\n",
    "    time.sleep(2) # If I remove this I get a \"Too Many Requests\" error from billboard.com\n",
    "    soup = BeautifulSoup(r.text, 'html.parser')\n",
    "    ranks = soup.find_all(\"div\", {\"class\": \"ye-chart-item__rank\"})\n",
    "    titles = soup.find_all(\"div\", {\"class\": \"ye-chart-item__title\"})\n",
    "    artists = soup.find_all(\"div\", {\"class\": \"ye-chart-item__artist\"})\n",
    "    ranks = [rank.text.strip() for rank in ranks]\n",
    "    titles = [title.text.strip() for title in titles]\n",
    "    artists = [artist.text.strip() for artist in artists]\n",
    "    songs = list(zip(ranks, titles, artists))\n",
    "    print(f\"Done with year {year}\")\n",
    "    return songs\n",
    "\n",
    "ranks = pd.DataFrame(columns=[\"Title\", \"Artist\", \"Year\", \"Rank\", \"lyrics\"])\n",
    "    \n",
    "year_range = range(2006, 2020)\n",
    "for year in year_range:\n",
    "    top = getSongRanks(year)\n",
    "    for (rank, title, artist) in top:\n",
    "        ranks = ranks.append({\"Title\": title, \"Artist\": artist, \"Year\": year, \"Rank\": rank, \"lyrics\": np.nan}, ignore_index=True)\n",
    "```"
   ]
  },
  {
   "cell_type": "code",
   "execution_count": 9,
   "metadata": {},
   "outputs": [],
   "source": [
    "def get_spotify_popularity(title):\n",
    "    title = title.replace(\"$\",\"s\")\n",
    "    answer = sp.search(title, type=\"track\", limit = 1)\n",
    "    track = sp.track(answer[\"tracks\"][\"items\"][0][\"id\"])\n",
    "    return track[\"popularity\"]"
   ]
  },
  {
   "cell_type": "markdown",
   "metadata": {},
   "source": [
    "The above method gets the Spotify popularity associated with a specific song. The popularity metric on Spotify is a number between 0 and 100 based on how many plays the track has and how recent those plays are. The algorithm is not publically available, but if you want to look at the API documentation it is here: https://developer.spotify.com/documentation/web-api/reference/tracks/get-track/."
   ]
  },
  {
   "cell_type": "code",
   "execution_count": 10,
   "metadata": {},
   "outputs": [],
   "source": [
    "def populate_chart_with_spotify_popularity(chart):\n",
    "    chart[\"spotify_popularity\"] = chart.apply(lambda x: get_spotify_popularity(x[\"Title\"]), axis = 1)\n",
    "    return chart"
   ]
  },
  {
   "cell_type": "markdown",
   "metadata": {},
   "source": [
    "This method adds a column to an existing dataframe of a music chart with the Spotify popularity of each song."
   ]
  },
  {
   "cell_type": "code",
   "execution_count": 11,
   "metadata": {},
   "outputs": [
    {
     "data": {
      "text/html": [
       "<div>\n",
       "<style scoped>\n",
       "    .dataframe tbody tr th:only-of-type {\n",
       "        vertical-align: middle;\n",
       "    }\n",
       "\n",
       "    .dataframe tbody tr th {\n",
       "        vertical-align: top;\n",
       "    }\n",
       "\n",
       "    .dataframe thead th {\n",
       "        text-align: right;\n",
       "    }\n",
       "</style>\n",
       "<table border=\"1\" class=\"dataframe\">\n",
       "  <thead>\n",
       "    <tr style=\"text-align: right;\">\n",
       "      <th></th>\n",
       "      <th>Rank</th>\n",
       "      <th>Title</th>\n",
       "      <th>Artist</th>\n",
       "      <th>lyrics</th>\n",
       "      <th>spotify_popularity</th>\n",
       "    </tr>\n",
       "  </thead>\n",
       "  <tbody>\n",
       "    <tr>\n",
       "      <th>0</th>\n",
       "      <td>1</td>\n",
       "      <td>Heartless</td>\n",
       "      <td>The Weeknd</td>\n",
       "      <td>Young Metro, young Metro, young Metro (Sheesh)...</td>\n",
       "      <td>94</td>\n",
       "    </tr>\n",
       "    <tr>\n",
       "      <th>1</th>\n",
       "      <td>2</td>\n",
       "      <td>Circles</td>\n",
       "      <td>Post Malone</td>\n",
       "      <td>Oh, oh, oh\\nOh,  oh, oh\\nOh,  oh, oh, oh, oh\\n...</td>\n",
       "      <td>99</td>\n",
       "    </tr>\n",
       "    <tr>\n",
       "      <th>2</th>\n",
       "      <td>3</td>\n",
       "      <td>All I Want For Christmas Is You</td>\n",
       "      <td>Mariah Carey</td>\n",
       "      <td>I don't want a lot for Christmas\\nThere is jus...</td>\n",
       "      <td>95</td>\n",
       "    </tr>\n",
       "    <tr>\n",
       "      <th>3</th>\n",
       "      <td>4</td>\n",
       "      <td>Someone You Loved</td>\n",
       "      <td>Lewis Capaldi</td>\n",
       "      <td>I'm going under, and this time, I fear there's...</td>\n",
       "      <td>96</td>\n",
       "    </tr>\n",
       "    <tr>\n",
       "      <th>4</th>\n",
       "      <td>5</td>\n",
       "      <td>Memories</td>\n",
       "      <td>Maroon 5</td>\n",
       "      <td>Here's to the ones that we got\\nCheers to the ...</td>\n",
       "      <td>100</td>\n",
       "    </tr>\n",
       "    <tr>\n",
       "      <th>5</th>\n",
       "      <td>6</td>\n",
       "      <td>Good As Hell</td>\n",
       "      <td>Lizzo</td>\n",
       "      <td>I do my hair toss, check my nails\\nBaby, how y...</td>\n",
       "      <td>86</td>\n",
       "    </tr>\n",
       "    <tr>\n",
       "      <th>6</th>\n",
       "      <td>7</td>\n",
       "      <td>Roxanne</td>\n",
       "      <td>Arizona Zervas</td>\n",
       "      <td>All for the 'Gram\\nBitches love the 'Gram\\nOh ...</td>\n",
       "      <td>98</td>\n",
       "    </tr>\n",
       "    <tr>\n",
       "      <th>7</th>\n",
       "      <td>8</td>\n",
       "      <td>Rockin' Around The Christmas Tree</td>\n",
       "      <td>Brenda Lee</td>\n",
       "      <td>Rockin' around the Christmas tree\\nAt the Chri...</td>\n",
       "      <td>90</td>\n",
       "    </tr>\n",
       "    <tr>\n",
       "      <th>8</th>\n",
       "      <td>9</td>\n",
       "      <td>Lose You To Love Me</td>\n",
       "      <td>Selena Gomez</td>\n",
       "      <td>You promised the world and I fell for it\\nI pu...</td>\n",
       "      <td>98</td>\n",
       "    </tr>\n",
       "    <tr>\n",
       "      <th>9</th>\n",
       "      <td>10</td>\n",
       "      <td>10,000 Hours</td>\n",
       "      <td>Dan + Shay &amp; Justin Bieber</td>\n",
       "      <td>Do you love the rain, does it make you dance\\n...</td>\n",
       "      <td>94</td>\n",
       "    </tr>\n",
       "  </tbody>\n",
       "</table>\n",
       "</div>"
      ],
      "text/plain": [
       "   Rank                              Title                      Artist  \\\n",
       "0     1                          Heartless                  The Weeknd   \n",
       "1     2                            Circles                 Post Malone   \n",
       "2     3    All I Want For Christmas Is You                Mariah Carey   \n",
       "3     4                  Someone You Loved               Lewis Capaldi   \n",
       "4     5                           Memories                    Maroon 5   \n",
       "5     6                       Good As Hell                       Lizzo   \n",
       "6     7                            Roxanne              Arizona Zervas   \n",
       "7     8  Rockin' Around The Christmas Tree                  Brenda Lee   \n",
       "8     9                Lose You To Love Me                Selena Gomez   \n",
       "9    10                       10,000 Hours  Dan + Shay & Justin Bieber   \n",
       "\n",
       "                                              lyrics  spotify_popularity  \n",
       "0  Young Metro, young Metro, young Metro (Sheesh)...                  94  \n",
       "1  Oh, oh, oh\\nOh,  oh, oh\\nOh,  oh, oh, oh, oh\\n...                  99  \n",
       "2  I don't want a lot for Christmas\\nThere is jus...                  95  \n",
       "3  I'm going under, and this time, I fear there's...                  96  \n",
       "4  Here's to the ones that we got\\nCheers to the ...                 100  \n",
       "5  I do my hair toss, check my nails\\nBaby, how y...                  86  \n",
       "6  All for the 'Gram\\nBitches love the 'Gram\\nOh ...                  98  \n",
       "7  Rockin' around the Christmas tree\\nAt the Chri...                  90  \n",
       "8  You promised the world and I fell for it\\nI pu...                  98  \n",
       "9  Do you love the rain, does it make you dance\\n...                  94  "
      ]
     },
     "metadata": {},
     "output_type": "display_data"
    }
   ],
   "source": [
    "top100 = populate_chart_with_spotify_popularity(top100)\n",
    "rap = populate_chart_with_spotify_popularity(rap)\n",
    "pop = populate_chart_with_spotify_popularity(pop)\n",
    "country = populate_chart_with_spotify_popularity(country)\n",
    "rock = populate_chart_with_spotify_popularity(rock)\n",
    "\n",
    "display(top100.head(10))"
   ]
  },
  {
   "cell_type": "code",
   "execution_count": 281,
   "metadata": {},
   "outputs": [
    {
     "data": {
      "image/png": "[encoded data removed]",
      "text/plain": [
       "<Figure size 432x288 with 1 Axes>"
      ]
     },
     "metadata": {
      "needs_background": "light"
     },
     "output_type": "display_data"
    },
    {
     "data": {
      "image/png": "[encoded data removed]",
      "text/plain": [
       "<Figure size 432x288 with 1 Axes>"
      ]
     },
     "metadata": {
      "needs_background": "light"
     },
     "output_type": "display_data"
    },
    {
     "data": {
      "image/png": "[encoded data removed]",
      "text/plain": [
       "<Figure size 432x288 with 1 Axes>"
      ]
     },
     "metadata": {
      "needs_background": "light"
     },
     "output_type": "display_data"
    },
    {
     "data": {
      "image/png": "[encoded data removed]",
      "text/plain": [
       "<Figure size 432x288 with 1 Axes>"
      ]
     },
     "metadata": {
      "needs_background": "light"
     },
     "output_type": "display_data"
    },
    {
     "data": {
      "image/png": "[encoded data removed]",
      "text/plain": [
       "<Figure size 432x288 with 1 Axes>"
      ]
     },
     "metadata": {
      "needs_background": "light"
     },
     "output_type": "display_data"
    }
   ],
   "source": [
    "plt.scatter('Rank', 'spotify_popularity', data=top100)\n",
    "plt.title('Rank vs Spotify Popularity in Top 100 Chart')\n",
    "plt.show()\n",
    "\n",
    "plt.scatter('Rank', 'spotify_popularity', data=rap)\n",
    "plt.title(\"Rank vs Spotify Popularity in Rap Chart\")\n",
    "plt.show()\n",
    "\n",
    "plt.scatter('Rank', 'spotify_popularity', data=pop)\n",
    "plt.title(\"Rank vs Spotify Popularity in Pop Chart\")\n",
    "plt.show()\n",
    "\n",
    "plt.scatter('Rank', 'spotify_popularity', data=country)\n",
    "plt.title(\"Rank vs Spotify Popularity in Country Chart\")\n",
    "plt.show()\n",
    "\n",
    "plt.scatter('Rank', 'spotify_popularity', data=rock)\n",
    "plt.title(\"Rank vs Spotify Popularity in Rock Chart\")\n",
    "plt.show()"
   ]
  },
  {
   "cell_type": "markdown",
   "metadata": {},
   "source": [
    "In the charts above, we explore the relationship between the chart ranking and the level of popularity on Spotify for multiple genres and the Top 100 chart. We expected that the well-ranked songs would also be heavily listened to recently on Spotify. This absolutely turned out to be the case, especially with the very well-ranked songs in the first through tenth ranking spots for all of the genre charts and the Top 100 chart. Surprisingly, this was more so the case with specific genres, namely rap and pop, than it was in country and rock. This could likely be explained by the fact that more people that use Spotify listen to rap and pop than country and rock, so these genres likely suffer an inherent Spotify popularity point loss (we guess this since the Spotify documentation states that they use number of listens, in part, to determine a song's Spotify popularity)."
   ]
  },
  {
   "cell_type": "code",
   "execution_count": 13,
   "metadata": {},
   "outputs": [],
   "source": [
    "def create_term_doc_matrix(chart):\n",
    "    lyrics = chart[\"lyrics\"].to_list()\n",
    "    vec = CountVectorizer()\n",
    "    X = vec.fit_transform(lyrics)\n",
    "    termdocmatrix = pd.DataFrame(X.toarray(), columns=vec.get_feature_names(), index=chart.Title)\n",
    "    return termdocmatrix"
   ]
  },
  {
   "cell_type": "code",
   "execution_count": 14,
   "metadata": {},
   "outputs": [
    {
     "data": {
      "text/html": [
       "<div>\n",
       "<style scoped>\n",
       "    .dataframe tbody tr th:only-of-type {\n",
       "        vertical-align: middle;\n",
       "    }\n",
       "\n",
       "    .dataframe tbody tr th {\n",
       "        vertical-align: top;\n",
       "    }\n",
       "\n",
       "    .dataframe thead th {\n",
       "        text-align: right;\n",
       "    }\n",
       "</style>\n",
       "<table border=\"1\" class=\"dataframe\">\n",
       "  <thead>\n",
       "    <tr style=\"text-align: right;\">\n",
       "      <th></th>\n",
       "      <th>000</th>\n",
       "      <th>02</th>\n",
       "      <th>10</th>\n",
       "      <th>100</th>\n",
       "      <th>101</th>\n",
       "      <th>10k</th>\n",
       "      <th>11</th>\n",
       "      <th>12</th>\n",
       "      <th>12am</th>\n",
       "      <th>14</th>\n",
       "      <th>...</th>\n",
       "      <th>yvncc</th>\n",
       "      <th>zaar</th>\n",
       "      <th>zella</th>\n",
       "      <th>zervas</th>\n",
       "      <th>zhu</th>\n",
       "      <th>zombie</th>\n",
       "      <th>zoom</th>\n",
       "      <th>zumban</th>\n",
       "      <th>él</th>\n",
       "      <th>íta</th>\n",
       "    </tr>\n",
       "    <tr>\n",
       "      <th>Title</th>\n",
       "      <th></th>\n",
       "      <th></th>\n",
       "      <th></th>\n",
       "      <th></th>\n",
       "      <th></th>\n",
       "      <th></th>\n",
       "      <th></th>\n",
       "      <th></th>\n",
       "      <th></th>\n",
       "      <th></th>\n",
       "      <th></th>\n",
       "      <th></th>\n",
       "      <th></th>\n",
       "      <th></th>\n",
       "      <th></th>\n",
       "      <th></th>\n",
       "      <th></th>\n",
       "      <th></th>\n",
       "      <th></th>\n",
       "      <th></th>\n",
       "      <th></th>\n",
       "    </tr>\n",
       "  </thead>\n",
       "  <tbody>\n",
       "    <tr>\n",
       "      <th>Heartless</th>\n",
       "      <td>0</td>\n",
       "      <td>0</td>\n",
       "      <td>0</td>\n",
       "      <td>0</td>\n",
       "      <td>0</td>\n",
       "      <td>0</td>\n",
       "      <td>0</td>\n",
       "      <td>0</td>\n",
       "      <td>0</td>\n",
       "      <td>0</td>\n",
       "      <td>...</td>\n",
       "      <td>0</td>\n",
       "      <td>1</td>\n",
       "      <td>0</td>\n",
       "      <td>0</td>\n",
       "      <td>0</td>\n",
       "      <td>0</td>\n",
       "      <td>0</td>\n",
       "      <td>0</td>\n",
       "      <td>0</td>\n",
       "      <td>0</td>\n",
       "    </tr>\n",
       "    <tr>\n",
       "      <th>Circles</th>\n",
       "      <td>0</td>\n",
       "      <td>0</td>\n",
       "      <td>0</td>\n",
       "      <td>0</td>\n",
       "      <td>0</td>\n",
       "      <td>0</td>\n",
       "      <td>0</td>\n",
       "      <td>0</td>\n",
       "      <td>0</td>\n",
       "      <td>0</td>\n",
       "      <td>...</td>\n",
       "      <td>0</td>\n",
       "      <td>0</td>\n",
       "      <td>0</td>\n",
       "      <td>0</td>\n",
       "      <td>0</td>\n",
       "      <td>0</td>\n",
       "      <td>0</td>\n",
       "      <td>0</td>\n",
       "      <td>0</td>\n",
       "      <td>0</td>\n",
       "    </tr>\n",
       "    <tr>\n",
       "      <th>All I Want For Christmas Is You</th>\n",
       "      <td>0</td>\n",
       "      <td>0</td>\n",
       "      <td>0</td>\n",
       "      <td>0</td>\n",
       "      <td>0</td>\n",
       "      <td>0</td>\n",
       "      <td>0</td>\n",
       "      <td>0</td>\n",
       "      <td>0</td>\n",
       "      <td>0</td>\n",
       "      <td>...</td>\n",
       "      <td>0</td>\n",
       "      <td>0</td>\n",
       "      <td>0</td>\n",
       "      <td>0</td>\n",
       "      <td>0</td>\n",
       "      <td>0</td>\n",
       "      <td>0</td>\n",
       "      <td>0</td>\n",
       "      <td>0</td>\n",
       "      <td>0</td>\n",
       "    </tr>\n",
       "    <tr>\n",
       "      <th>Someone You Loved</th>\n",
       "      <td>0</td>\n",
       "      <td>0</td>\n",
       "      <td>0</td>\n",
       "      <td>0</td>\n",
       "      <td>0</td>\n",
       "      <td>0</td>\n",
       "      <td>0</td>\n",
       "      <td>0</td>\n",
       "      <td>0</td>\n",
       "      <td>0</td>\n",
       "      <td>...</td>\n",
       "      <td>0</td>\n",
       "      <td>0</td>\n",
       "      <td>0</td>\n",
       "      <td>0</td>\n",
       "      <td>0</td>\n",
       "      <td>0</td>\n",
       "      <td>0</td>\n",
       "      <td>0</td>\n",
       "      <td>0</td>\n",
       "      <td>0</td>\n",
       "    </tr>\n",
       "    <tr>\n",
       "      <th>Memories</th>\n",
       "      <td>0</td>\n",
       "      <td>0</td>\n",
       "      <td>0</td>\n",
       "      <td>0</td>\n",
       "      <td>0</td>\n",
       "      <td>0</td>\n",
       "      <td>0</td>\n",
       "      <td>0</td>\n",
       "      <td>0</td>\n",
       "      <td>0</td>\n",
       "      <td>...</td>\n",
       "      <td>0</td>\n",
       "      <td>0</td>\n",
       "      <td>0</td>\n",
       "      <td>0</td>\n",
       "      <td>0</td>\n",
       "      <td>0</td>\n",
       "      <td>0</td>\n",
       "      <td>0</td>\n",
       "      <td>0</td>\n",
       "      <td>0</td>\n",
       "    </tr>\n",
       "  </tbody>\n",
       "</table>\n",
       "<p>5 rows × 4161 columns</p>\n",
       "</div>"
      ],
      "text/plain": [
       "                                 000  02  10  100  101  10k  11  12  12am  14  \\\n",
       "Title                                                                           \n",
       "Heartless                          0   0   0    0    0    0   0   0     0   0   \n",
       "Circles                            0   0   0    0    0    0   0   0     0   0   \n",
       "All I Want For Christmas Is You    0   0   0    0    0    0   0   0     0   0   \n",
       "Someone You Loved                  0   0   0    0    0    0   0   0     0   0   \n",
       "Memories                           0   0   0    0    0    0   0   0     0   0   \n",
       "\n",
       "                                 ...  yvncc  zaar  zella  zervas  zhu  zombie  \\\n",
       "Title                            ...                                            \n",
       "Heartless                        ...      0     1      0       0    0       0   \n",
       "Circles                          ...      0     0      0       0    0       0   \n",
       "All I Want For Christmas Is You  ...      0     0      0       0    0       0   \n",
       "Someone You Loved                ...      0     0      0       0    0       0   \n",
       "Memories                         ...      0     0      0       0    0       0   \n",
       "\n",
       "                                 zoom  zumban  él  íta  \n",
       "Title                                                   \n",
       "Heartless                           0       0   0    0  \n",
       "Circles                             0       0   0    0  \n",
       "All I Want For Christmas Is You     0       0   0    0  \n",
       "Someone You Loved                   0       0   0    0  \n",
       "Memories                            0       0   0    0  \n",
       "\n",
       "[5 rows x 4161 columns]"
      ]
     },
     "execution_count": 14,
     "metadata": {},
     "output_type": "execute_result"
    }
   ],
   "source": [
    "top100 = top100[top100.lyrics != \"Failed to Find Lyrics\"]\n",
    "create_term_doc_matrix(top100).head()"
   ]
  },
  {
   "cell_type": "markdown",
   "metadata": {},
   "source": [
    "This method creates a term-document matrix, which is a matrix that has every word in every song in the dataframe as a column and then the count of how many times each word appeared in a specific songas the value for each row, which in our case is a song. If you want to read further about term-document matrices here is a short blog post that explains the idea https://www.darrinbishop.com/blog/2017/10/text-analytics-document-term-matrix/."
   ]
  },
  {
   "cell_type": "code",
   "execution_count": 15,
   "metadata": {},
   "outputs": [],
   "source": [
    "def create_tfidf(chart):\n",
    "    lyrics = chart[\"lyrics\"].to_list()\n",
    "    vectorizer = TfidfVectorizer()\n",
    "    doc_vec = vectorizer.fit_transform(lyrics)\n",
    "    tfidf = pd.DataFrame(doc_vec.toarray().transpose(), index=vectorizer.get_feature_names())\n",
    "    tfidf.columns = chart[\"Title\"]\n",
    "    return tfidf"
   ]
  },
  {
   "cell_type": "code",
   "execution_count": 16,
   "metadata": {},
   "outputs": [
    {
     "data": {
      "text/html": [
       "<div>\n",
       "<style scoped>\n",
       "    .dataframe tbody tr th:only-of-type {\n",
       "        vertical-align: middle;\n",
       "    }\n",
       "\n",
       "    .dataframe tbody tr th {\n",
       "        vertical-align: top;\n",
       "    }\n",
       "\n",
       "    .dataframe thead th {\n",
       "        text-align: right;\n",
       "    }\n",
       "</style>\n",
       "<table border=\"1\" class=\"dataframe\">\n",
       "  <thead>\n",
       "    <tr style=\"text-align: right;\">\n",
       "      <th>Title</th>\n",
       "      <th>Heartless</th>\n",
       "      <th>Circles</th>\n",
       "      <th>All I Want For Christmas Is You</th>\n",
       "      <th>Someone You Loved</th>\n",
       "      <th>Memories</th>\n",
       "      <th>Good As Hell</th>\n",
       "      <th>Roxanne</th>\n",
       "      <th>Rockin' Around The Christmas Tree</th>\n",
       "      <th>Lose You To Love Me</th>\n",
       "      <th>10,000 Hours</th>\n",
       "      <th>...</th>\n",
       "      <th>Follow God</th>\n",
       "      <th>Cuban Links</th>\n",
       "      <th>F.N</th>\n",
       "      <th>Candy</th>\n",
       "      <th>Tusa</th>\n",
       "      <th>Make No Sense</th>\n",
       "      <th>Jerry Sprunger</th>\n",
       "      <th>RITMO (Bad Boys For Life)</th>\n",
       "      <th>Into The Unknown</th>\n",
       "      <th>La Cancion</th>\n",
       "    </tr>\n",
       "  </thead>\n",
       "  <tbody>\n",
       "    <tr>\n",
       "      <th>000</th>\n",
       "      <td>0.0</td>\n",
       "      <td>0.0</td>\n",
       "      <td>0.0</td>\n",
       "      <td>0.0</td>\n",
       "      <td>0.0</td>\n",
       "      <td>0.0</td>\n",
       "      <td>0.0</td>\n",
       "      <td>0.0</td>\n",
       "      <td>0.0</td>\n",
       "      <td>0.0</td>\n",
       "      <td>...</td>\n",
       "      <td>0.0</td>\n",
       "      <td>0.0</td>\n",
       "      <td>0.0</td>\n",
       "      <td>0.0</td>\n",
       "      <td>0.0</td>\n",
       "      <td>0.0</td>\n",
       "      <td>0.0</td>\n",
       "      <td>0.008207</td>\n",
       "      <td>0.0</td>\n",
       "      <td>0.0</td>\n",
       "    </tr>\n",
       "    <tr>\n",
       "      <th>02</th>\n",
       "      <td>0.0</td>\n",
       "      <td>0.0</td>\n",
       "      <td>0.0</td>\n",
       "      <td>0.0</td>\n",
       "      <td>0.0</td>\n",
       "      <td>0.0</td>\n",
       "      <td>0.0</td>\n",
       "      <td>0.0</td>\n",
       "      <td>0.0</td>\n",
       "      <td>0.0</td>\n",
       "      <td>...</td>\n",
       "      <td>0.0</td>\n",
       "      <td>0.0</td>\n",
       "      <td>0.0</td>\n",
       "      <td>0.0</td>\n",
       "      <td>0.0</td>\n",
       "      <td>0.0</td>\n",
       "      <td>0.0</td>\n",
       "      <td>0.008207</td>\n",
       "      <td>0.0</td>\n",
       "      <td>0.0</td>\n",
       "    </tr>\n",
       "    <tr>\n",
       "      <th>10</th>\n",
       "      <td>0.0</td>\n",
       "      <td>0.0</td>\n",
       "      <td>0.0</td>\n",
       "      <td>0.0</td>\n",
       "      <td>0.0</td>\n",
       "      <td>0.0</td>\n",
       "      <td>0.0</td>\n",
       "      <td>0.0</td>\n",
       "      <td>0.0</td>\n",
       "      <td>0.0</td>\n",
       "      <td>...</td>\n",
       "      <td>0.0</td>\n",
       "      <td>0.0</td>\n",
       "      <td>0.0</td>\n",
       "      <td>0.0</td>\n",
       "      <td>0.0</td>\n",
       "      <td>0.0</td>\n",
       "      <td>0.0</td>\n",
       "      <td>0.248512</td>\n",
       "      <td>0.0</td>\n",
       "      <td>0.0</td>\n",
       "    </tr>\n",
       "    <tr>\n",
       "      <th>100</th>\n",
       "      <td>0.0</td>\n",
       "      <td>0.0</td>\n",
       "      <td>0.0</td>\n",
       "      <td>0.0</td>\n",
       "      <td>0.0</td>\n",
       "      <td>0.0</td>\n",
       "      <td>0.0</td>\n",
       "      <td>0.0</td>\n",
       "      <td>0.0</td>\n",
       "      <td>0.0</td>\n",
       "      <td>...</td>\n",
       "      <td>0.0</td>\n",
       "      <td>0.0</td>\n",
       "      <td>0.0</td>\n",
       "      <td>0.0</td>\n",
       "      <td>0.0</td>\n",
       "      <td>0.0</td>\n",
       "      <td>0.0</td>\n",
       "      <td>0.000000</td>\n",
       "      <td>0.0</td>\n",
       "      <td>0.0</td>\n",
       "    </tr>\n",
       "    <tr>\n",
       "      <th>101</th>\n",
       "      <td>0.0</td>\n",
       "      <td>0.0</td>\n",
       "      <td>0.0</td>\n",
       "      <td>0.0</td>\n",
       "      <td>0.0</td>\n",
       "      <td>0.0</td>\n",
       "      <td>0.0</td>\n",
       "      <td>0.0</td>\n",
       "      <td>0.0</td>\n",
       "      <td>0.0</td>\n",
       "      <td>...</td>\n",
       "      <td>0.0</td>\n",
       "      <td>0.0</td>\n",
       "      <td>0.0</td>\n",
       "      <td>0.0</td>\n",
       "      <td>0.0</td>\n",
       "      <td>0.0</td>\n",
       "      <td>0.0</td>\n",
       "      <td>0.000000</td>\n",
       "      <td>0.0</td>\n",
       "      <td>0.0</td>\n",
       "    </tr>\n",
       "  </tbody>\n",
       "</table>\n",
       "<p>5 rows × 100 columns</p>\n",
       "</div>"
      ],
      "text/plain": [
       "Title  Heartless  Circles  All I Want For Christmas Is You  Someone You Loved  \\\n",
       "000          0.0      0.0                              0.0                0.0   \n",
       "02           0.0      0.0                              0.0                0.0   \n",
       "10           0.0      0.0                              0.0                0.0   \n",
       "100          0.0      0.0                              0.0                0.0   \n",
       "101          0.0      0.0                              0.0                0.0   \n",
       "\n",
       "Title  Memories  Good As Hell  Roxanne  Rockin' Around The Christmas Tree  \\\n",
       "000         0.0           0.0      0.0                                0.0   \n",
       "02          0.0           0.0      0.0                                0.0   \n",
       "10          0.0           0.0      0.0                                0.0   \n",
       "100         0.0           0.0      0.0                                0.0   \n",
       "101         0.0           0.0      0.0                                0.0   \n",
       "\n",
       "Title  Lose You To Love Me  10,000 Hours  ...  Follow God  Cuban Links  F.N  \\\n",
       "000                    0.0           0.0  ...         0.0          0.0  0.0   \n",
       "02                     0.0           0.0  ...         0.0          0.0  0.0   \n",
       "10                     0.0           0.0  ...         0.0          0.0  0.0   \n",
       "100                    0.0           0.0  ...         0.0          0.0  0.0   \n",
       "101                    0.0           0.0  ...         0.0          0.0  0.0   \n",
       "\n",
       "Title  Candy  Tusa  Make No Sense  Jerry Sprunger  RITMO (Bad Boys For Life)  \\\n",
       "000      0.0   0.0            0.0             0.0                   0.008207   \n",
       "02       0.0   0.0            0.0             0.0                   0.008207   \n",
       "10       0.0   0.0            0.0             0.0                   0.248512   \n",
       "100      0.0   0.0            0.0             0.0                   0.000000   \n",
       "101      0.0   0.0            0.0             0.0                   0.000000   \n",
       "\n",
       "Title  Into The Unknown  La Cancion  \n",
       "000                 0.0         0.0  \n",
       "02                  0.0         0.0  \n",
       "10                  0.0         0.0  \n",
       "100                 0.0         0.0  \n",
       "101                 0.0         0.0  \n",
       "\n",
       "[5 rows x 100 columns]"
      ]
     },
     "execution_count": 16,
     "metadata": {},
     "output_type": "execute_result"
    }
   ],
   "source": [
    "tfidf = create_tfidf(top100)\n",
    "tfidf.head()"
   ]
  },
  {
   "cell_type": "markdown",
   "metadata": {},
   "source": [
    "This method creates a term frequency-inverse document frequency (tf-idf) matrix. This is done by multiplying the term frequency score for each value by the inverse document frequency score of each value. The term frquency is calculated for each word in each song by counting the number of times the word appears in the song and dividing it by the total number of words in the song. The idf score is the inverse document frequency of a word, which is defined as the log(# of documents or in this case songs/ # of documents with the word in them). These matrices are used to determine the importance of a word to a song based off how often it is used in the song itself and in the other songs in the dataframe. A word is more important if it is only used by a single song in the dataframe. If you want to read more about tf-idf matrices here is a good resource: http://www.tfidf.com/."
   ]
  },
  {
   "cell_type": "code",
   "execution_count": 17,
   "metadata": {},
   "outputs": [],
   "source": [
    "def average_cosine_similarity(tfidf):\n",
    "    similarity = 0\n",
    "    count = 0\n",
    "    for index in range(tfidf.shape[1]):\n",
    "        col = tfidf.iloc[: , index]\n",
    "        for ind2 in range(index + 1, tfidf.shape[1]):\n",
    "            col2 = tfidf.iloc[: , ind2]\n",
    "            similarity = similarity + np.dot(col.values,col2.values)/(np.linalg.norm(col.values)*np.linalg.norm(col2.values))\n",
    "            count = count + 1\n",
    "    return similarity/count"
   ]
  },
  {
   "cell_type": "markdown",
   "metadata": {},
   "source": [
    "This method calculates the average pairwise cosine similarity for each song in the chart. Cosine similarity is a measure of the similarity between two different songs x and y. It is calculated by similarity(x,y) = $\\frac{x^Ty}{|x| * |y|}$. This gives a value between 0 and 1, with 0 meaning the vectors are not related at all and 1 meaning the vectors are the same. If you want to read more about cosine similarity you can look here: https://www.machinelearningplus.com/nlp/cosine-similarity/."
   ]
  },
  {
   "cell_type": "code",
   "execution_count": 18,
   "metadata": {},
   "outputs": [],
   "source": [
    "def top_pairwise_cosine_similarity(tfidf):\n",
    "    similarity = 0\n",
    "    songs = []\n",
    "    for index in range(tfidf.shape[1]):\n",
    "        col = tfidf.iloc[: , index]\n",
    "        for ind2 in range(index + 1, tfidf.shape[1]):\n",
    "            col2 = tfidf.iloc[: , ind2]\n",
    "            temp = np.dot(col.values,col2.values)/(np.linalg.norm(col.values)*np.linalg.norm(col2.values))\n",
    "            if temp > similarity:\n",
    "                similarity = temp\n",
    "                names = [col.name,col2.name]\n",
    "    return similarity, names"
   ]
  },
  {
   "cell_type": "markdown",
   "metadata": {},
   "source": [
    "This method calculates and returns the cosine similarity for the most similar pair of songs in the chart and the names of the two songs that were the most similar."
   ]
  },
  {
   "cell_type": "code",
   "execution_count": 19,
   "metadata": {},
   "outputs": [
    {
     "data": {
      "text/plain": [
       "<matplotlib.axes._subplots.AxesSubplot at 0x7f7477e4a6d8>"
      ]
     },
     "execution_count": 19,
     "metadata": {},
     "output_type": "execute_result"
    },
    {
     "data": {
      "image/png": "[encoded data removed]",
      "text/plain": [
       "<Figure size 432x288 with 1 Axes>"
      ]
     },
     "metadata": {
      "needs_background": "light"
     },
     "output_type": "display_data"
    }
   ],
   "source": [
    "x = np.array([\"top100\", \"pop\", \"country\", \"rap\", \"rock\"])\n",
    "y = []\n",
    "y.append(average_cosine_similarity(create_tfidf(top100)))\n",
    "y.append(average_cosine_similarity(create_tfidf(pop)))\n",
    "y.append(average_cosine_similarity(create_tfidf(country)))\n",
    "y.append(average_cosine_similarity(create_tfidf(rap)))\n",
    "y.append(average_cosine_similarity(create_tfidf(rock)))\n",
    "y = np.array(y)\n",
    "sns.barplot(x=x, y=y)"
   ]
  },
  {
   "cell_type": "markdown",
   "metadata": {},
   "source": [
    "This chart shows the average pairwise cosine similarity over the five different charts we are looking at. This means that the cosine similarity was calculated bewteen every pair of songs in each chart and then the average was taken for all of those values. It is interesting to see that rap has the most similarity between all of the songs in its top chart and then  the second highest similarity is pop. The top100, rock and country all have similar average simalirty scores. The fact that all of these scors are relatively low as the largest one is less than .2 means that songs in the same genre or on the top100 chart are often very different in their lyrics."
   ]
  },
  {
   "cell_type": "code",
   "execution_count": 20,
   "metadata": {},
   "outputs": [
    {
     "name": "stdout",
     "output_type": "stream",
     "text": [
      "top100's most similar pair of songs is Into The Unknown and Into The Unknown\n",
      "pop's most similar pair of songs is Panini and Take What You Want\n",
      "country's most similar pair of songs is I Hope and I Hope You're Happy Now\n",
      "rap's most similar pair of songs is Death and 223's\n",
      "rock's most similar pair of songs is Under The Graveyard and Legendary\n"
     ]
    },
    {
     "data": {
      "image/png": "[encoded data removed]",
      "text/plain": [
       "<Figure size 432x288 with 1 Axes>"
      ]
     },
     "metadata": {
      "needs_background": "light"
     },
     "output_type": "display_data"
    }
   ],
   "source": [
    "x = np.array([\"top100\", \"pop\", \"country\", \"rap\", \"rock\"])\n",
    "y = []\n",
    "z = {}\n",
    "score,names = top_pairwise_cosine_similarity(create_tfidf(top100))\n",
    "y.append(score)\n",
    "z[\"top100\"] = names\n",
    "score,names = top_pairwise_cosine_similarity(create_tfidf(pop))\n",
    "y.append(score)\n",
    "z[\"pop\"] = names\n",
    "score,names = top_pairwise_cosine_similarity(create_tfidf(country))\n",
    "y.append(score)\n",
    "z[\"country\"] = names\n",
    "score,names = top_pairwise_cosine_similarity(create_tfidf(rap))\n",
    "y.append(score)\n",
    "z[\"rap\"] = names\n",
    "score,names = top_pairwise_cosine_similarity(create_tfidf(rock))\n",
    "y.append(score)\n",
    "z[\"rock\"] = names\n",
    "y = np.array(y)\n",
    "sns.barplot(x=x, y=y)\n",
    "for chart in z:\n",
    "    print(chart + \"'s most similar pair of songs is \" + z[chart][0] + \" and \" + z[chart][1])"
   ]
  },
  {
   "cell_type": "markdown",
   "metadata": {},
   "source": [
    "The graph shows that the top100 has the most similar pair of songs by far than any other chart. This is due to the fact that two different versions of the same song are both on the Billboard top100 chart, so this is a bit of an outlier and does not normally occur. It is interesting to see that rap has the lowest max similarity between any pair of songs as it was the chart that had the highest average pairwise similarity out of all of the charts. Also, the fact that the max similarity value is usually around .5 shows that there is significant overlap between certain songs in the same genre."
   ]
  },
  {
   "cell_type": "code",
   "execution_count": 21,
   "metadata": {},
   "outputs": [],
   "source": [
    "def percent_of_top_100(songs):\n",
    "    count = 0\n",
    "    len = songs.shape[0] #num of rows\n",
    "    \n",
    "    for index, row in songs.iterrows():\n",
    "        if ((top100['Title'] == row['Title']) & (top100['Artist'] == row['Artist'])).any():\n",
    "            count += 1\n",
    "            \n",
    "    return count / 100"
   ]
  },
  {
   "cell_type": "code",
   "execution_count": 22,
   "metadata": {},
   "outputs": [
    {
     "data": {
      "text/plain": [
       "0.0"
      ]
     },
     "metadata": {},
     "output_type": "display_data"
    },
    {
     "data": {
      "text/plain": [
       "0.27"
      ]
     },
     "metadata": {},
     "output_type": "display_data"
    },
    {
     "data": {
      "text/plain": [
       "0.12"
      ]
     },
     "metadata": {},
     "output_type": "display_data"
    }
   ],
   "source": [
    "# create a histogram\n",
    "display(percent_of_top_100(rock))\n",
    "display(percent_of_top_100(pop))\n",
    "display(percent_of_top_100(country))"
   ]
  },
  {
   "cell_type": "code",
   "execution_count": 23,
   "metadata": {},
   "outputs": [],
   "source": [
    "def get_lyric_len(chart):\n",
    "    return create_term_doc_matrix(chart).sum(axis = 1, skipna = True)"
   ]
  },
  {
   "cell_type": "code",
   "execution_count": 24,
   "metadata": {},
   "outputs": [],
   "source": [
    "def get_chart_word_count(chart):\n",
    "    return create_term_doc_matrix(chart).sum(axis = 0, skipna = True)\n",
    "\n",
    "def find_most_freq_words(chart):\n",
    "    counts = get_chart_word_count(chart)\n",
    "    return counts.nlargest(10) "
   ]
  },
  {
   "cell_type": "code",
   "execution_count": 25,
   "metadata": {},
   "outputs": [],
   "source": [
    "def create_word_freq_chart(chart):\n",
    "    freq = find_most_freq_words(chart)\n",
    "    freq = pd.DataFrame({'words':freq.index, 'word_cnt':freq.values})\n",
    "    sns.barplot(x=\"words\", y=\"word_cnt\", data=freq)"
   ]
  },
  {
   "cell_type": "code",
   "execution_count": 26,
   "metadata": {},
   "outputs": [
    {
     "data": {
      "image/png": "[encoded data removed]",
      "text/plain": [
       "<Figure size 432x288 with 1 Axes>"
      ]
     },
     "metadata": {
      "needs_background": "light"
     },
     "output_type": "display_data"
    }
   ],
   "source": [
    "create_word_freq_chart(rock)"
   ]
  },
  {
   "cell_type": "code",
   "execution_count": 27,
   "metadata": {},
   "outputs": [
    {
     "data": {
      "image/png": "[encoded data removed]",
      "text/plain": [
       "<Figure size 432x288 with 1 Axes>"
      ]
     },
     "metadata": {
      "needs_background": "light"
     },
     "output_type": "display_data"
    }
   ],
   "source": [
    "create_word_freq_chart(pop)"
   ]
  },
  {
   "cell_type": "code",
   "execution_count": 28,
   "metadata": {},
   "outputs": [
    {
     "data": {
      "image/png": "[encoded data removed]",
      "text/plain": [
       "<Figure size 432x288 with 1 Axes>"
      ]
     },
     "metadata": {
      "needs_background": "light"
     },
     "output_type": "display_data"
    }
   ],
   "source": [
    "create_word_freq_chart(country)"
   ]
  },
  {
   "cell_type": "code",
   "execution_count": 29,
   "metadata": {},
   "outputs": [
    {
     "data": {
      "image/png": "[encoded data removed]",
      "text/plain": [
       "<Figure size 432x288 with 1 Axes>"
      ]
     },
     "metadata": {
      "needs_background": "light"
     },
     "output_type": "display_data"
    }
   ],
   "source": [
    "create_word_freq_chart(rap)"
   ]
  },
  {
   "cell_type": "code",
   "execution_count": 30,
   "metadata": {},
   "outputs": [
    {
     "data": {
      "image/png": "[encoded data removed]",
      "text/plain": [
       "<Figure size 432x288 with 1 Axes>"
      ]
     },
     "metadata": {
      "needs_background": "light"
     },
     "output_type": "display_data"
    }
   ],
   "source": [
    "create_word_freq_chart(top100)"
   ]
  },
  {
   "cell_type": "code",
   "execution_count": 39,
   "metadata": {},
   "outputs": [],
   "source": [
    "def find_most_freq_key_words(chart): #This removes unimportant words such as a, an, to, the, etc... \n",
    "    words = ['a', 'an', 'the','that','you','of', 'it', 'my', 'yeah', 'all', 'that', 'to', 'on', 'and', 'oh', 'be', 'in', 'when', 're', 'but', 'can', 'for', 'so']\n",
    "    stop_words = set(stopwords.words('english'))\n",
    "    other_words_to_remove = ['oh', 'yeah', 'like', 'go', 'ah', 'ft', 'ooh', 'cause', 'got', 'gonna', 'me', 'we', 'don', 'with', 'get', 'doo', 'let', 'wanna', 'us', 'la', 'uh', 'want', 'ayy']\n",
    "    for word in other_words_to_remove:\n",
    "        stop_words.add(word)\n",
    "    counts = get_chart_word_count(chart)\n",
    "    counts = counts[~counts.index.isin(stop_words)]\n",
    "    return counts.nlargest(10)"
   ]
  },
  {
   "cell_type": "code",
   "execution_count": 40,
   "metadata": {},
   "outputs": [],
   "source": [
    "def create_word_key_chart(chart):\n",
    "    freq = find_most_freq_key_words(chart)\n",
    "    freq = pd.DataFrame({'words':freq.index, 'word_cnt':freq.values})\n",
    "    sns.barplot(x=\"words\", y=\"word_cnt\", data=freq)"
   ]
  },
  {
   "cell_type": "code",
   "execution_count": 41,
   "metadata": {},
   "outputs": [
    {
     "data": {
      "image/png": "[encoded data removed]",
      "text/plain": [
       "<Figure size 432x288 with 1 Axes>"
      ]
     },
     "metadata": {
      "needs_background": "light"
     },
     "output_type": "display_data"
    }
   ],
   "source": [
    "create_word_key_chart(rock)"
   ]
  },
  {
   "cell_type": "code",
   "execution_count": 42,
   "metadata": {},
   "outputs": [
    {
     "data": {
      "image/png": "[encoded data removed]",
      "text/plain": [
       "<Figure size 432x288 with 1 Axes>"
      ]
     },
     "metadata": {
      "needs_background": "light"
     },
     "output_type": "display_data"
    }
   ],
   "source": [
    "create_word_key_chart(pop)"
   ]
  },
  {
   "cell_type": "code",
   "execution_count": 43,
   "metadata": {},
   "outputs": [
    {
     "data": {
      "image/png": "[encoded data removed]",
      "text/plain": [
       "<Figure size 432x288 with 1 Axes>"
      ]
     },
     "metadata": {
      "needs_background": "light"
     },
     "output_type": "display_data"
    }
   ],
   "source": [
    "create_word_key_chart(country)"
   ]
  },
  {
   "cell_type": "code",
   "execution_count": 44,
   "metadata": {},
   "outputs": [
    {
     "data": {
      "image/png": "[encoded data removed]",
      "text/plain": [
       "<Figure size 432x288 with 1 Axes>"
      ]
     },
     "metadata": {
      "needs_background": "light"
     },
     "output_type": "display_data"
    }
   ],
   "source": [
    "create_word_key_chart(rap)"
   ]
  },
  {
   "cell_type": "code",
   "execution_count": 45,
   "metadata": {},
   "outputs": [
    {
     "data": {
      "image/png": "[encoded data removed]",
      "text/plain": [
       "<Figure size 432x288 with 1 Axes>"
      ]
     },
     "metadata": {
      "needs_background": "light"
     },
     "output_type": "display_data"
    }
   ],
   "source": [
    "create_word_key_chart(top100)"
   ]
  },
  {
   "cell_type": "code",
   "execution_count": 51,
   "metadata": {},
   "outputs": [],
   "source": [
    "def get_profan_freq(chart):\n",
    "    freq = get_chart_word_count(chart)\n",
    "    profan = {}\n",
    "    percent = {}\n",
    "    \n",
    "    for row in freq.index:\n",
    "        if predict([row]):\n",
    "            profan[row] = freq[row]\n",
    "            percent[row] = profan[row] / get_lyric_len(chart).sum(axis = 0, skipna = True)\n",
    "               \n",
    "    return profan, percent"
   ]
  },
  {
   "cell_type": "code",
   "execution_count": 52,
   "metadata": {},
   "outputs": [
    {
     "data": {
      "text/plain": [
       "<matplotlib.axes._subplots.AxesSubplot at 0x7f747550fcf8>"
      ]
     },
     "execution_count": 52,
     "metadata": {},
     "output_type": "execute_result"
    },
    {
     "data": {
      "image/png": "[encoded data removed]",
      "text/plain": [
       "<Figure size 432x288 with 1 Axes>"
      ]
     },
     "metadata": {
      "needs_background": "light"
     },
     "output_type": "display_data"
    }
   ],
   "source": [
    "x = np.array([\"top100\", \"pop\", \"country\", \"rap\", \"rock\"])\n",
    "y = []\n",
    "y.append(sum(get_profan_freq(top100)[1].values()))\n",
    "y.append(sum(get_profan_freq(pop)[1].values()))\n",
    "y.append(sum(get_profan_freq(country)[1].values()))\n",
    "y.append(sum(get_profan_freq(rap)[1].values()))\n",
    "y.append(sum(get_profan_freq(rock)[1].values()))\n",
    "y = np.array(y)\n",
    "sns.barplot(x=x, y=y)"
   ]
  },
  {
   "cell_type": "markdown",
   "metadata": {},
   "source": [
    "This graph shows the total percentage of lyrics in each chart that are classified as profane. As one would expect the rap chart has a much higher percentage of profane words then any other chart and top100 is the next highest because it has rap songs on it. Country has an extremely low percentage of profane words and rock also has a low percentage of profane words."
   ]
  },
  {
   "cell_type": "code",
   "execution_count": 53,
   "metadata": {},
   "outputs": [],
   "source": [
    "def profan_cnt_graph(chart):\n",
    "    doc = create_term_doc_matrix(chart)\n",
    "    cols = doc.columns\n",
    "\n",
    "    for i in cols:\n",
    "        if not predict([i]):\n",
    "            cols = cols.drop([i])\n",
    "\n",
    "    doc = doc[cols]\n",
    "    sum = doc.sum(axis = 1, skipna = True) \n",
    "    sum = pd.DataFrame({'Title':sum.index, 'profan_cnt':sum.values})\n",
    "\n",
    "    sum['Rank'] = chart['Rank']\n",
    "    sns.regplot(x=\"Rank\", y=\"profan_cnt\", data=sum)"
   ]
  },
  {
   "cell_type": "code",
   "execution_count": 54,
   "metadata": {},
   "outputs": [
    {
     "data": {
      "image/png": "[encoded data removed]",
      "text/plain": [
       "<Figure size 432x288 with 1 Axes>"
      ]
     },
     "metadata": {
      "needs_background": "light"
     },
     "output_type": "display_data"
    }
   ],
   "source": [
    "#Trend seems to be that higher ranking songs tend to have less profanity.\n",
    "#This makes sense, less profanity makes the song easier to play in more places. \n",
    "profan_cnt_graph(top100)"
   ]
  },
  {
   "cell_type": "code",
   "execution_count": 55,
   "metadata": {},
   "outputs": [
    {
     "data": {
      "image/png": "[encoded data removed]",
      "text/plain": [
       "<Figure size 432x288 with 1 Axes>"
      ]
     },
     "metadata": {
      "needs_background": "light"
     },
     "output_type": "display_data"
    }
   ],
   "source": [
    "profan_cnt_graph(rap)"
   ]
  },
  {
   "cell_type": "code",
   "execution_count": 297,
   "metadata": {},
   "outputs": [
    {
     "name": "stdout",
     "output_type": "stream",
     "text": [
      "How many key words do you want to enter? 3\n",
      "Please enter a key word: want\n",
      "Please enter a key word: Christmas\n",
      "Please enter your final key word: all\n",
      "Title\n",
      "All I Want For Christmas Is You    0.506153\n",
      "dtype: float64\n"
     ]
    }
   ],
   "source": [
    "#Matching songs based off of lyrics\n",
    "#A person enters n lyrics and we try to match which song in top100 is the best match\n",
    "def find_best_match(words):\n",
    "    print(tfidf[tfidf.index.isin(words)].sum(axis = 0, skipna = True).nlargest(1))\n",
    "\n",
    "num = int(input(\"How many key words do you want to enter? \"))\n",
    "words = []\n",
    "\n",
    "for i in range(num - 1):\n",
    "    words.append(input(\"Please enter a key word: \"))\n",
    "words.append(input(\"Please enter your final key word: \"))  \n",
    "\n",
    "find_best_match(words)"
   ]
  },
  {
   "cell_type": "code",
   "execution_count": 290,
   "metadata": {},
   "outputs": [],
   "source": [
    "def create_linear_model_frequent_words_ranks(chart):\n",
    "    m = create_term_doc_matrix(chart)\n",
    "    m['rank'] = chart['Rank'].values\n",
    "    m['spotify_popularity'] = chart['spotify_popularity'].values\n",
    "    stop_words = set(stopwords.words('english'))\n",
    "    other_words_to_remove = ['oh', 'yeah', 'like', 'go', 'ah', 'ft', 'ooh', 'cause', 'got', 'gonna', 'me', 'we', 'don', 'with', 'get', 'doo', 'let', 'wanna', 'us', 'la', 'uh', 'want', 'ayy']\n",
    "    for word in other_words_to_remove:\n",
    "        stop_words.add(word)\n",
    "    \n",
    "    stop_word_columns = [x for x in m.columns if x in stop_words]\n",
    "    better_m = m.drop(columns=stop_word_columns)\n",
    "    most_freq = find_most_freq_key_words(chart).index.tolist()\n",
    "\n",
    "    X = better_m[most_freq]\n",
    "    y_rank = m['rank']\n",
    "    reg_rank = LinearRegression().fit(X, y_rank)\n",
    "    \n",
    "    y_spotify_pop = m['spotify_popularity']\n",
    "    reg_spot_pop = LinearRegression().fit(X, y_spotify_pop)\n",
    "    \n",
    "    real_rank_predict_rank = sns.regplot(x=y_rank, y=reg_rank.predict(X))\n",
    "    plt.title(\"Real Rank vs Model's Predicted Rank\")\n",
    "    plt.show(real_rank_predict_rank)\n",
    "    print(cross_val_score(reg_rank, X, y_rank, cv=10).mean())\n",
    "\n",
    "    real_spot_pop_predict_spot_pop = sns.regplot(x=y_spotify_pop, y=reg_spot_pop.predict(X))\n",
    "    plt.show(real_spot_pop_predict_spot_pop)\n",
    "    print(cross_val_score(reg_spot_pop, X, y_spotify_pop, cv=10).mean())"
   ]
  },
  {
   "cell_type": "markdown",
   "metadata": {},
   "source": [
    "In this model, we tried to see if the makeup of the top 10 most frequent words in a song could be used to predict the chart ranking or the Spotify popularity of that song. This was a focus question for the project. We found that for chart ranking, the makeup of the top 10 most frequent words in a song has little-to-no impact. This was overly the case for most of the genres, but in the case of the pop genre the model was closer to accurate for estimating rank. The story is different for Spotify popularity of that song. For this ranking measurement, it was actually pretty close for most of the genres. This is an interesting difference between the two ranking metrics as we displayed earlier, it seemed the two metrics were very closely related. A further explanation for each genre chart is given under the displayed graphs."
   ]
  },
  {
   "cell_type": "code",
   "execution_count": 291,
   "metadata": {},
   "outputs": [
    {
     "data": {
      "image/png": "[encoded data removed]",
      "text/plain": [
       "<Figure size 432x288 with 1 Axes>"
      ]
     },
     "metadata": {
      "needs_background": "light"
     },
     "output_type": "display_data"
    },
    {
     "name": "stdout",
     "output_type": "stream",
     "text": [
      "-144.08303485840526\n"
     ]
    },
    {
     "data": {
      "image/png": "[encoded data removed]",
      "text/plain": [
       "<Figure size 432x288 with 1 Axes>"
      ]
     },
     "metadata": {
      "needs_background": "light"
     },
     "output_type": "display_data"
    },
    {
     "name": "stdout",
     "output_type": "stream",
     "text": [
      "-1.3234046545077365\n"
     ]
    }
   ],
   "source": [
    "top100_model_rank = create_linear_model_frequent_words_ranks(top100)"
   ]
  },
  {
   "cell_type": "code",
   "execution_count": 292,
   "metadata": {},
   "outputs": [
    {
     "data": {
      "image/png": "[encoded data removed]",
      "text/plain": [
       "<Figure size 432x288 with 1 Axes>"
      ]
     },
     "metadata": {
      "needs_background": "light"
     },
     "output_type": "display_data"
    },
    {
     "name": "stdout",
     "output_type": "stream",
     "text": [
      "-1510.9494804072147\n"
     ]
    },
    {
     "data": {
      "image/png": "[encoded data removed]",
      "text/plain": [
       "<Figure size 432x288 with 1 Axes>"
      ]
     },
     "metadata": {
      "needs_background": "light"
     },
     "output_type": "display_data"
    },
    {
     "name": "stdout",
     "output_type": "stream",
     "text": [
      "-27.77381194700957\n"
     ]
    }
   ],
   "source": [
    "country_model_rank = create_linear_model_frequent_words_ranks(country)"
   ]
  },
  {
   "cell_type": "code",
   "execution_count": 293,
   "metadata": {},
   "outputs": [
    {
     "data": {
      "image/png": "[encoded data removed]",
      "text/plain": [
       "<Figure size 432x288 with 1 Axes>"
      ]
     },
     "metadata": {
      "needs_background": "light"
     },
     "output_type": "display_data"
    },
    {
     "name": "stdout",
     "output_type": "stream",
     "text": [
      "-1095.7605426360697\n"
     ]
    },
    {
     "data": {
      "image/png": "[encoded data removed]",
      "text/plain": [
       "<Figure size 432x288 with 1 Axes>"
      ]
     },
     "metadata": {
      "needs_background": "light"
     },
     "output_type": "display_data"
    },
    {
     "name": "stdout",
     "output_type": "stream",
     "text": [
      "-18.275751114451246\n"
     ]
    }
   ],
   "source": [
    "rap_model_rank = create_linear_model_frequent_words_ranks(rap)"
   ]
  },
  {
   "cell_type": "code",
   "execution_count": 294,
   "metadata": {},
   "outputs": [
    {
     "data": {
      "image/png": "[encoded data removed]",
      "text/plain": [
       "<Figure size 432x288 with 1 Axes>"
      ]
     },
     "metadata": {
      "needs_background": "light"
     },
     "output_type": "display_data"
    },
    {
     "name": "stdout",
     "output_type": "stream",
     "text": [
      "-192.9379512128733\n"
     ]
    },
    {
     "data": {
      "image/png": "[encoded data removed]",
      "text/plain": [
       "<Figure size 432x288 with 1 Axes>"
      ]
     },
     "metadata": {
      "needs_background": "light"
     },
     "output_type": "display_data"
    },
    {
     "name": "stdout",
     "output_type": "stream",
     "text": [
      "-6.093570953447446\n"
     ]
    }
   ],
   "source": [
    "pop_model_rank = create_linear_model_frequent_words_ranks(pop)"
   ]
  },
  {
   "cell_type": "code",
   "execution_count": 295,
   "metadata": {},
   "outputs": [
    {
     "data": {
      "image/png": "[encoded data removed]",
      "text/plain": [
       "<Figure size 432x288 with 1 Axes>"
      ]
     },
     "metadata": {
      "needs_background": "light"
     },
     "output_type": "display_data"
    },
    {
     "name": "stdout",
     "output_type": "stream",
     "text": [
      "-249.39997254214558\n"
     ]
    },
    {
     "data": {
      "image/png": "[encoded data removed]",
      "text/plain": [
       "<Figure size 432x288 with 1 Axes>"
      ]
     },
     "metadata": {
      "needs_background": "light"
     },
     "output_type": "display_data"
    },
    {
     "name": "stdout",
     "output_type": "stream",
     "text": [
      "-1.5641219709720926\n"
     ]
    }
   ],
   "source": [
    "rock_model_rank = create_linear_model_frequent_words_ranks(rock)"
   ]
  },
  {
   "cell_type": "code",
   "execution_count": 248,
   "metadata": {},
   "outputs": [
    {
     "data": {
      "text/html": [
       "<div>\n",
       "<style scoped>\n",
       "    .dataframe tbody tr th:only-of-type {\n",
       "        vertical-align: middle;\n",
       "    }\n",
       "\n",
       "    .dataframe tbody tr th {\n",
       "        vertical-align: top;\n",
       "    }\n",
       "\n",
       "    .dataframe thead th {\n",
       "        text-align: right;\n",
       "    }\n",
       "</style>\n",
       "<table border=\"1\" class=\"dataframe\">\n",
       "  <thead>\n",
       "    <tr style=\"text-align: right;\">\n",
       "      <th></th>\n",
       "      <th>index</th>\n",
       "      <th>Rank</th>\n",
       "      <th>Title</th>\n",
       "      <th>Artist</th>\n",
       "      <th>Year</th>\n",
       "      <th>lyrics</th>\n",
       "    </tr>\n",
       "  </thead>\n",
       "  <tbody>\n",
       "    <tr>\n",
       "      <th>0</th>\n",
       "      <td>0</td>\n",
       "      <td>1</td>\n",
       "      <td>Bad Day</td>\n",
       "      <td>Daniel Powter</td>\n",
       "      <td>2006.0</td>\n",
       "      <td>Where is the moment we needed the most?\\nYou k...</td>\n",
       "    </tr>\n",
       "    <tr>\n",
       "      <th>1</th>\n",
       "      <td>1</td>\n",
       "      <td>2</td>\n",
       "      <td>Temperature</td>\n",
       "      <td>Sean Paul</td>\n",
       "      <td>2006.0</td>\n",
       "      <td>The gyal dem Schillaci, Sean da Paul\\nSo me gi...</td>\n",
       "    </tr>\n",
       "    <tr>\n",
       "      <th>2</th>\n",
       "      <td>2</td>\n",
       "      <td>3</td>\n",
       "      <td>Promiscuous</td>\n",
       "      <td>Nelly Furtado Featuring Timbaland</td>\n",
       "      <td>2006.0</td>\n",
       "      <td>Am I throwin' you off?\\nNope\\nDidn't think so\\...</td>\n",
       "    </tr>\n",
       "    <tr>\n",
       "      <th>3</th>\n",
       "      <td>3</td>\n",
       "      <td>4</td>\n",
       "      <td>You're Beautiful</td>\n",
       "      <td>James Blunt</td>\n",
       "      <td>2006.0</td>\n",
       "      <td>My life is brilliant\\n\\nMy life is brilliant, ...</td>\n",
       "    </tr>\n",
       "    <tr>\n",
       "      <th>4</th>\n",
       "      <td>4</td>\n",
       "      <td>5</td>\n",
       "      <td>Hips Don't Lie</td>\n",
       "      <td>Shakira Featuring Wyclef Jean</td>\n",
       "      <td>2006.0</td>\n",
       "      <td>Ladies up in here tonight\\nNo fighting (We got...</td>\n",
       "    </tr>\n",
       "    <tr>\n",
       "      <th>5</th>\n",
       "      <td>5</td>\n",
       "      <td>6</td>\n",
       "      <td>Unwritten</td>\n",
       "      <td>Natasha Bedingfield</td>\n",
       "      <td>2006.0</td>\n",
       "      <td>I am unwritten, can't read my mind\\nI'm undefi...</td>\n",
       "    </tr>\n",
       "    <tr>\n",
       "      <th>6</th>\n",
       "      <td>6</td>\n",
       "      <td>7</td>\n",
       "      <td>Crazy</td>\n",
       "      <td>Gnarls Barkley</td>\n",
       "      <td>2006.0</td>\n",
       "      <td>I remember when\\nI remember, I remember when I...</td>\n",
       "    </tr>\n",
       "    <tr>\n",
       "      <th>7</th>\n",
       "      <td>7</td>\n",
       "      <td>8</td>\n",
       "      <td>Ridin'</td>\n",
       "      <td>Chamillionaire Featuring Krayzie Bone</td>\n",
       "      <td>2006.0</td>\n",
       "      <td>Hi. I'm the Rap Critic. Let's talk about Chami...</td>\n",
       "    </tr>\n",
       "    <tr>\n",
       "      <th>8</th>\n",
       "      <td>8</td>\n",
       "      <td>9</td>\n",
       "      <td>SexyBack</td>\n",
       "      <td>Justin Timberlake</td>\n",
       "      <td>2006.0</td>\n",
       "      <td>I'm bringin' sexy back (Yeah)\\nThem other boys...</td>\n",
       "    </tr>\n",
       "    <tr>\n",
       "      <th>9</th>\n",
       "      <td>9</td>\n",
       "      <td>10</td>\n",
       "      <td>Check On It</td>\n",
       "      <td>Beyonce Featuring Slim Thug</td>\n",
       "      <td>2006.0</td>\n",
       "      <td>Swizz Beatz\\nDC, Destiny Child (Slim Thug)\\n\\n...</td>\n",
       "    </tr>\n",
       "  </tbody>\n",
       "</table>\n",
       "</div>"
      ],
      "text/plain": [
       "   index Rank             Title                                 Artist  \\\n",
       "0      0    1           Bad Day                          Daniel Powter   \n",
       "1      1    2       Temperature                              Sean Paul   \n",
       "2      2    3       Promiscuous      Nelly Furtado Featuring Timbaland   \n",
       "3      3    4  You're Beautiful                            James Blunt   \n",
       "4      4    5    Hips Don't Lie          Shakira Featuring Wyclef Jean   \n",
       "5      5    6         Unwritten                    Natasha Bedingfield   \n",
       "6      6    7             Crazy                         Gnarls Barkley   \n",
       "7      7    8            Ridin'  Chamillionaire Featuring Krayzie Bone   \n",
       "8      8    9          SexyBack                      Justin Timberlake   \n",
       "9      9   10       Check On It            Beyonce Featuring Slim Thug   \n",
       "\n",
       "     Year                                             lyrics  \n",
       "0  2006.0  Where is the moment we needed the most?\\nYou k...  \n",
       "1  2006.0  The gyal dem Schillaci, Sean da Paul\\nSo me gi...  \n",
       "2  2006.0  Am I throwin' you off?\\nNope\\nDidn't think so\\...  \n",
       "3  2006.0  My life is brilliant\\n\\nMy life is brilliant, ...  \n",
       "4  2006.0  Ladies up in here tonight\\nNo fighting (We got...  \n",
       "5  2006.0  I am unwritten, can't read my mind\\nI'm undefi...  \n",
       "6  2006.0  I remember when\\nI remember, I remember when I...  \n",
       "7  2006.0  Hi. I'm the Rap Critic. Let's talk about Chami...  \n",
       "8  2006.0  I'm bringin' sexy back (Yeah)\\nThem other boys...  \n",
       "9  2006.0  Swizz Beatz\\nDC, Destiny Child (Slim Thug)\\n\\n...  "
      ]
     },
     "metadata": {},
     "output_type": "display_data"
    }
   ],
   "source": [
    "conn = sqlite3.connect('billboard100.db')\n",
    "\n",
    "df = pd.read_sql_query(\"SELECT * FROM billboard100\", conn)\n",
    "\n",
    "display(df.head(10))\n",
    "\n",
    "profanity_per_year = {}\n",
    "\n",
    "for year in range(2006,2020):\n",
    "    top100inYear = df[df[\"Year\"] == year]\n",
    "    profane, _ = get_profan_freq(top100inYear)\n",
    "    profanity_per_year[year] = profane"
   ]
  },
  {
   "cell_type": "code",
   "execution_count": 59,
   "metadata": {},
   "outputs": [
    {
     "data": {
      "image/png": "[encoded data removed]",
      "text/plain": [
       "<Figure size 432x288 with 1 Axes>"
      ]
     },
     "metadata": {
      "needs_background": "light"
     },
     "output_type": "display_data"
    }
   ],
   "source": [
    "profanity_in_top_charts = {}\n",
    "for year in range(2006,2020):\n",
    "    p = profanity_per_year[year]\n",
    "    profanity_in_top_charts[year] = sum(p.values())\n",
    "    \n",
    "plt.bar(profanity_in_top_charts.keys(), profanity_in_top_charts.values())\n",
    "plt.show()"
   ]
  },
  {
   "cell_type": "code",
   "execution_count": 60,
   "metadata": {},
   "outputs": [],
   "source": [
    "doc = create_term_doc_matrix(df)\n",
    "cols = doc.columns\n",
    "\n",
    "for i in cols:\n",
    "    if not predict([i]):\n",
    "        cols = cols.drop([i])\n",
    "        \n",
    "doc = doc[cols]\n",
    "s = doc.sum(axis = 1, skipna = True) \n",
    "s = pd.DataFrame({'Title':s.index, 'profan_cnt':s.values})\n",
    "\n",
    "s['Rank'] = df['Rank']"
   ]
  },
  {
   "cell_type": "code",
   "execution_count": 62,
   "metadata": {},
   "outputs": [
    {
     "data": {
      "image/png": "[encoded data removed]",
      "text/plain": [
       "<Figure size 432x288 with 1 Axes>"
      ]
     },
     "metadata": {
      "needs_background": "light"
     },
     "output_type": "display_data"
    }
   ],
   "source": [
    "plt.scatter(s[\"Rank\"], s[\"profan_cnt\"])\n",
    "plt.xlabel(\"Rank\")\n",
    "plt.ylabel(\"Profane Words in Song\")\n",
    "plt.xticks([24, 49, 74])\n",
    "plt.show()"
   ]
  },
  {
   "cell_type": "code",
   "execution_count": null,
   "metadata": {},
   "outputs": [],
   "source": []
  }
 ],
 "metadata": {
  "kernelspec": {
   "display_name": "Python 3",
   "language": "python",
   "name": "python3"
  },
  "language_info": {
   "codemirror_mode": {
    "name": "ipython",
    "version": 3
   },
   "file_extension": ".py",
   "mimetype": "text/x-python",
   "name": "python",
   "nbconvert_exporter": "python",
   "pygments_lexer": "ipython3",
   "version": "3.7.3"
  }
 },
 "nbformat": 4,
 "nbformat_minor": 2
}
