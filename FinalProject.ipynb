{
 "cells": [
  {
   "cell_type": "code",
   "execution_count": 175,
   "metadata": {},
   "outputs": [
    {
     "name": "stdout",
     "output_type": "stream",
     "text": [
      "Requirement already satisfied: spotipy in /Library/Frameworks/Python.framework/Versions/3.8/lib/python3.8/site-packages (2.4.4)\n",
      "Requirement already satisfied: requests>=1.0 in /Library/Frameworks/Python.framework/Versions/3.8/lib/python3.8/site-packages (from spotipy) (2.22.0)\n",
      "Requirement already satisfied: chardet<3.1.0,>=3.0.2 in /Library/Frameworks/Python.framework/Versions/3.8/lib/python3.8/site-packages (from requests>=1.0->spotipy) (3.0.4)\n",
      "Requirement already satisfied: urllib3!=1.25.0,!=1.25.1,<1.26,>=1.21.1 in /Library/Frameworks/Python.framework/Versions/3.8/lib/python3.8/site-packages (from requests>=1.0->spotipy) (1.25.7)\n",
      "Requirement already satisfied: idna<2.9,>=2.5 in /Library/Frameworks/Python.framework/Versions/3.8/lib/python3.8/site-packages (from requests>=1.0->spotipy) (2.8)\n",
      "Requirement already satisfied: certifi>=2017.4.17 in /Library/Frameworks/Python.framework/Versions/3.8/lib/python3.8/site-packages (from requests>=1.0->spotipy) (2019.11.28)\n",
      "Requirement already satisfied: billboard.py in /Library/Frameworks/Python.framework/Versions/3.8/lib/python3.8/site-packages (5.3.0)\n",
      "Requirement already satisfied: requests>=2.2.1 in /Library/Frameworks/Python.framework/Versions/3.8/lib/python3.8/site-packages (from billboard.py) (2.22.0)\n",
      "Requirement already satisfied: beautifulsoup4>=4.4.1 in /Library/Frameworks/Python.framework/Versions/3.8/lib/python3.8/site-packages (from billboard.py) (4.6.0)\n",
      "Requirement already satisfied: urllib3!=1.25.0,!=1.25.1,<1.26,>=1.21.1 in /Library/Frameworks/Python.framework/Versions/3.8/lib/python3.8/site-packages (from requests>=2.2.1->billboard.py) (1.25.7)\n",
      "Requirement already satisfied: certifi>=2017.4.17 in /Library/Frameworks/Python.framework/Versions/3.8/lib/python3.8/site-packages (from requests>=2.2.1->billboard.py) (2019.11.28)\n",
      "Requirement already satisfied: chardet<3.1.0,>=3.0.2 in /Library/Frameworks/Python.framework/Versions/3.8/lib/python3.8/site-packages (from requests>=2.2.1->billboard.py) (3.0.4)\n",
      "Requirement already satisfied: idna<2.9,>=2.5 in /Library/Frameworks/Python.framework/Versions/3.8/lib/python3.8/site-packages (from requests>=2.2.1->billboard.py) (2.8)\n",
      "Requirement already satisfied: lyricsgenius in /Library/Frameworks/Python.framework/Versions/3.8/lib/python3.8/site-packages (1.8.0)\n",
      "Requirement already satisfied: requests>=2.20.0 in /Library/Frameworks/Python.framework/Versions/3.8/lib/python3.8/site-packages (from lyricsgenius) (2.22.0)\n",
      "Requirement already satisfied: beautifulsoup4==4.6.0 in /Library/Frameworks/Python.framework/Versions/3.8/lib/python3.8/site-packages (from lyricsgenius) (4.6.0)\n",
      "Requirement already satisfied: urllib3!=1.25.0,!=1.25.1,<1.26,>=1.21.1 in /Library/Frameworks/Python.framework/Versions/3.8/lib/python3.8/site-packages (from requests>=2.20.0->lyricsgenius) (1.25.7)\n",
      "Requirement already satisfied: chardet<3.1.0,>=3.0.2 in /Library/Frameworks/Python.framework/Versions/3.8/lib/python3.8/site-packages (from requests>=2.20.0->lyricsgenius) (3.0.4)\n",
      "Requirement already satisfied: certifi>=2017.4.17 in /Library/Frameworks/Python.framework/Versions/3.8/lib/python3.8/site-packages (from requests>=2.20.0->lyricsgenius) (2019.11.28)\n",
      "Requirement already satisfied: idna<2.9,>=2.5 in /Library/Frameworks/Python.framework/Versions/3.8/lib/python3.8/site-packages (from requests>=2.20.0->lyricsgenius) (2.8)\n",
      "Requirement already satisfied: nltk in /Library/Frameworks/Python.framework/Versions/3.8/lib/python3.8/site-packages (3.4.5)\n",
      "Requirement already satisfied: six in /Library/Frameworks/Python.framework/Versions/3.8/lib/python3.8/site-packages (from nltk) (1.13.0)\n",
      "\u001b[33mDEPRECATION: Python 2.7 will reach the end of its life on January 1st, 2020. Please upgrade your Python as Python 2.7 won't be maintained after that date. A future version of pip will drop support for Python 2.7. More details about Python 2 support in pip, can be found at https://pip.pypa.io/en/latest/development/release-process/#python-2-support\u001b[0m\n",
      "Requirement already satisfied: matplotlib in /Library/Frameworks/Python.framework/Versions/2.7/lib/python2.7/site-packages (2.2.4)\n",
      "Requirement already satisfied: numpy>=1.7.1 in /Library/Frameworks/Python.framework/Versions/2.7/lib/python2.7/site-packages (from matplotlib) (1.16.5)\n",
      "Requirement already satisfied: cycler>=0.10 in /Library/Frameworks/Python.framework/Versions/2.7/lib/python2.7/site-packages (from matplotlib) (0.10.0)\n",
      "Requirement already satisfied: backports.functools-lru-cache in /Library/Frameworks/Python.framework/Versions/2.7/lib/python2.7/site-packages (from matplotlib) (1.6.1)\n",
      "Requirement already satisfied: subprocess32 in /Library/Frameworks/Python.framework/Versions/2.7/lib/python2.7/site-packages (from matplotlib) (3.5.4)\n",
      "Requirement already satisfied: kiwisolver>=1.0.1 in /Library/Frameworks/Python.framework/Versions/2.7/lib/python2.7/site-packages (from matplotlib) (1.1.0)\n",
      "Requirement already satisfied: six>=1.10 in /Library/Frameworks/Python.framework/Versions/2.7/lib/python2.7/site-packages (from matplotlib) (1.13.0)\n",
      "Requirement already satisfied: python-dateutil>=2.1 in /Library/Frameworks/Python.framework/Versions/2.7/lib/python2.7/site-packages (from matplotlib) (2.8.1)\n",
      "Requirement already satisfied: pytz in /Library/Frameworks/Python.framework/Versions/2.7/lib/python2.7/site-packages (from matplotlib) (2019.3)\n",
      "Requirement already satisfied: pyparsing!=2.0.4,!=2.1.2,!=2.1.6,>=2.0.1 in /Library/Frameworks/Python.framework/Versions/2.7/lib/python2.7/site-packages (from matplotlib) (2.4.5)\n",
      "Requirement already satisfied: setuptools in /Library/Frameworks/Python.framework/Versions/2.7/lib/python2.7/site-packages (from kiwisolver>=1.0.1->matplotlib) (41.2.0)\n",
      "Requirement already satisfied: seaborn in /Library/Frameworks/Python.framework/Versions/3.8/lib/python3.8/site-packages (0.9.0)\n",
      "Requirement already satisfied: pandas>=0.15.2 in /Library/Frameworks/Python.framework/Versions/3.8/lib/python3.8/site-packages (from seaborn) (0.25.3)\n",
      "Requirement already satisfied: scipy>=0.14.0 in /Library/Frameworks/Python.framework/Versions/3.8/lib/python3.8/site-packages (from seaborn) (1.3.3)\n",
      "Requirement already satisfied: numpy>=1.9.3 in /Library/Frameworks/Python.framework/Versions/3.8/lib/python3.8/site-packages (from seaborn) (1.17.4)\n",
      "Requirement already satisfied: matplotlib>=1.4.3 in /Library/Frameworks/Python.framework/Versions/3.8/lib/python3.8/site-packages (from seaborn) (3.1.2)\n",
      "Requirement already satisfied: pytz>=2017.2 in /Library/Frameworks/Python.framework/Versions/3.8/lib/python3.8/site-packages (from pandas>=0.15.2->seaborn) (2019.3)\n",
      "Requirement already satisfied: python-dateutil>=2.6.1 in /Library/Frameworks/Python.framework/Versions/3.8/lib/python3.8/site-packages (from pandas>=0.15.2->seaborn) (2.8.1)\n",
      "Requirement already satisfied: kiwisolver>=1.0.1 in /Library/Frameworks/Python.framework/Versions/3.8/lib/python3.8/site-packages (from matplotlib>=1.4.3->seaborn) (1.1.0)\n",
      "Requirement already satisfied: cycler>=0.10 in /Library/Frameworks/Python.framework/Versions/3.8/lib/python3.8/site-packages (from matplotlib>=1.4.3->seaborn) (0.10.0)\n",
      "Requirement already satisfied: pyparsing!=2.0.4,!=2.1.2,!=2.1.6,>=2.0.1 in /Library/Frameworks/Python.framework/Versions/3.8/lib/python3.8/site-packages (from matplotlib>=1.4.3->seaborn) (2.4.5)\n",
      "Requirement already satisfied: six>=1.5 in /Library/Frameworks/Python.framework/Versions/3.8/lib/python3.8/site-packages (from python-dateutil>=2.6.1->pandas>=0.15.2->seaborn) (1.13.0)\n",
      "Requirement already satisfied: setuptools in /Library/Frameworks/Python.framework/Versions/3.8/lib/python3.8/site-packages (from kiwisolver>=1.0.1->matplotlib>=1.4.3->seaborn) (41.2.0)\n"
     ]
    }
   ],
   "source": [
    "!pip3 install spotipy\n",
    "!pip3 install billboard.py\n",
    "!pip3 install lyricsgenius\n",
    "!pip3 install nltk\n",
    "!pip install matplotlib\n",
    "!pip3 install seaborn"
   ]
  },
  {
   "cell_type": "code",
   "execution_count": 176,
   "metadata": {},
   "outputs": [],
   "source": [
    "import pandas as pd\n",
    "import numpy as np\n",
    "import billboard as bb\n",
    "import lyricsgenius\n",
    "import seaborn as sns\n",
    "import nltk\n",
    "from sklearn.feature_extraction.text import CountVectorizer\n",
    "import spotipy\n",
    "from spotipy.oauth2 import SpotifyClientCredentials\n",
    "from sklearn.feature_extraction.text import TfidfVectorizer"
   ]
  },
  {
   "cell_type": "code",
   "execution_count": 177,
   "metadata": {},
   "outputs": [],
   "source": [
    "genius = lyricsgenius.Genius(\"JxIIf2vA02Oopvz2JRUbC6iysXRZnNEHN0j84a16uLsB8niafpsNZPR1SvcSxu8r\")\n",
    "genius.verbose = False # Turn off status messages\n",
    "genius.remove_section_headers = True # Remove section headers (e.g. [Chorus]) from lyrics when searching\n",
    "genius.skip_non_songs = False # Include hits thought to be non-songs (e.g. track lists)\n",
    "genius.excluded_terms = [\"(Remix)\", \"(Live)\"] # Exclude songs with these words in their title"
   ]
  },
  {
   "cell_type": "code",
   "execution_count": 178,
   "metadata": {},
   "outputs": [],
   "source": [
    "def create_songs_df(chart_name):\n",
    "    top100 = bb.ChartData(chart_name)\n",
    "    songs = top100.entries\n",
    "    dataframe = {\"Rank\": [], \"Title\": [], \"Artist\": []}\n",
    "    for song in songs:\n",
    "        dataframe[\"Title\"].append(song.title)\n",
    "        dataframe[\"Artist\"].append(song.artist)\n",
    "        dataframe[\"Rank\"].append(song.rank)\n",
    "    df = pd.DataFrame(dataframe)\n",
    "    return df"
   ]
  },
  {
   "cell_type": "code",
   "execution_count": 179,
   "metadata": {},
   "outputs": [
    {
     "name": "stdout",
     "output_type": "stream",
     "text": [
      "    Rank                            Title                          Artist\n",
      "0      1                        Heartless                      The Weeknd\n",
      "1      2                          Circles                     Post Malone\n",
      "2      3  All I Want For Christmas Is You                    Mariah Carey\n",
      "3      4                Someone You Loved                   Lewis Capaldi\n",
      "4      5                         Memories                        Maroon 5\n",
      "..   ...                              ...                             ...\n",
      "95    96                    Make No Sense      YoungBoy Never Broke Again\n",
      "96    97                   Jerry Sprunger             Tory Lanez & T-Pain\n",
      "97    98        RITMO (Bad Boys For Life)  The Black Eyed Peas X J Balvin\n",
      "98    99                 Into The Unknown             Panic! At The Disco\n",
      "99   100                       La Cancion            J Balvin & Bad Bunny\n",
      "\n",
      "[100 rows x 3 columns]\n"
     ]
    }
   ],
   "source": [
    "top100 = create_songs_df(\"hot-100\")\n",
    "country = create_songs_df(\"country-songs\")\n",
    "rock = create_songs_df(\"rock-songs\")\n",
    "pop = create_songs_df(\"pop-songs\")\n",
    "rap = create_songs_df('rap-song')\n",
    "\n",
    "print(top100)"
   ]
  },
  {
   "cell_type": "code",
   "execution_count": 180,
   "metadata": {},
   "outputs": [],
   "source": [
    "def try_load_lyrics(title,artist):\n",
    "    try:\n",
    "        return genius.search_song(title, artist).lyrics\n",
    "    except:\n",
    "        return \"Failed to Find Lyrics\""
   ]
  },
  {
   "cell_type": "code",
   "execution_count": 181,
   "metadata": {},
   "outputs": [],
   "source": [
    "def populate_chart_with_lyrics(chart):\n",
    "    chart[\"lyrics\"] = chart.apply(lambda x: try_load_lyrics(x[\"Title\"],x[\"Artist\"]), axis = 1)\n",
    "    return chart"
   ]
  },
  {
   "cell_type": "code",
   "execution_count": 182,
   "metadata": {
    "scrolled": false
   },
   "outputs": [
    {
     "data": {
      "text/html": [
       "<div>\n",
       "<style scoped>\n",
       "    .dataframe tbody tr th:only-of-type {\n",
       "        vertical-align: middle;\n",
       "    }\n",
       "\n",
       "    .dataframe tbody tr th {\n",
       "        vertical-align: top;\n",
       "    }\n",
       "\n",
       "    .dataframe thead th {\n",
       "        text-align: right;\n",
       "    }\n",
       "</style>\n",
       "<table border=\"1\" class=\"dataframe\">\n",
       "  <thead>\n",
       "    <tr style=\"text-align: right;\">\n",
       "      <th></th>\n",
       "      <th>Rank</th>\n",
       "      <th>Title</th>\n",
       "      <th>Artist</th>\n",
       "      <th>lyrics</th>\n",
       "    </tr>\n",
       "  </thead>\n",
       "  <tbody>\n",
       "    <tr>\n",
       "      <th>0</th>\n",
       "      <td>1</td>\n",
       "      <td>Heartless</td>\n",
       "      <td>The Weeknd</td>\n",
       "      <td>Young Metro, young Metro, young Metro (Sheesh)...</td>\n",
       "    </tr>\n",
       "    <tr>\n",
       "      <th>1</th>\n",
       "      <td>2</td>\n",
       "      <td>Circles</td>\n",
       "      <td>Post Malone</td>\n",
       "      <td>Oh, oh, oh\\nOh,  oh, oh\\nOh,  oh, oh, oh, oh\\n...</td>\n",
       "    </tr>\n",
       "    <tr>\n",
       "      <th>2</th>\n",
       "      <td>3</td>\n",
       "      <td>All I Want For Christmas Is You</td>\n",
       "      <td>Mariah Carey</td>\n",
       "      <td>I don't want a lot for Christmas\\nThere is jus...</td>\n",
       "    </tr>\n",
       "    <tr>\n",
       "      <th>3</th>\n",
       "      <td>4</td>\n",
       "      <td>Someone You Loved</td>\n",
       "      <td>Lewis Capaldi</td>\n",
       "      <td>I'm going under, and this time, I fear there's...</td>\n",
       "    </tr>\n",
       "    <tr>\n",
       "      <th>4</th>\n",
       "      <td>5</td>\n",
       "      <td>Memories</td>\n",
       "      <td>Maroon 5</td>\n",
       "      <td>Here's to the ones that we got\\nCheers to the ...</td>\n",
       "    </tr>\n",
       "    <tr>\n",
       "      <th>...</th>\n",
       "      <td>...</td>\n",
       "      <td>...</td>\n",
       "      <td>...</td>\n",
       "      <td>...</td>\n",
       "    </tr>\n",
       "    <tr>\n",
       "      <th>95</th>\n",
       "      <td>96</td>\n",
       "      <td>Make No Sense</td>\n",
       "      <td>YoungBoy Never Broke Again</td>\n",
       "      <td>Buddah Bless this beat\\n\\nI feel like I'm Gucc...</td>\n",
       "    </tr>\n",
       "    <tr>\n",
       "      <th>96</th>\n",
       "      <td>97</td>\n",
       "      <td>Jerry Sprunger</td>\n",
       "      <td>Tory Lanez &amp; T-Pain</td>\n",
       "      <td>Do, you do\\nYou do, you do\\nYou do, you do\\nYo...</td>\n",
       "    </tr>\n",
       "    <tr>\n",
       "      <th>97</th>\n",
       "      <td>98</td>\n",
       "      <td>RITMO (Bad Boys For Life)</td>\n",
       "      <td>The Black Eyed Peas X J Balvin</td>\n",
       "      <td>10/1\\nAnt Clemons - \"4 Letter Word\" ft. Timbal...</td>\n",
       "    </tr>\n",
       "    <tr>\n",
       "      <th>98</th>\n",
       "      <td>99</td>\n",
       "      <td>Into The Unknown</td>\n",
       "      <td>Panic! At The Disco</td>\n",
       "      <td>Ah-ah, oh-oh\\nAh-ah, oh-oh, oh-oh\\nInto the un...</td>\n",
       "    </tr>\n",
       "    <tr>\n",
       "      <th>99</th>\n",
       "      <td>100</td>\n",
       "      <td>La Cancion</td>\n",
       "      <td>J Balvin &amp; Bad Bunny</td>\n",
       "      <td>Yeh, yeh, yeh\\n\\nPensaba que te había olvida'o...</td>\n",
       "    </tr>\n",
       "  </tbody>\n",
       "</table>\n",
       "<p>100 rows × 4 columns</p>\n",
       "</div>"
      ],
      "text/plain": [
       "    Rank                            Title                          Artist  \\\n",
       "0      1                        Heartless                      The Weeknd   \n",
       "1      2                          Circles                     Post Malone   \n",
       "2      3  All I Want For Christmas Is You                    Mariah Carey   \n",
       "3      4                Someone You Loved                   Lewis Capaldi   \n",
       "4      5                         Memories                        Maroon 5   \n",
       "..   ...                              ...                             ...   \n",
       "95    96                    Make No Sense      YoungBoy Never Broke Again   \n",
       "96    97                   Jerry Sprunger             Tory Lanez & T-Pain   \n",
       "97    98        RITMO (Bad Boys For Life)  The Black Eyed Peas X J Balvin   \n",
       "98    99                 Into The Unknown             Panic! At The Disco   \n",
       "99   100                       La Cancion            J Balvin & Bad Bunny   \n",
       "\n",
       "                                               lyrics  \n",
       "0   Young Metro, young Metro, young Metro (Sheesh)...  \n",
       "1   Oh, oh, oh\\nOh,  oh, oh\\nOh,  oh, oh, oh, oh\\n...  \n",
       "2   I don't want a lot for Christmas\\nThere is jus...  \n",
       "3   I'm going under, and this time, I fear there's...  \n",
       "4   Here's to the ones that we got\\nCheers to the ...  \n",
       "..                                                ...  \n",
       "95  Buddah Bless this beat\\n\\nI feel like I'm Gucc...  \n",
       "96  Do, you do\\nYou do, you do\\nYou do, you do\\nYo...  \n",
       "97  10/1\\nAnt Clemons - \"4 Letter Word\" ft. Timbal...  \n",
       "98  Ah-ah, oh-oh\\nAh-ah, oh-oh, oh-oh\\nInto the un...  \n",
       "99  Yeh, yeh, yeh\\n\\nPensaba que te había olvida'o...  \n",
       "\n",
       "[100 rows x 4 columns]"
      ]
     },
     "metadata": {},
     "output_type": "display_data"
    },
    {
     "data": {
      "text/plain": [
       "0"
      ]
     },
     "execution_count": 182,
     "metadata": {},
     "output_type": "execute_result"
    }
   ],
   "source": [
    "top100 = populate_chart_with_lyrics(top100)\n",
    "display(top100)\n",
    "len(top100[top100['lyrics'] == 'Failed to Find Lyrics'])"
   ]
  },
  {
   "cell_type": "code",
   "execution_count": 183,
   "metadata": {},
   "outputs": [],
   "source": [
    "client_credentials_manager = SpotifyClientCredentials(client_id = \"ee9a1f8e2f634959967d52ed9fad54de\", client_secret = \"934a6bbc90e74664b502638f6f5fc92b\")\n",
    "sp = spotipy.Spotify(client_credentials_manager=client_credentials_manager)"
   ]
  },
  {
   "cell_type": "code",
   "execution_count": 184,
   "metadata": {},
   "outputs": [],
   "source": [
    "def get_spotify_popularity(title):\n",
    "    title = title.replace(\"$\",\"s\")\n",
    "    answer = sp.search(title, type=\"track\", limit = 1)\n",
    "    track = sp.track(answer[\"tracks\"][\"items\"][0][\"id\"])\n",
    "    return track[\"popularity\"]"
   ]
  },
  {
   "cell_type": "code",
   "execution_count": 185,
   "metadata": {},
   "outputs": [],
   "source": [
    "def populate_chart_with_spotify_popularity(chart):\n",
    "    chart[\"spotify_popularity\"] = chart.apply(lambda x: get_spotify_popularity(x[\"Title\"]), axis = 1)\n",
    "    return chart"
   ]
  },
  {
   "cell_type": "code",
   "execution_count": 186,
   "metadata": {},
   "outputs": [
    {
     "data": {
      "text/html": [
       "<div>\n",
       "<style scoped>\n",
       "    .dataframe tbody tr th:only-of-type {\n",
       "        vertical-align: middle;\n",
       "    }\n",
       "\n",
       "    .dataframe tbody tr th {\n",
       "        vertical-align: top;\n",
       "    }\n",
       "\n",
       "    .dataframe thead th {\n",
       "        text-align: right;\n",
       "    }\n",
       "</style>\n",
       "<table border=\"1\" class=\"dataframe\">\n",
       "  <thead>\n",
       "    <tr style=\"text-align: right;\">\n",
       "      <th></th>\n",
       "      <th>Rank</th>\n",
       "      <th>Title</th>\n",
       "      <th>Artist</th>\n",
       "      <th>lyrics</th>\n",
       "      <th>spotify_popularity</th>\n",
       "    </tr>\n",
       "  </thead>\n",
       "  <tbody>\n",
       "    <tr>\n",
       "      <th>0</th>\n",
       "      <td>1</td>\n",
       "      <td>Heartless</td>\n",
       "      <td>The Weeknd</td>\n",
       "      <td>Young Metro, young Metro, young Metro (Sheesh)...</td>\n",
       "      <td>94</td>\n",
       "    </tr>\n",
       "    <tr>\n",
       "      <th>1</th>\n",
       "      <td>2</td>\n",
       "      <td>Circles</td>\n",
       "      <td>Post Malone</td>\n",
       "      <td>Oh, oh, oh\\nOh,  oh, oh\\nOh,  oh, oh, oh, oh\\n...</td>\n",
       "      <td>99</td>\n",
       "    </tr>\n",
       "    <tr>\n",
       "      <th>2</th>\n",
       "      <td>3</td>\n",
       "      <td>All I Want For Christmas Is You</td>\n",
       "      <td>Mariah Carey</td>\n",
       "      <td>I don't want a lot for Christmas\\nThere is jus...</td>\n",
       "      <td>94</td>\n",
       "    </tr>\n",
       "    <tr>\n",
       "      <th>3</th>\n",
       "      <td>4</td>\n",
       "      <td>Someone You Loved</td>\n",
       "      <td>Lewis Capaldi</td>\n",
       "      <td>I'm going under, and this time, I fear there's...</td>\n",
       "      <td>96</td>\n",
       "    </tr>\n",
       "    <tr>\n",
       "      <th>4</th>\n",
       "      <td>5</td>\n",
       "      <td>Memories</td>\n",
       "      <td>Maroon 5</td>\n",
       "      <td>Here's to the ones that we got\\nCheers to the ...</td>\n",
       "      <td>100</td>\n",
       "    </tr>\n",
       "    <tr>\n",
       "      <th>...</th>\n",
       "      <td>...</td>\n",
       "      <td>...</td>\n",
       "      <td>...</td>\n",
       "      <td>...</td>\n",
       "      <td>...</td>\n",
       "    </tr>\n",
       "    <tr>\n",
       "      <th>95</th>\n",
       "      <td>96</td>\n",
       "      <td>Make No Sense</td>\n",
       "      <td>YoungBoy Never Broke Again</td>\n",
       "      <td>Buddah Bless this beat\\n\\nI feel like I'm Gucc...</td>\n",
       "      <td>86</td>\n",
       "    </tr>\n",
       "    <tr>\n",
       "      <th>96</th>\n",
       "      <td>97</td>\n",
       "      <td>Jerry Sprunger</td>\n",
       "      <td>Tory Lanez &amp; T-Pain</td>\n",
       "      <td>Do, you do\\nYou do, you do\\nYou do, you do\\nYo...</td>\n",
       "      <td>82</td>\n",
       "    </tr>\n",
       "    <tr>\n",
       "      <th>97</th>\n",
       "      <td>98</td>\n",
       "      <td>RITMO (Bad Boys For Life)</td>\n",
       "      <td>The Black Eyed Peas X J Balvin</td>\n",
       "      <td>10/1\\nAnt Clemons - \"4 Letter Word\" ft. Timbal...</td>\n",
       "      <td>97</td>\n",
       "    </tr>\n",
       "    <tr>\n",
       "      <th>98</th>\n",
       "      <td>99</td>\n",
       "      <td>Into The Unknown</td>\n",
       "      <td>Panic! At The Disco</td>\n",
       "      <td>Ah-ah, oh-oh\\nAh-ah, oh-oh, oh-oh\\nInto the un...</td>\n",
       "      <td>87</td>\n",
       "    </tr>\n",
       "    <tr>\n",
       "      <th>99</th>\n",
       "      <td>100</td>\n",
       "      <td>La Cancion</td>\n",
       "      <td>J Balvin &amp; Bad Bunny</td>\n",
       "      <td>Yeh, yeh, yeh\\n\\nPensaba que te había olvida'o...</td>\n",
       "      <td>93</td>\n",
       "    </tr>\n",
       "  </tbody>\n",
       "</table>\n",
       "<p>100 rows × 5 columns</p>\n",
       "</div>"
      ],
      "text/plain": [
       "    Rank                            Title                          Artist  \\\n",
       "0      1                        Heartless                      The Weeknd   \n",
       "1      2                          Circles                     Post Malone   \n",
       "2      3  All I Want For Christmas Is You                    Mariah Carey   \n",
       "3      4                Someone You Loved                   Lewis Capaldi   \n",
       "4      5                         Memories                        Maroon 5   \n",
       "..   ...                              ...                             ...   \n",
       "95    96                    Make No Sense      YoungBoy Never Broke Again   \n",
       "96    97                   Jerry Sprunger             Tory Lanez & T-Pain   \n",
       "97    98        RITMO (Bad Boys For Life)  The Black Eyed Peas X J Balvin   \n",
       "98    99                 Into The Unknown             Panic! At The Disco   \n",
       "99   100                       La Cancion            J Balvin & Bad Bunny   \n",
       "\n",
       "                                               lyrics  spotify_popularity  \n",
       "0   Young Metro, young Metro, young Metro (Sheesh)...                  94  \n",
       "1   Oh, oh, oh\\nOh,  oh, oh\\nOh,  oh, oh, oh, oh\\n...                  99  \n",
       "2   I don't want a lot for Christmas\\nThere is jus...                  94  \n",
       "3   I'm going under, and this time, I fear there's...                  96  \n",
       "4   Here's to the ones that we got\\nCheers to the ...                 100  \n",
       "..                                                ...                 ...  \n",
       "95  Buddah Bless this beat\\n\\nI feel like I'm Gucc...                  86  \n",
       "96  Do, you do\\nYou do, you do\\nYou do, you do\\nYo...                  82  \n",
       "97  10/1\\nAnt Clemons - \"4 Letter Word\" ft. Timbal...                  97  \n",
       "98  Ah-ah, oh-oh\\nAh-ah, oh-oh, oh-oh\\nInto the un...                  87  \n",
       "99  Yeh, yeh, yeh\\n\\nPensaba que te había olvida'o...                  93  \n",
       "\n",
       "[100 rows x 5 columns]"
      ]
     },
     "metadata": {},
     "output_type": "display_data"
    }
   ],
   "source": [
    "top100 = populate_chart_with_spotify_popularity(top100)\n",
    "display(top100)"
   ]
  },
  {
   "cell_type": "code",
   "execution_count": 187,
   "metadata": {},
   "outputs": [
    {
     "data": {
      "text/html": [
       "<div>\n",
       "<style scoped>\n",
       "    .dataframe tbody tr th:only-of-type {\n",
       "        vertical-align: middle;\n",
       "    }\n",
       "\n",
       "    .dataframe tbody tr th {\n",
       "        vertical-align: top;\n",
       "    }\n",
       "\n",
       "    .dataframe thead th {\n",
       "        text-align: right;\n",
       "    }\n",
       "</style>\n",
       "<table border=\"1\" class=\"dataframe\">\n",
       "  <thead>\n",
       "    <tr style=\"text-align: right;\">\n",
       "      <th></th>\n",
       "      <th>000</th>\n",
       "      <th>02</th>\n",
       "      <th>10</th>\n",
       "      <th>100</th>\n",
       "      <th>101</th>\n",
       "      <th>10k</th>\n",
       "      <th>11</th>\n",
       "      <th>12</th>\n",
       "      <th>12am</th>\n",
       "      <th>14</th>\n",
       "      <th>...</th>\n",
       "      <th>کردن</th>\n",
       "      <th>کردیم</th>\n",
       "      <th>کسی</th>\n",
       "      <th>کلی</th>\n",
       "      <th>کمگ</th>\n",
       "      <th>کنار</th>\n",
       "      <th>کنیم</th>\n",
       "      <th>که</th>\n",
       "      <th>گرفتن</th>\n",
       "      <th>یه</th>\n",
       "    </tr>\n",
       "    <tr>\n",
       "      <th>Title</th>\n",
       "      <th></th>\n",
       "      <th></th>\n",
       "      <th></th>\n",
       "      <th></th>\n",
       "      <th></th>\n",
       "      <th></th>\n",
       "      <th></th>\n",
       "      <th></th>\n",
       "      <th></th>\n",
       "      <th></th>\n",
       "      <th></th>\n",
       "      <th></th>\n",
       "      <th></th>\n",
       "      <th></th>\n",
       "      <th></th>\n",
       "      <th></th>\n",
       "      <th></th>\n",
       "      <th></th>\n",
       "      <th></th>\n",
       "      <th></th>\n",
       "      <th></th>\n",
       "    </tr>\n",
       "  </thead>\n",
       "  <tbody>\n",
       "    <tr>\n",
       "      <th>Heartless</th>\n",
       "      <td>0</td>\n",
       "      <td>0</td>\n",
       "      <td>0</td>\n",
       "      <td>0</td>\n",
       "      <td>0</td>\n",
       "      <td>0</td>\n",
       "      <td>0</td>\n",
       "      <td>0</td>\n",
       "      <td>0</td>\n",
       "      <td>0</td>\n",
       "      <td>...</td>\n",
       "      <td>0</td>\n",
       "      <td>0</td>\n",
       "      <td>0</td>\n",
       "      <td>0</td>\n",
       "      <td>0</td>\n",
       "      <td>0</td>\n",
       "      <td>0</td>\n",
       "      <td>0</td>\n",
       "      <td>0</td>\n",
       "      <td>0</td>\n",
       "    </tr>\n",
       "    <tr>\n",
       "      <th>Circles</th>\n",
       "      <td>0</td>\n",
       "      <td>0</td>\n",
       "      <td>0</td>\n",
       "      <td>0</td>\n",
       "      <td>0</td>\n",
       "      <td>0</td>\n",
       "      <td>0</td>\n",
       "      <td>0</td>\n",
       "      <td>0</td>\n",
       "      <td>0</td>\n",
       "      <td>...</td>\n",
       "      <td>0</td>\n",
       "      <td>0</td>\n",
       "      <td>0</td>\n",
       "      <td>0</td>\n",
       "      <td>0</td>\n",
       "      <td>0</td>\n",
       "      <td>0</td>\n",
       "      <td>0</td>\n",
       "      <td>0</td>\n",
       "      <td>0</td>\n",
       "    </tr>\n",
       "    <tr>\n",
       "      <th>All I Want For Christmas Is You</th>\n",
       "      <td>0</td>\n",
       "      <td>0</td>\n",
       "      <td>0</td>\n",
       "      <td>0</td>\n",
       "      <td>0</td>\n",
       "      <td>0</td>\n",
       "      <td>0</td>\n",
       "      <td>0</td>\n",
       "      <td>0</td>\n",
       "      <td>0</td>\n",
       "      <td>...</td>\n",
       "      <td>0</td>\n",
       "      <td>0</td>\n",
       "      <td>0</td>\n",
       "      <td>0</td>\n",
       "      <td>0</td>\n",
       "      <td>0</td>\n",
       "      <td>0</td>\n",
       "      <td>0</td>\n",
       "      <td>0</td>\n",
       "      <td>0</td>\n",
       "    </tr>\n",
       "    <tr>\n",
       "      <th>Someone You Loved</th>\n",
       "      <td>0</td>\n",
       "      <td>0</td>\n",
       "      <td>0</td>\n",
       "      <td>0</td>\n",
       "      <td>0</td>\n",
       "      <td>0</td>\n",
       "      <td>0</td>\n",
       "      <td>0</td>\n",
       "      <td>0</td>\n",
       "      <td>0</td>\n",
       "      <td>...</td>\n",
       "      <td>0</td>\n",
       "      <td>0</td>\n",
       "      <td>0</td>\n",
       "      <td>0</td>\n",
       "      <td>0</td>\n",
       "      <td>0</td>\n",
       "      <td>0</td>\n",
       "      <td>0</td>\n",
       "      <td>0</td>\n",
       "      <td>0</td>\n",
       "    </tr>\n",
       "    <tr>\n",
       "      <th>Memories</th>\n",
       "      <td>0</td>\n",
       "      <td>0</td>\n",
       "      <td>0</td>\n",
       "      <td>0</td>\n",
       "      <td>0</td>\n",
       "      <td>0</td>\n",
       "      <td>0</td>\n",
       "      <td>0</td>\n",
       "      <td>0</td>\n",
       "      <td>0</td>\n",
       "      <td>...</td>\n",
       "      <td>0</td>\n",
       "      <td>0</td>\n",
       "      <td>0</td>\n",
       "      <td>0</td>\n",
       "      <td>0</td>\n",
       "      <td>0</td>\n",
       "      <td>0</td>\n",
       "      <td>0</td>\n",
       "      <td>0</td>\n",
       "      <td>0</td>\n",
       "    </tr>\n",
       "    <tr>\n",
       "      <th>...</th>\n",
       "      <td>...</td>\n",
       "      <td>...</td>\n",
       "      <td>...</td>\n",
       "      <td>...</td>\n",
       "      <td>...</td>\n",
       "      <td>...</td>\n",
       "      <td>...</td>\n",
       "      <td>...</td>\n",
       "      <td>...</td>\n",
       "      <td>...</td>\n",
       "      <td>...</td>\n",
       "      <td>...</td>\n",
       "      <td>...</td>\n",
       "      <td>...</td>\n",
       "      <td>...</td>\n",
       "      <td>...</td>\n",
       "      <td>...</td>\n",
       "      <td>...</td>\n",
       "      <td>...</td>\n",
       "      <td>...</td>\n",
       "      <td>...</td>\n",
       "    </tr>\n",
       "    <tr>\n",
       "      <th>Make No Sense</th>\n",
       "      <td>0</td>\n",
       "      <td>0</td>\n",
       "      <td>0</td>\n",
       "      <td>0</td>\n",
       "      <td>0</td>\n",
       "      <td>0</td>\n",
       "      <td>0</td>\n",
       "      <td>0</td>\n",
       "      <td>0</td>\n",
       "      <td>0</td>\n",
       "      <td>...</td>\n",
       "      <td>0</td>\n",
       "      <td>0</td>\n",
       "      <td>0</td>\n",
       "      <td>0</td>\n",
       "      <td>0</td>\n",
       "      <td>0</td>\n",
       "      <td>0</td>\n",
       "      <td>0</td>\n",
       "      <td>0</td>\n",
       "      <td>0</td>\n",
       "    </tr>\n",
       "    <tr>\n",
       "      <th>Jerry Sprunger</th>\n",
       "      <td>0</td>\n",
       "      <td>0</td>\n",
       "      <td>0</td>\n",
       "      <td>0</td>\n",
       "      <td>0</td>\n",
       "      <td>0</td>\n",
       "      <td>0</td>\n",
       "      <td>0</td>\n",
       "      <td>0</td>\n",
       "      <td>0</td>\n",
       "      <td>...</td>\n",
       "      <td>0</td>\n",
       "      <td>0</td>\n",
       "      <td>0</td>\n",
       "      <td>0</td>\n",
       "      <td>0</td>\n",
       "      <td>0</td>\n",
       "      <td>0</td>\n",
       "      <td>0</td>\n",
       "      <td>0</td>\n",
       "      <td>0</td>\n",
       "    </tr>\n",
       "    <tr>\n",
       "      <th>RITMO (Bad Boys For Life)</th>\n",
       "      <td>1</td>\n",
       "      <td>1</td>\n",
       "      <td>33</td>\n",
       "      <td>0</td>\n",
       "      <td>0</td>\n",
       "      <td>0</td>\n",
       "      <td>1</td>\n",
       "      <td>1</td>\n",
       "      <td>1</td>\n",
       "      <td>1</td>\n",
       "      <td>...</td>\n",
       "      <td>0</td>\n",
       "      <td>0</td>\n",
       "      <td>0</td>\n",
       "      <td>0</td>\n",
       "      <td>0</td>\n",
       "      <td>0</td>\n",
       "      <td>0</td>\n",
       "      <td>0</td>\n",
       "      <td>0</td>\n",
       "      <td>0</td>\n",
       "    </tr>\n",
       "    <tr>\n",
       "      <th>Into The Unknown</th>\n",
       "      <td>0</td>\n",
       "      <td>0</td>\n",
       "      <td>0</td>\n",
       "      <td>0</td>\n",
       "      <td>0</td>\n",
       "      <td>0</td>\n",
       "      <td>0</td>\n",
       "      <td>0</td>\n",
       "      <td>0</td>\n",
       "      <td>0</td>\n",
       "      <td>...</td>\n",
       "      <td>0</td>\n",
       "      <td>0</td>\n",
       "      <td>0</td>\n",
       "      <td>0</td>\n",
       "      <td>0</td>\n",
       "      <td>0</td>\n",
       "      <td>0</td>\n",
       "      <td>0</td>\n",
       "      <td>0</td>\n",
       "      <td>0</td>\n",
       "    </tr>\n",
       "    <tr>\n",
       "      <th>La Cancion</th>\n",
       "      <td>0</td>\n",
       "      <td>0</td>\n",
       "      <td>0</td>\n",
       "      <td>0</td>\n",
       "      <td>0</td>\n",
       "      <td>0</td>\n",
       "      <td>0</td>\n",
       "      <td>0</td>\n",
       "      <td>0</td>\n",
       "      <td>0</td>\n",
       "      <td>...</td>\n",
       "      <td>0</td>\n",
       "      <td>0</td>\n",
       "      <td>0</td>\n",
       "      <td>0</td>\n",
       "      <td>0</td>\n",
       "      <td>0</td>\n",
       "      <td>0</td>\n",
       "      <td>0</td>\n",
       "      <td>0</td>\n",
       "      <td>0</td>\n",
       "    </tr>\n",
       "  </tbody>\n",
       "</table>\n",
       "<p>100 rows × 4999 columns</p>\n",
       "</div>"
      ],
      "text/plain": [
       "                                 000  02  10  100  101  10k  11  12  12am  14  \\\n",
       "Title                                                                           \n",
       "Heartless                          0   0   0    0    0    0   0   0     0   0   \n",
       "Circles                            0   0   0    0    0    0   0   0     0   0   \n",
       "All I Want For Christmas Is You    0   0   0    0    0    0   0   0     0   0   \n",
       "Someone You Loved                  0   0   0    0    0    0   0   0     0   0   \n",
       "Memories                           0   0   0    0    0    0   0   0     0   0   \n",
       "...                              ...  ..  ..  ...  ...  ...  ..  ..   ...  ..   \n",
       "Make No Sense                      0   0   0    0    0    0   0   0     0   0   \n",
       "Jerry Sprunger                     0   0   0    0    0    0   0   0     0   0   \n",
       "RITMO (Bad Boys For Life)          1   1  33    0    0    0   1   1     1   1   \n",
       "Into The Unknown                   0   0   0    0    0    0   0   0     0   0   \n",
       "La Cancion                         0   0   0    0    0    0   0   0     0   0   \n",
       "\n",
       "                                 ...  کردن  کردیم  کسی  کلی  کمگ  کنار  کنیم  \\\n",
       "Title                            ...                                           \n",
       "Heartless                        ...     0      0    0    0    0     0     0   \n",
       "Circles                          ...     0      0    0    0    0     0     0   \n",
       "All I Want For Christmas Is You  ...     0      0    0    0    0     0     0   \n",
       "Someone You Loved                ...     0      0    0    0    0     0     0   \n",
       "Memories                         ...     0      0    0    0    0     0     0   \n",
       "...                              ...   ...    ...  ...  ...  ...   ...   ...   \n",
       "Make No Sense                    ...     0      0    0    0    0     0     0   \n",
       "Jerry Sprunger                   ...     0      0    0    0    0     0     0   \n",
       "RITMO (Bad Boys For Life)        ...     0      0    0    0    0     0     0   \n",
       "Into The Unknown                 ...     0      0    0    0    0     0     0   \n",
       "La Cancion                       ...     0      0    0    0    0     0     0   \n",
       "\n",
       "                                 که  گرفتن  یه  \n",
       "Title                                           \n",
       "Heartless                         0      0   0  \n",
       "Circles                           0      0   0  \n",
       "All I Want For Christmas Is You   0      0   0  \n",
       "Someone You Loved                 0      0   0  \n",
       "Memories                          0      0   0  \n",
       "...                              ..    ...  ..  \n",
       "Make No Sense                     0      0   0  \n",
       "Jerry Sprunger                    0      0   0  \n",
       "RITMO (Bad Boys For Life)         0      0   0  \n",
       "Into The Unknown                  0      0   0  \n",
       "La Cancion                        0      0   0  \n",
       "\n",
       "[100 rows x 4999 columns]"
      ]
     },
     "execution_count": 187,
     "metadata": {},
     "output_type": "execute_result"
    }
   ],
   "source": [
    "def create_term_doc_matrix(chart):\n",
    "    lyrics = chart[\"lyrics\"].to_list()\n",
    "    vec = CountVectorizer()\n",
    "    X = vec.fit_transform(lyrics)\n",
    "    termdocmatrix = pd.DataFrame(X.toarray(), columns=vec.get_feature_names(), index=chart.Title)\n",
    "    return termdocmatrix\n",
    "\n",
    "top100 = top100[top100.lyrics != \"Failed to Find Lyrics\"]\n",
    "create_term_doc_matrix(top100)"
   ]
  },
  {
   "cell_type": "code",
   "execution_count": 188,
   "metadata": {},
   "outputs": [
    {
     "data": {
      "text/html": [
       "<div>\n",
       "<style scoped>\n",
       "    .dataframe tbody tr th:only-of-type {\n",
       "        vertical-align: middle;\n",
       "    }\n",
       "\n",
       "    .dataframe tbody tr th {\n",
       "        vertical-align: top;\n",
       "    }\n",
       "\n",
       "    .dataframe thead th {\n",
       "        text-align: right;\n",
       "    }\n",
       "</style>\n",
       "<table border=\"1\" class=\"dataframe\">\n",
       "  <thead>\n",
       "    <tr style=\"text-align: right;\">\n",
       "      <th>Title</th>\n",
       "      <th>Heartless</th>\n",
       "      <th>Circles</th>\n",
       "      <th>All I Want For Christmas Is You</th>\n",
       "      <th>Someone You Loved</th>\n",
       "      <th>Memories</th>\n",
       "      <th>Good As Hell</th>\n",
       "      <th>Roxanne</th>\n",
       "      <th>Rockin' Around The Christmas Tree</th>\n",
       "      <th>Lose You To Love Me</th>\n",
       "      <th>10,000 Hours</th>\n",
       "      <th>...</th>\n",
       "      <th>Follow God</th>\n",
       "      <th>Cuban Links</th>\n",
       "      <th>F.N</th>\n",
       "      <th>Candy</th>\n",
       "      <th>Tusa</th>\n",
       "      <th>Make No Sense</th>\n",
       "      <th>Jerry Sprunger</th>\n",
       "      <th>RITMO (Bad Boys For Life)</th>\n",
       "      <th>Into The Unknown</th>\n",
       "      <th>La Cancion</th>\n",
       "    </tr>\n",
       "  </thead>\n",
       "  <tbody>\n",
       "    <tr>\n",
       "      <th>000</th>\n",
       "      <td>0.0</td>\n",
       "      <td>0.0</td>\n",
       "      <td>0.0</td>\n",
       "      <td>0.0</td>\n",
       "      <td>0.0</td>\n",
       "      <td>0.0</td>\n",
       "      <td>0.0</td>\n",
       "      <td>0.0</td>\n",
       "      <td>0.0</td>\n",
       "      <td>0.0</td>\n",
       "      <td>...</td>\n",
       "      <td>0.0</td>\n",
       "      <td>0.008179</td>\n",
       "      <td>0.0</td>\n",
       "      <td>0.0</td>\n",
       "      <td>0.0</td>\n",
       "      <td>0.0</td>\n",
       "      <td>0.0</td>\n",
       "      <td>0.008179</td>\n",
       "      <td>0.0</td>\n",
       "      <td>0.0</td>\n",
       "    </tr>\n",
       "    <tr>\n",
       "      <th>02</th>\n",
       "      <td>0.0</td>\n",
       "      <td>0.0</td>\n",
       "      <td>0.0</td>\n",
       "      <td>0.0</td>\n",
       "      <td>0.0</td>\n",
       "      <td>0.0</td>\n",
       "      <td>0.0</td>\n",
       "      <td>0.0</td>\n",
       "      <td>0.0</td>\n",
       "      <td>0.0</td>\n",
       "      <td>...</td>\n",
       "      <td>0.0</td>\n",
       "      <td>0.008179</td>\n",
       "      <td>0.0</td>\n",
       "      <td>0.0</td>\n",
       "      <td>0.0</td>\n",
       "      <td>0.0</td>\n",
       "      <td>0.0</td>\n",
       "      <td>0.008179</td>\n",
       "      <td>0.0</td>\n",
       "      <td>0.0</td>\n",
       "    </tr>\n",
       "    <tr>\n",
       "      <th>10</th>\n",
       "      <td>0.0</td>\n",
       "      <td>0.0</td>\n",
       "      <td>0.0</td>\n",
       "      <td>0.0</td>\n",
       "      <td>0.0</td>\n",
       "      <td>0.0</td>\n",
       "      <td>0.0</td>\n",
       "      <td>0.0</td>\n",
       "      <td>0.0</td>\n",
       "      <td>0.0</td>\n",
       "      <td>...</td>\n",
       "      <td>0.0</td>\n",
       "      <td>0.252710</td>\n",
       "      <td>0.0</td>\n",
       "      <td>0.0</td>\n",
       "      <td>0.0</td>\n",
       "      <td>0.0</td>\n",
       "      <td>0.0</td>\n",
       "      <td>0.252710</td>\n",
       "      <td>0.0</td>\n",
       "      <td>0.0</td>\n",
       "    </tr>\n",
       "    <tr>\n",
       "      <th>100</th>\n",
       "      <td>0.0</td>\n",
       "      <td>0.0</td>\n",
       "      <td>0.0</td>\n",
       "      <td>0.0</td>\n",
       "      <td>0.0</td>\n",
       "      <td>0.0</td>\n",
       "      <td>0.0</td>\n",
       "      <td>0.0</td>\n",
       "      <td>0.0</td>\n",
       "      <td>0.0</td>\n",
       "      <td>...</td>\n",
       "      <td>0.0</td>\n",
       "      <td>0.000000</td>\n",
       "      <td>0.0</td>\n",
       "      <td>0.0</td>\n",
       "      <td>0.0</td>\n",
       "      <td>0.0</td>\n",
       "      <td>0.0</td>\n",
       "      <td>0.000000</td>\n",
       "      <td>0.0</td>\n",
       "      <td>0.0</td>\n",
       "    </tr>\n",
       "    <tr>\n",
       "      <th>101</th>\n",
       "      <td>0.0</td>\n",
       "      <td>0.0</td>\n",
       "      <td>0.0</td>\n",
       "      <td>0.0</td>\n",
       "      <td>0.0</td>\n",
       "      <td>0.0</td>\n",
       "      <td>0.0</td>\n",
       "      <td>0.0</td>\n",
       "      <td>0.0</td>\n",
       "      <td>0.0</td>\n",
       "      <td>...</td>\n",
       "      <td>0.0</td>\n",
       "      <td>0.000000</td>\n",
       "      <td>0.0</td>\n",
       "      <td>0.0</td>\n",
       "      <td>0.0</td>\n",
       "      <td>0.0</td>\n",
       "      <td>0.0</td>\n",
       "      <td>0.000000</td>\n",
       "      <td>0.0</td>\n",
       "      <td>0.0</td>\n",
       "    </tr>\n",
       "    <tr>\n",
       "      <th>...</th>\n",
       "      <td>...</td>\n",
       "      <td>...</td>\n",
       "      <td>...</td>\n",
       "      <td>...</td>\n",
       "      <td>...</td>\n",
       "      <td>...</td>\n",
       "      <td>...</td>\n",
       "      <td>...</td>\n",
       "      <td>...</td>\n",
       "      <td>...</td>\n",
       "      <td>...</td>\n",
       "      <td>...</td>\n",
       "      <td>...</td>\n",
       "      <td>...</td>\n",
       "      <td>...</td>\n",
       "      <td>...</td>\n",
       "      <td>...</td>\n",
       "      <td>...</td>\n",
       "      <td>...</td>\n",
       "      <td>...</td>\n",
       "      <td>...</td>\n",
       "    </tr>\n",
       "    <tr>\n",
       "      <th>کنار</th>\n",
       "      <td>0.0</td>\n",
       "      <td>0.0</td>\n",
       "      <td>0.0</td>\n",
       "      <td>0.0</td>\n",
       "      <td>0.0</td>\n",
       "      <td>0.0</td>\n",
       "      <td>0.0</td>\n",
       "      <td>0.0</td>\n",
       "      <td>0.0</td>\n",
       "      <td>0.0</td>\n",
       "      <td>...</td>\n",
       "      <td>0.0</td>\n",
       "      <td>0.000000</td>\n",
       "      <td>0.0</td>\n",
       "      <td>0.0</td>\n",
       "      <td>0.0</td>\n",
       "      <td>0.0</td>\n",
       "      <td>0.0</td>\n",
       "      <td>0.000000</td>\n",
       "      <td>0.0</td>\n",
       "      <td>0.0</td>\n",
       "    </tr>\n",
       "    <tr>\n",
       "      <th>کنیم</th>\n",
       "      <td>0.0</td>\n",
       "      <td>0.0</td>\n",
       "      <td>0.0</td>\n",
       "      <td>0.0</td>\n",
       "      <td>0.0</td>\n",
       "      <td>0.0</td>\n",
       "      <td>0.0</td>\n",
       "      <td>0.0</td>\n",
       "      <td>0.0</td>\n",
       "      <td>0.0</td>\n",
       "      <td>...</td>\n",
       "      <td>0.0</td>\n",
       "      <td>0.000000</td>\n",
       "      <td>0.0</td>\n",
       "      <td>0.0</td>\n",
       "      <td>0.0</td>\n",
       "      <td>0.0</td>\n",
       "      <td>0.0</td>\n",
       "      <td>0.000000</td>\n",
       "      <td>0.0</td>\n",
       "      <td>0.0</td>\n",
       "    </tr>\n",
       "    <tr>\n",
       "      <th>که</th>\n",
       "      <td>0.0</td>\n",
       "      <td>0.0</td>\n",
       "      <td>0.0</td>\n",
       "      <td>0.0</td>\n",
       "      <td>0.0</td>\n",
       "      <td>0.0</td>\n",
       "      <td>0.0</td>\n",
       "      <td>0.0</td>\n",
       "      <td>0.0</td>\n",
       "      <td>0.0</td>\n",
       "      <td>...</td>\n",
       "      <td>0.0</td>\n",
       "      <td>0.000000</td>\n",
       "      <td>0.0</td>\n",
       "      <td>0.0</td>\n",
       "      <td>0.0</td>\n",
       "      <td>0.0</td>\n",
       "      <td>0.0</td>\n",
       "      <td>0.000000</td>\n",
       "      <td>0.0</td>\n",
       "      <td>0.0</td>\n",
       "    </tr>\n",
       "    <tr>\n",
       "      <th>گرفتن</th>\n",
       "      <td>0.0</td>\n",
       "      <td>0.0</td>\n",
       "      <td>0.0</td>\n",
       "      <td>0.0</td>\n",
       "      <td>0.0</td>\n",
       "      <td>0.0</td>\n",
       "      <td>0.0</td>\n",
       "      <td>0.0</td>\n",
       "      <td>0.0</td>\n",
       "      <td>0.0</td>\n",
       "      <td>...</td>\n",
       "      <td>0.0</td>\n",
       "      <td>0.000000</td>\n",
       "      <td>0.0</td>\n",
       "      <td>0.0</td>\n",
       "      <td>0.0</td>\n",
       "      <td>0.0</td>\n",
       "      <td>0.0</td>\n",
       "      <td>0.000000</td>\n",
       "      <td>0.0</td>\n",
       "      <td>0.0</td>\n",
       "    </tr>\n",
       "    <tr>\n",
       "      <th>یه</th>\n",
       "      <td>0.0</td>\n",
       "      <td>0.0</td>\n",
       "      <td>0.0</td>\n",
       "      <td>0.0</td>\n",
       "      <td>0.0</td>\n",
       "      <td>0.0</td>\n",
       "      <td>0.0</td>\n",
       "      <td>0.0</td>\n",
       "      <td>0.0</td>\n",
       "      <td>0.0</td>\n",
       "      <td>...</td>\n",
       "      <td>0.0</td>\n",
       "      <td>0.000000</td>\n",
       "      <td>0.0</td>\n",
       "      <td>0.0</td>\n",
       "      <td>0.0</td>\n",
       "      <td>0.0</td>\n",
       "      <td>0.0</td>\n",
       "      <td>0.000000</td>\n",
       "      <td>0.0</td>\n",
       "      <td>0.0</td>\n",
       "    </tr>\n",
       "  </tbody>\n",
       "</table>\n",
       "<p>4999 rows × 100 columns</p>\n",
       "</div>"
      ],
      "text/plain": [
       "Title  Heartless  Circles  All I Want For Christmas Is You  Someone You Loved  \\\n",
       "000          0.0      0.0                              0.0                0.0   \n",
       "02           0.0      0.0                              0.0                0.0   \n",
       "10           0.0      0.0                              0.0                0.0   \n",
       "100          0.0      0.0                              0.0                0.0   \n",
       "101          0.0      0.0                              0.0                0.0   \n",
       "...          ...      ...                              ...                ...   \n",
       "کنار         0.0      0.0                              0.0                0.0   \n",
       "کنیم         0.0      0.0                              0.0                0.0   \n",
       "که           0.0      0.0                              0.0                0.0   \n",
       "گرفتن        0.0      0.0                              0.0                0.0   \n",
       "یه           0.0      0.0                              0.0                0.0   \n",
       "\n",
       "Title  Memories  Good As Hell  Roxanne  Rockin' Around The Christmas Tree  \\\n",
       "000         0.0           0.0      0.0                                0.0   \n",
       "02          0.0           0.0      0.0                                0.0   \n",
       "10          0.0           0.0      0.0                                0.0   \n",
       "100         0.0           0.0      0.0                                0.0   \n",
       "101         0.0           0.0      0.0                                0.0   \n",
       "...         ...           ...      ...                                ...   \n",
       "کنار        0.0           0.0      0.0                                0.0   \n",
       "کنیم        0.0           0.0      0.0                                0.0   \n",
       "که          0.0           0.0      0.0                                0.0   \n",
       "گرفتن       0.0           0.0      0.0                                0.0   \n",
       "یه          0.0           0.0      0.0                                0.0   \n",
       "\n",
       "Title  Lose You To Love Me  10,000 Hours  ...  Follow God  Cuban Links  F.N  \\\n",
       "000                    0.0           0.0  ...         0.0     0.008179  0.0   \n",
       "02                     0.0           0.0  ...         0.0     0.008179  0.0   \n",
       "10                     0.0           0.0  ...         0.0     0.252710  0.0   \n",
       "100                    0.0           0.0  ...         0.0     0.000000  0.0   \n",
       "101                    0.0           0.0  ...         0.0     0.000000  0.0   \n",
       "...                    ...           ...  ...         ...          ...  ...   \n",
       "کنار                   0.0           0.0  ...         0.0     0.000000  0.0   \n",
       "کنیم                   0.0           0.0  ...         0.0     0.000000  0.0   \n",
       "که                     0.0           0.0  ...         0.0     0.000000  0.0   \n",
       "گرفتن                  0.0           0.0  ...         0.0     0.000000  0.0   \n",
       "یه                     0.0           0.0  ...         0.0     0.000000  0.0   \n",
       "\n",
       "Title  Candy  Tusa  Make No Sense  Jerry Sprunger  RITMO (Bad Boys For Life)  \\\n",
       "000      0.0   0.0            0.0             0.0                   0.008179   \n",
       "02       0.0   0.0            0.0             0.0                   0.008179   \n",
       "10       0.0   0.0            0.0             0.0                   0.252710   \n",
       "100      0.0   0.0            0.0             0.0                   0.000000   \n",
       "101      0.0   0.0            0.0             0.0                   0.000000   \n",
       "...      ...   ...            ...             ...                        ...   \n",
       "کنار     0.0   0.0            0.0             0.0                   0.000000   \n",
       "کنیم     0.0   0.0            0.0             0.0                   0.000000   \n",
       "که       0.0   0.0            0.0             0.0                   0.000000   \n",
       "گرفتن    0.0   0.0            0.0             0.0                   0.000000   \n",
       "یه       0.0   0.0            0.0             0.0                   0.000000   \n",
       "\n",
       "Title  Into The Unknown  La Cancion  \n",
       "000                 0.0         0.0  \n",
       "02                  0.0         0.0  \n",
       "10                  0.0         0.0  \n",
       "100                 0.0         0.0  \n",
       "101                 0.0         0.0  \n",
       "...                 ...         ...  \n",
       "کنار                0.0         0.0  \n",
       "کنیم                0.0         0.0  \n",
       "که                  0.0         0.0  \n",
       "گرفتن               0.0         0.0  \n",
       "یه                  0.0         0.0  \n",
       "\n",
       "[4999 rows x 100 columns]"
      ]
     },
     "execution_count": 188,
     "metadata": {},
     "output_type": "execute_result"
    }
   ],
   "source": [
    "def create_tfidf(chart):\n",
    "    lyrics = chart[\"lyrics\"].to_list()\n",
    "    vectorizer = TfidfVectorizer()\n",
    "    doc_vec = vectorizer.fit_transform(lyrics)\n",
    "    tfidf = pd.DataFrame(doc_vec.toarray().transpose(), index=vectorizer.get_feature_names())\n",
    "    tfidf.columns = chart[\"Title\"]\n",
    "    return tfidf\n",
    "\n",
    "tfidf = create_tfidf(top100)\n",
    "tfidf"
   ]
  },
  {
   "cell_type": "code",
   "execution_count": 189,
   "metadata": {},
   "outputs": [
    {
     "data": {
      "text/plain": [
       "0.1032352139900712"
      ]
     },
     "execution_count": 189,
     "metadata": {},
     "output_type": "execute_result"
    }
   ],
   "source": [
    "def average_cosine_similarity(tfidf):\n",
    "    similarity = 0\n",
    "    count = 0\n",
    "    for index in range(tfidf.shape[1]):\n",
    "        col = tfidf.iloc[: , index]\n",
    "        for ind2 in range(index + 1, tfidf.shape[1]):\n",
    "            col2 = tfidf.iloc[: , ind2]\n",
    "            similarity = similarity + np.dot(col.values,col2.values)/(np.linalg.norm(col.values)*np.linalg.norm(col2.values))\n",
    "            count = count + 1\n",
    "    return similarity/count\n",
    "            \n",
    "average_cosine_similarity(tfidf)"
   ]
  },
  {
   "cell_type": "code",
   "execution_count": 190,
   "metadata": {},
   "outputs": [
    {
     "data": {
      "text/plain": [
       "0.0"
      ]
     },
     "metadata": {},
     "output_type": "display_data"
    },
    {
     "data": {
      "text/plain": [
       "0.27"
      ]
     },
     "metadata": {},
     "output_type": "display_data"
    },
    {
     "data": {
      "text/plain": [
       "0.12"
      ]
     },
     "metadata": {},
     "output_type": "display_data"
    }
   ],
   "source": [
    "def percent_of_top_100(songs):\n",
    "    count = 0\n",
    "    len = songs.shape[0] #num of rows\n",
    "    \n",
    "    for index, row in songs.iterrows():\n",
    "        if ((top100['Title'] == row['Title']) & (top100['Artist'] == row['Artist'])).any():\n",
    "            count += 1\n",
    "            \n",
    "    return count / 100\n",
    "            \n",
    "display(percent_of_top_100(rock))\n",
    "display(percent_of_top_100(pop))\n",
    "display(percent_of_top_100(country))"
   ]
  },
  {
   "cell_type": "code",
   "execution_count": 191,
   "metadata": {},
   "outputs": [
    {
     "data": {
      "text/plain": [
       "Title\n",
       "Heartless                           347\n",
       "Circles                             300\n",
       "All I Want For Christmas Is You     348\n",
       "Someone You Loved                   303\n",
       "Memories                            436\n",
       "                                   ... \n",
       "Make No Sense                       474\n",
       "Jerry Sprunger                      630\n",
       "RITMO (Bad Boys For Life)          2021\n",
       "Into The Unknown                    275\n",
       "La Cancion                          387\n",
       "Length: 100, dtype: int64"
      ]
     },
     "metadata": {},
     "output_type": "display_data"
    }
   ],
   "source": [
    "def get_lyric_len(chart):\n",
    "    return create_term_doc_matrix(chart).sum(axis = 1, skipna = True)\n",
    "\n",
    "display(get_lyric_len(top100))"
   ]
  },
  {
   "cell_type": "code",
   "execution_count": 192,
   "metadata": {},
   "outputs": [
    {
     "data": {
      "text/plain": [
       "you     1469\n",
       "the     1193\n",
       "me       819\n",
       "it       692\n",
       "to       653\n",
       "and      599\n",
       "my       526\n",
       "yeah     420\n",
       "that     419\n",
       "on       386\n",
       "dtype: int64"
      ]
     },
     "metadata": {},
     "output_type": "display_data"
    },
    {
     "data": {
      "text/plain": [
       "you     0.037181\n",
       "the     0.030196\n",
       "me      0.020729\n",
       "it      0.017515\n",
       "to      0.016528\n",
       "and     0.015161\n",
       "my      0.013313\n",
       "yeah    0.010630\n",
       "that    0.010605\n",
       "on      0.009770\n",
       "dtype: float64"
      ]
     },
     "metadata": {},
     "output_type": "display_data"
    }
   ],
   "source": [
    "def get_chart_word_count(chart):\n",
    "    return create_term_doc_matrix(chart).sum(axis = 0, skipna = True)\n",
    "\n",
    "def find_most_freq_words(chart):\n",
    "    counts = get_chart_word_count(chart)\n",
    "    return counts.nlargest(10) \n",
    "\n",
    "    \n",
    "freq = find_most_freq_words(top100)\n",
    "display(freq)\n",
    "display(freq / get_lyric_len(top100).sum(axis = 0, skipna = True))"
   ]
  },
  {
   "cell_type": "code",
   "execution_count": 193,
   "metadata": {},
   "outputs": [],
   "source": [
    "def print_word_freq(chart):\n",
    "    freq = find_most_freq_words(chart)\n",
    "    \n",
    "    display(freq)\n",
    "    display(freq / get_lyric_len(chart).sum(axis = 0, skipna = True))\n",
    "    \n",
    "    freq = pd.DataFrame({'words':freq.index, 'word_cnt':freq.values})\n",
    "    sns.barplot(x=\"words\", y=\"word_cnt\", data=freq)"
   ]
  },
  {
   "cell_type": "code",
   "execution_count": 194,
   "metadata": {},
   "outputs": [
    {
     "data": {
      "text/plain": [
       "you     752\n",
       "the     569\n",
       "to      357\n",
       "me      339\n",
       "it      310\n",
       "and     269\n",
       "my      208\n",
       "know    201\n",
       "that    189\n",
       "oh      185\n",
       "dtype: int64"
      ]
     },
     "metadata": {},
     "output_type": "display_data"
    },
    {
     "data": {
      "text/plain": [
       "you     0.049240\n",
       "the     0.037258\n",
       "to      0.023376\n",
       "me      0.022197\n",
       "it      0.020299\n",
       "and     0.017614\n",
       "my      0.013620\n",
       "know    0.013161\n",
       "that    0.012376\n",
       "oh      0.012114\n",
       "dtype: float64"
      ]
     },
     "metadata": {},
     "output_type": "display_data"
    },
    {
     "data": {
      "image/png": "[encoded data removed]",
      "text/plain": [
       "<Figure size 432x288 with 1 Axes>"
      ]
     },
     "metadata": {
      "needs_background": "light"
     },
     "output_type": "display_data"
    }
   ],
   "source": [
    "rock = populate_chart_with_lyrics(rock)\n",
    "print_word_freq(rock)"
   ]
  },
  {
   "cell_type": "code",
   "execution_count": 195,
   "metadata": {},
   "outputs": [
    {
     "data": {
      "text/plain": [
       "you     649\n",
       "the     452\n",
       "me      340\n",
       "to      312\n",
       "it      283\n",
       "and     255\n",
       "my      235\n",
       "that    192\n",
       "all     168\n",
       "we      157\n",
       "dtype: int64"
      ]
     },
     "metadata": {},
     "output_type": "display_data"
    },
    {
     "data": {
      "text/plain": [
       "you     0.040654\n",
       "the     0.028314\n",
       "me      0.021298\n",
       "to      0.019544\n",
       "it      0.017727\n",
       "and     0.015973\n",
       "my      0.014721\n",
       "that    0.012027\n",
       "all     0.010524\n",
       "we      0.009835\n",
       "dtype: float64"
      ]
     },
     "metadata": {},
     "output_type": "display_data"
    },
    {
     "data": {
      "image/png": "[encoded data removed]",
      "text/plain": [
       "<Figure size 432x288 with 1 Axes>"
      ]
     },
     "metadata": {
      "needs_background": "light"
     },
     "output_type": "display_data"
    }
   ],
   "source": [
    "pop = populate_chart_with_lyrics(pop)\n",
    "print_word_freq(pop)"
   ]
  },
  {
   "cell_type": "code",
   "execution_count": 196,
   "metadata": {},
   "outputs": [
    {
     "data": {
      "text/plain": [
       "the    547\n",
       "you    527\n",
       "and    345\n",
       "to     275\n",
       "on     214\n",
       "we     211\n",
       "in     199\n",
       "it     199\n",
       "my     181\n",
       "of     174\n",
       "dtype: int64"
      ]
     },
     "metadata": {},
     "output_type": "display_data"
    },
    {
     "data": {
      "text/plain": [
       "the    0.038031\n",
       "you    0.036640\n",
       "and    0.023987\n",
       "to     0.019120\n",
       "on     0.014879\n",
       "we     0.014670\n",
       "in     0.013836\n",
       "it     0.013836\n",
       "my     0.012584\n",
       "of     0.012098\n",
       "dtype: float64"
      ]
     },
     "metadata": {},
     "output_type": "display_data"
    },
    {
     "data": {
      "image/png": "[encoded data removed]",
      "text/plain": [
       "<Figure size 432x288 with 1 Axes>"
      ]
     },
     "metadata": {
      "needs_background": "light"
     },
     "output_type": "display_data"
    }
   ],
   "source": [
    "country = populate_chart_with_lyrics(country)\n",
    "print_word_freq(country)"
   ]
  },
  {
   "cell_type": "code",
   "execution_count": 197,
   "metadata": {},
   "outputs": [],
   "source": [
    "def find_most_freq_key_words(chart): #This removes unimportant words such as a, an, to, the, etc... \n",
    "    words = ['a', 'an', 'the','that','you','of', 'it', 'my', 'yeah', 'all', 'that', 'to', 'on', 'and', 'oh', 'be', 'in', 'when', 're', 'but', 'can', 'for', 'so']\n",
    "    counts = get_chart_word_count(chart)\n",
    "    counts = counts[~counts.index.isin(words)]\n",
    "    return counts.nlargest(10) "
   ]
  },
  {
   "cell_type": "code",
   "execution_count": 198,
   "metadata": {},
   "outputs": [],
   "source": [
    "def print_word_key_freq(chart):\n",
    "    freq = find_most_freq_key_words(chart)\n",
    "    \n",
    "    display(freq)\n",
    "    display(freq / get_lyric_len(chart).sum(axis = 0, skipna = True))\n",
    "    \n",
    "    freq = pd.DataFrame({'words':freq.index, 'word_cnt':freq.values})\n",
    "    sns.barplot(x=\"words\", y=\"word_cnt\", data=freq)\n",
    "    "
   ]
  },
  {
   "cell_type": "code",
   "execution_count": 199,
   "metadata": {},
   "outputs": [
    {
     "data": {
      "text/plain": [
       "me      339\n",
       "know    201\n",
       "don     154\n",
       "up      125\n",
       "we      124\n",
       "ll      116\n",
       "like    112\n",
       "what    106\n",
       "your    102\n",
       "down     99\n",
       "dtype: int64"
      ]
     },
     "metadata": {},
     "output_type": "display_data"
    },
    {
     "data": {
      "text/plain": [
       "me      0.022197\n",
       "know    0.013161\n",
       "don     0.010084\n",
       "up      0.008185\n",
       "we      0.008119\n",
       "ll      0.007596\n",
       "like    0.007334\n",
       "what    0.006941\n",
       "your    0.006679\n",
       "down    0.006482\n",
       "dtype: float64"
      ]
     },
     "metadata": {},
     "output_type": "display_data"
    },
    {
     "data": {
      "image/png": "[encoded data removed]",
      "text/plain": [
       "<Figure size 432x288 with 1 Axes>"
      ]
     },
     "metadata": {
      "needs_background": "light"
     },
     "output_type": "display_data"
    }
   ],
   "source": [
    "print_word_key_freq(rock)"
   ]
  },
  {
   "cell_type": "code",
   "execution_count": 200,
   "metadata": {},
   "outputs": [
    {
     "data": {
      "text/plain": [
       "me      340\n",
       "we      157\n",
       "don     155\n",
       "ft      131\n",
       "love    128\n",
       "do      126\n",
       "your    120\n",
       "up      100\n",
       "know     96\n",
       "got      90\n",
       "dtype: int64"
      ]
     },
     "metadata": {},
     "output_type": "display_data"
    },
    {
     "data": {
      "text/plain": [
       "me      0.021298\n",
       "we      0.009835\n",
       "don     0.009709\n",
       "ft      0.008206\n",
       "love    0.008018\n",
       "do      0.007893\n",
       "your    0.007517\n",
       "up      0.006264\n",
       "know    0.006014\n",
       "got     0.005638\n",
       "dtype: float64"
      ]
     },
     "metadata": {},
     "output_type": "display_data"
    },
    {
     "data": {
      "image/png": "[encoded data removed]",
      "text/plain": [
       "<Figure size 432x288 with 1 Axes>"
      ]
     },
     "metadata": {
      "needs_background": "light"
     },
     "output_type": "display_data"
    }
   ],
   "source": [
    "print_word_key_freq(pop)"
   ]
  },
  {
   "cell_type": "code",
   "execution_count": 201,
   "metadata": {},
   "outputs": [
    {
     "data": {
      "text/plain": [
       "we      211\n",
       "me      168\n",
       "got     155\n",
       "your    145\n",
       "what    132\n",
       "don     116\n",
       "one     115\n",
       "she     114\n",
       "just     98\n",
       "ooh      98\n",
       "dtype: int64"
      ]
     },
     "metadata": {},
     "output_type": "display_data"
    },
    {
     "data": {
      "text/plain": [
       "we      0.014670\n",
       "me      0.011680\n",
       "got     0.010777\n",
       "your    0.010081\n",
       "what    0.009178\n",
       "don     0.008065\n",
       "one     0.007996\n",
       "she     0.007926\n",
       "just    0.006814\n",
       "ooh     0.006814\n",
       "dtype: float64"
      ]
     },
     "metadata": {},
     "output_type": "display_data"
    },
    {
     "data": {
      "image/png": "[encoded data removed]",
      "text/plain": [
       "<Figure size 432x288 with 1 Axes>"
      ]
     },
     "metadata": {
      "needs_background": "light"
     },
     "output_type": "display_data"
    }
   ],
   "source": [
    "print_word_key_freq(country)"
   ]
  },
  {
   "cell_type": "code",
   "execution_count": 202,
   "metadata": {},
   "outputs": [
    {
     "data": {
      "text/plain": [
       "me      819\n",
       "we      348\n",
       "don     300\n",
       "with    285\n",
       "up      268\n",
       "like    265\n",
       "no      259\n",
       "your    254\n",
       "got     221\n",
       "back    215\n",
       "dtype: int64"
      ]
     },
     "metadata": {},
     "output_type": "display_data"
    },
    {
     "data": {
      "text/plain": [
       "me      0.020729\n",
       "we      0.008808\n",
       "don     0.007593\n",
       "with    0.007214\n",
       "up      0.006783\n",
       "like    0.006707\n",
       "no      0.006555\n",
       "your    0.006429\n",
       "got     0.005594\n",
       "back    0.005442\n",
       "dtype: float64"
      ]
     },
     "metadata": {},
     "output_type": "display_data"
    },
    {
     "data": {
      "image/png": "[encoded data removed]",
      "text/plain": [
       "<Figure size 432x288 with 1 Axes>"
      ]
     },
     "metadata": {
      "needs_background": "light"
     },
     "output_type": "display_data"
    }
   ],
   "source": [
    "print_word_key_freq(top100)"
   ]
  },
  {
   "cell_type": "code",
   "execution_count": 203,
   "metadata": {},
   "outputs": [
    {
     "name": "stdout",
     "output_type": "stream",
     "text": [
      "\u001b[33mDEPRECATION: Python 2.7 will reach the end of its life on January 1st, 2020. Please upgrade your Python as Python 2.7 won't be maintained after that date. A future version of pip will drop support for Python 2.7. More details about Python 2 support in pip, can be found at https://pip.pypa.io/en/latest/development/release-process/#python-2-support\u001b[0m\n",
      "Requirement already satisfied: profanity-check in /Library/Frameworks/Python.framework/Versions/2.7/lib/python2.7/site-packages (1.0.3)\n",
      "Requirement already satisfied: scikit-learn>=0.20.2 in /Library/Frameworks/Python.framework/Versions/2.7/lib/python2.7/site-packages (from profanity-check) (0.20.4)\n",
      "Requirement already satisfied: numpy>=1.8.2 in /Library/Frameworks/Python.framework/Versions/2.7/lib/python2.7/site-packages (from scikit-learn>=0.20.2->profanity-check) (1.16.5)\n",
      "Requirement already satisfied: scipy>=0.13.3 in /Library/Frameworks/Python.framework/Versions/2.7/lib/python2.7/site-packages (from scikit-learn>=0.20.2->profanity-check) (1.2.2)\n"
     ]
    }
   ],
   "source": [
    "#Are songs becoming more profane over time?\n",
    "#We test this by looking into the percentage of lyrics that are profanities\n",
    "\n",
    "!pip install profanity-check\n",
    "\n",
    "from profanity_check import predict, predict_prob"
   ]
  },
  {
   "cell_type": "code",
   "execution_count": 204,
   "metadata": {},
   "outputs": [],
   "source": [
    "def get_profan_freq(chart):\n",
    "    freq = get_chart_word_count(chart)\n",
    "    profan = {}\n",
    "    percent = {}\n",
    "    \n",
    "    for row in freq.index:\n",
    "        if predict([row]):\n",
    "            profan[row] = freq[row]\n",
    "            percent[row] = profan[row] / get_lyric_len(chart).sum(axis = 0, skipna = True)\n",
    "               \n",
    "    display(profan)\n",
    "    display(percent)"
   ]
  },
  {
   "cell_type": "code",
   "execution_count": 205,
   "metadata": {},
   "outputs": [
    {
     "data": {
      "text/plain": [
       "{'ass': 32,\n",
       " 'asshole': 3,\n",
       " 'bastard': 1,\n",
       " 'bitch': 93,\n",
       " 'bitches': 19,\n",
       " 'bullshit': 2,\n",
       " 'cum': 1,\n",
       " 'dick': 13,\n",
       " 'fuck': 127,\n",
       " 'fucked': 3,\n",
       " 'fuckin': 7,\n",
       " 'fucking': 8,\n",
       " 'hoe': 1,\n",
       " 'hoes': 8,\n",
       " 'motherfucker': 2,\n",
       " 'nigga': 116,\n",
       " 'pussy': 15,\n",
       " 'shit': 46,\n",
       " 'stupid': 9}"
      ]
     },
     "metadata": {},
     "output_type": "display_data"
    },
    {
     "data": {
      "text/plain": [
       "{'ass': 0.0008099420385228682,\n",
       " 'asshole': 7.593206611151889e-05,\n",
       " 'bastard': 2.531068870383963e-05,\n",
       " 'bitch': 0.0023538940494570856,\n",
       " 'bitches': 0.000480903085372953,\n",
       " 'bullshit': 5.062137740767926e-05,\n",
       " 'cum': 2.531068870383963e-05,\n",
       " 'dick': 0.0003290389531499152,\n",
       " 'fuck': 0.0032144574653876334,\n",
       " 'fucked': 7.593206611151889e-05,\n",
       " 'fuckin': 0.00017717482092687741,\n",
       " 'fucking': 0.00020248550963071705,\n",
       " 'hoe': 2.531068870383963e-05,\n",
       " 'hoes': 0.00020248550963071705,\n",
       " 'motherfucker': 5.062137740767926e-05,\n",
       " 'nigga': 0.0029360398896453974,\n",
       " 'pussy': 0.00037966033055759446,\n",
       " 'shit': 0.0011642916803766231,\n",
       " 'stupid': 0.00022779619833455668}"
      ]
     },
     "metadata": {},
     "output_type": "display_data"
    }
   ],
   "source": [
    "get_profan_freq(top100)"
   ]
  },
  {
   "cell_type": "code",
   "execution_count": 206,
   "metadata": {},
   "outputs": [
    {
     "data": {
      "text/plain": [
       "{'ass': 8,\n",
       " 'asshole': 3,\n",
       " 'bitch': 24,\n",
       " 'bitches': 4,\n",
       " 'bullshit': 1,\n",
       " 'dick': 6,\n",
       " 'fuck': 26,\n",
       " 'fucked': 2,\n",
       " 'fuckin': 2,\n",
       " 'hoes': 5,\n",
       " 'nigga': 20,\n",
       " 'pussy': 5,\n",
       " 'shit': 15,\n",
       " 'stupid': 6,\n",
       " 'suck': 1}"
      ]
     },
     "metadata": {},
     "output_type": "display_data"
    },
    {
     "data": {
      "text/plain": [
       "{'ass': 0.0005011275369581559,\n",
       " 'asshole': 0.00018792282635930844,\n",
       " 'bitch': 0.0015033826108744675,\n",
       " 'bitches': 0.00025056376847907793,\n",
       " 'bullshit': 6.264094211976948e-05,\n",
       " 'dick': 0.00037584565271861687,\n",
       " 'fuck': 0.0016286644951140066,\n",
       " 'fucked': 0.00012528188423953897,\n",
       " 'fuckin': 0.00012528188423953897,\n",
       " 'hoes': 0.00031320471059884743,\n",
       " 'nigga': 0.0012528188423953897,\n",
       " 'pussy': 0.00031320471059884743,\n",
       " 'shit': 0.0009396141317965422,\n",
       " 'stupid': 0.00037584565271861687,\n",
       " 'suck': 6.264094211976948e-05}"
      ]
     },
     "metadata": {},
     "output_type": "display_data"
    }
   ],
   "source": [
    "get_profan_freq(pop)"
   ]
  },
  {
   "cell_type": "code",
   "execution_count": 212,
   "metadata": {},
   "outputs": [],
   "source": [
    "def profan_cnt_graph(chart):\n",
    "    doc = create_term_doc_matrix(chart)\n",
    "    cols = doc.columns\n",
    "\n",
    "    for i in cols:\n",
    "        if not predict([i]):\n",
    "            cols = cols.drop([i])\n",
    "\n",
    "    doc = doc[cols]\n",
    "    sum = doc.sum(axis = 1, skipna = True) \n",
    "    sum = pd.DataFrame({'Title':sum.index, 'profan_cnt':sum.values})\n",
    "\n",
    "    sum['Rank'] = chart['Rank']\n",
    "    sns.regplot(x=\"Rank\", y=\"profan_cnt\", data=sum)"
   ]
  },
  {
   "cell_type": "code",
   "execution_count": 213,
   "metadata": {},
   "outputs": [
    {
     "data": {
      "image/png": "[encoded data removed]",
      "text/plain": [
       "<Figure size 432x288 with 1 Axes>"
      ]
     },
     "metadata": {
      "needs_background": "light"
     },
     "output_type": "display_data"
    }
   ],
   "source": [
    "#Trend seems to be that higher ranking songs tend to have less profanity.\n",
    "#This makes sense, less profanity makes the song easier to play in more places. \n",
    "profan_cnt_graph(top100)"
   ]
  },
  {
   "cell_type": "code",
   "execution_count": 217,
   "metadata": {},
   "outputs": [
    {
     "data": {
      "text/plain": [
       "{'ass': 8,\n",
       " 'asshole': 3,\n",
       " 'bitch': 24,\n",
       " 'bitches': 4,\n",
       " 'bullshit': 1,\n",
       " 'dick': 6,\n",
       " 'fuck': 26,\n",
       " 'fucked': 2,\n",
       " 'fuckin': 2,\n",
       " 'hoes': 5,\n",
       " 'nigga': 20,\n",
       " 'pussy': 5,\n",
       " 'shit': 15,\n",
       " 'stupid': 6,\n",
       " 'suck': 1}"
      ]
     },
     "metadata": {},
     "output_type": "display_data"
    },
    {
     "data": {
      "text/plain": [
       "{'ass': 0.0005011275369581559,\n",
       " 'asshole': 0.00018792282635930844,\n",
       " 'bitch': 0.0015033826108744675,\n",
       " 'bitches': 0.00025056376847907793,\n",
       " 'bullshit': 6.264094211976948e-05,\n",
       " 'dick': 0.00037584565271861687,\n",
       " 'fuck': 0.0016286644951140066,\n",
       " 'fucked': 0.00012528188423953897,\n",
       " 'fuckin': 0.00012528188423953897,\n",
       " 'hoes': 0.00031320471059884743,\n",
       " 'nigga': 0.0012528188423953897,\n",
       " 'pussy': 0.00031320471059884743,\n",
       " 'shit': 0.0009396141317965422,\n",
       " 'stupid': 0.00037584565271861687,\n",
       " 'suck': 6.264094211976948e-05}"
      ]
     },
     "metadata": {},
     "output_type": "display_data"
    }
   ],
   "source": [
    "get_profan_freq(pop)"
   ]
  },
  {
   "cell_type": "code",
   "execution_count": 214,
   "metadata": {},
   "outputs": [
    {
     "data": {
      "image/png": "[encoded data removed]",
      "text/plain": [
       "<Figure size 432x288 with 1 Axes>"
      ]
     },
     "metadata": {
      "needs_background": "light"
     },
     "output_type": "display_data"
    }
   ],
   "source": [
    "rap = populate_chart_with_lyrics(rap)\n",
    "profan_cnt_graph(rap)"
   ]
  },
  {
   "cell_type": "code",
   "execution_count": 218,
   "metadata": {},
   "outputs": [
    {
     "name": "stdout",
     "output_type": "stream",
     "text": [
      "How many key words do you want to enter? 4\n",
      "Please enter a key word: christmas\n",
      "Please enter a key word: all\n",
      "Please enter a key word: I\n",
      "Please enter your final key word: want\n",
      "Title\n",
      "All I Want For Christmas Is You    0.959786\n",
      "dtype: float64\n"
     ]
    }
   ],
   "source": [
    "#Matching songs based off of lyrics\n",
    "#A person enters n lyrics and we try to match which song in top100 is the best match\n",
    "def find_best_match(words):\n",
    "    print(tfidf[tfidf.index.isin(words)].sum(axis = 0, skipna = True).nlargest(1))\n",
    "\n",
    "num = int(input(\"How many key words do you want to enter? \"))\n",
    "words = []\n",
    "\n",
    "for i in range(num - 1):\n",
    "    words.append(input(\"Please enter a key word: \"))\n",
    "words.append(input(\"Please enter your final key word: \"))  \n",
    "\n",
    "find_best_match(words)"
   ]
  },
  {
   "cell_type": "code",
   "execution_count": null,
   "metadata": {},
   "outputs": [],
   "source": []
  }
 ],
 "metadata": {
  "kernelspec": {
   "display_name": "Python 3",
   "language": "python",
   "name": "python3"
  }
 },
 "nbformat": 4,
 "nbformat_minor": 2
}
