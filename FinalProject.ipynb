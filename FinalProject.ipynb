{
 "cells": [
  {
   "cell_type": "code",
   "execution_count": 1,
   "metadata": {},
   "outputs": [
    {
     "name": "stdout",
     "output_type": "stream",
     "text": [
      "Collecting billboard.py\n",
      "  Downloading https://files.pythonhosted.org/packages/b0/1e/96602e9bf581c348f14156cc20cbf4b890f3672f2960e04c103734740a18/billboard.py-5.3.0-py2.py3-none-any.whl\n",
      "Requirement already satisfied: beautifulsoup4>=4.4.1 in /opt/conda/lib/python3.7/site-packages (from billboard.py) (4.8.0)\n",
      "Requirement already satisfied: requests>=2.2.1 in /opt/conda/lib/python3.7/site-packages (from billboard.py) (2.22.0)\n",
      "Requirement already satisfied: soupsieve>=1.2 in /opt/conda/lib/python3.7/site-packages (from beautifulsoup4>=4.4.1->billboard.py) (1.9.2)\n",
      "Requirement already satisfied: chardet<3.1.0,>=3.0.2 in /opt/conda/lib/python3.7/site-packages (from requests>=2.2.1->billboard.py) (3.0.4)\n",
      "Requirement already satisfied: certifi>=2017.4.17 in /opt/conda/lib/python3.7/site-packages (from requests>=2.2.1->billboard.py) (2019.6.16)\n",
      "Requirement already satisfied: urllib3!=1.25.0,!=1.25.1,<1.26,>=1.21.1 in /opt/conda/lib/python3.7/site-packages (from requests>=2.2.1->billboard.py) (1.25.3)\n",
      "Requirement already satisfied: idna<2.9,>=2.5 in /opt/conda/lib/python3.7/site-packages (from requests>=2.2.1->billboard.py) (2.8)\n",
      "Installing collected packages: billboard.py\n",
      "Successfully installed billboard.py-5.3.0\n",
      "Note: you may need to restart the kernel to use updated packages.\n"
     ]
    }
   ],
   "source": [
    "pip install billboard.py"
   ]
  },
  {
   "cell_type": "code",
   "execution_count": 4,
   "metadata": {},
   "outputs": [],
   "source": [
    "import pandas as pd\n",
    "import numpy as np\n",
    "import billboard as bb"
   ]
  },
  {
   "cell_type": "code",
   "execution_count": 25,
   "metadata": {},
   "outputs": [],
   "source": [
    "def create_songs_df(chart_name):\n",
    "    top100 = bb.ChartData(chart_name)\n",
    "    songs = top100.entries\n",
    "    dataframe = {\"Rank\": [], \"Title\": [], \"Artist\": []}\n",
    "    for song in songs:\n",
    "        dataframe[\"Title\"].append(song.title)\n",
    "        dataframe[\"Artist\"].append(song.artist)\n",
    "        dataframe[\"Rank\"].append(song.rank)\n",
    "    df = pd.DataFrame(dataframe)\n",
    "    return df"
   ]
  },
  {
   "cell_type": "code",
   "execution_count": 32,
   "metadata": {},
   "outputs": [],
   "source": [
    "top100 = create_songs_df(\"hot-100\")\n",
    "country = create_songs_df(\"country-songs\")\n",
    "rock = create_songs_df(\"rock-songs\")\n",
    "pop = create_songs_df(\"pop-songs\")"
   ]
  },
  {
   "cell_type": "code",
   "execution_count": null,
   "metadata": {},
   "outputs": [],
   "source": []
  }
 ],
 "metadata": {
  "kernelspec": {
   "display_name": "Python 3",
   "language": "python",
   "name": "python3"
  },
  "language_info": {
   "codemirror_mode": {
    "name": "ipython",
    "version": 3
   },
   "file_extension": ".py",
   "mimetype": "text/x-python",
   "name": "python",
   "nbconvert_exporter": "python",
   "pygments_lexer": "ipython3",
   "version": "3.7.3"
  }
 },
 "nbformat": 4,
 "nbformat_minor": 2
}
