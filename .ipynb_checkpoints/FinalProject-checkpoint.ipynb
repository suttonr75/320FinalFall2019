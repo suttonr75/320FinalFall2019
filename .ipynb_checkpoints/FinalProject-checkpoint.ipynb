{
 "cells": [
  {
   "cell_type": "markdown",
   "metadata": {},
   "source": [
    "<h1> Song Lyric Analysis </h1>\n",
    "    <br>\n",
    "    By: Noah Burkhardt, Courtland Climer, Ares Shackleford, and Ryan Sutton"
   ]
  },
  {
   "cell_type": "code",
   "execution_count": 49,
   "metadata": {},
   "outputs": [],
   "source": [
    "%%capture\n",
    "!pip install spotipy\n",
    "!pip install billboard.py;\n",
    "!pip install lyricsgenius;\n",
    "!pip install nltk;\n",
    "!pip install matplotlib;\n",
    "!pip install seaborn;\n",
    "!pip install profanity-check"
   ]
  },
  {
   "cell_type": "code",
   "execution_count": 63,
   "metadata": {},
   "outputs": [
    {
     "name": "stderr",
     "output_type": "stream",
     "text": [
      "[nltk_data] Downloading package stopwords to /home/jovyan/nltk_data...\n",
      "[nltk_data]   Package stopwords is already up-to-date!\n"
     ]
    }
   ],
   "source": [
    "%%capture\n",
    "import requests\n",
    "import pandas as pd\n",
    "import numpy as np\n",
    "import billboard as bb\n",
    "import lyricsgenius\n",
    "import seaborn as sns\n",
    "import sqlite3\n",
    "import matplotlib.pyplot as plt\n",
    "import nltk\n",
    "from sklearn.feature_extraction.text import CountVectorizer\n",
    "import spotipy\n",
    "from spotipy.oauth2 import SpotifyClientCredentials\n",
    "from sklearn.feature_extraction.text import TfidfVectorizer\n",
    "import nltk\n",
    "nltk.download(\"stopwords\")\n",
    "from nltk.corpus import stopwords\n",
    "from sklearn.linear_model import LinearRegression\n",
    "from sklearn.model_selection import cross_val_score\n",
    "from profanity_check import predict, predict_prob"
   ]
  },
  {
   "cell_type": "code",
   "execution_count": 3,
   "metadata": {},
   "outputs": [],
   "source": [
    "genius = lyricsgenius.Genius(\"JxIIf2vA02Oopvz2JRUbC6iysXRZnNEHN0j84a16uLsB8niafpsNZPR1SvcSxu8r\")\n",
    "genius.verbose = False # Turn off status messages\n",
    "genius.remove_section_headers = True # Remove section headers (e.g. [Chorus]) from lyrics when searching\n",
    "genius.skip_non_songs = False # Include hits thought to be non-songs (e.g. track lists)\n",
    "genius.excluded_terms = [\"(Remix)\", \"(Live)\"] # Exclude songs with these words in their title\n",
    "\n",
    "client_credentials_manager = SpotifyClientCredentials(client_id = \"ee9a1f8e2f634959967d52ed9fad54de\", client_secret = \"934a6bbc90e74664b502638f6f5fc92b\")\n",
    "sp = spotipy.Spotify(client_credentials_manager=client_credentials_manager)"
   ]
  },
  {
   "cell_type": "markdown",
   "metadata": {},
   "source": [
    "The above cell sets up using the genius API to get lyrics for specific songs. One would need to replace \"Api Key\" with their own genius API key in order to use the API. If you want to know more about the genius api you can find information about it here: https://docs.genius.com/. If you want to know more about the lyricsgenius python library that wraps the genius API you can find more about it here: https://github.com/johnwmillr/LyricsGenius. We tried using many different lyrics sites/APIs to get the lyrics such as Musixmatch or azlyrics, but we ran into the problem that you needed a paid API key to get access to all of the lyrics or that the search function for songs did not work with the way Billboard formulated the Song artist and title."
   ]
  },
  {
   "cell_type": "markdown",
   "metadata": {},
   "source": [
    "We use a python wrapper for the Spotify API called spotipy. The documentation for spotipy can be found here: https://spotipy.readthedocs.io/en/latest/#non-authorized-requests. The documentation for the Spotify API as a whole can be found here: https://developer.spotify.com/documentation/web-api/"
   ]
  },
  {
   "cell_type": "code",
   "execution_count": 4,
   "metadata": {},
   "outputs": [],
   "source": [
    "def create_songs_df(chart_name):\n",
    "    top100 = bb.ChartData(chart_name)\n",
    "    songs = top100.entries\n",
    "    dataframe = {\"Rank\": [], \"Title\": [], \"Artist\": []}\n",
    "    for song in songs:\n",
    "        dataframe[\"Title\"].append(song.title)\n",
    "        dataframe[\"Artist\"].append(song.artist)\n",
    "        dataframe[\"Rank\"].append(song.rank)\n",
    "    df = pd.DataFrame(dataframe)\n",
    "    return df"
   ]
  },
  {
   "cell_type": "markdown",
   "metadata": {},
   "source": [
    "The above cell allows for creation of dataframes to store different charts from the billboard website. We used a billboard python package that you can find more information about here https://github.com/guoguo12/billboard-charts. This method creates a dataframe for a specific chart with columns for song title, song artist, and the rank of the song on the chart and then returns the dataframe."
   ]
  },
  {
   "cell_type": "code",
   "execution_count": 5,
   "metadata": {},
   "outputs": [],
   "source": [
    "top100 = create_songs_df(\"hot-100\")\n",
    "country = create_songs_df(\"country-songs\")\n",
    "rock = create_songs_df(\"rock-songs\")\n",
    "pop = create_songs_df(\"pop-songs\")\n",
    "rap = create_songs_df('rap-song')"
   ]
  },
  {
   "cell_type": "markdown",
   "metadata": {},
   "source": [
    "Here we load in five different billboard top100 charts that we will use later to perform our analysis. If you want to explore Billboard's website you can view it here: https://www.billboard.com/ and you can find more information about how the charts are actually compiled here: https://www.billboard.com/p/billboard-charts-legend."
   ]
  },
  {
   "cell_type": "code",
   "execution_count": 6,
   "metadata": {},
   "outputs": [],
   "source": [
    "def try_load_lyrics(title,artist):\n",
    "    try:\n",
    "        return genius.search_song(title, artist).lyrics\n",
    "    except:\n",
    "        return \"Failed to Find Lyrics\""
   ]
  },
  {
   "cell_type": "code",
   "execution_count": 7,
   "metadata": {},
   "outputs": [],
   "source": [
    "def populate_chart_with_lyrics(chart):\n",
    "    chart[\"lyrics\"] = chart.apply(lambda x: try_load_lyrics(x[\"Title\"],x[\"Artist\"]), axis = 1)\n",
    "    return chart"
   ]
  },
  {
   "cell_type": "markdown",
   "metadata": {},
   "source": [
    "The above methods are used to add a column to a dataframe for the lyrics of each song using the genius API."
   ]
  },
  {
   "cell_type": "code",
   "execution_count": 8,
   "metadata": {
    "scrolled": false
   },
   "outputs": [
    {
     "data": {
      "text/html": [
       "<div>\n",
       "<style scoped>\n",
       "    .dataframe tbody tr th:only-of-type {\n",
       "        vertical-align: middle;\n",
       "    }\n",
       "\n",
       "    .dataframe tbody tr th {\n",
       "        vertical-align: top;\n",
       "    }\n",
       "\n",
       "    .dataframe thead th {\n",
       "        text-align: right;\n",
       "    }\n",
       "</style>\n",
       "<table border=\"1\" class=\"dataframe\">\n",
       "  <thead>\n",
       "    <tr style=\"text-align: right;\">\n",
       "      <th></th>\n",
       "      <th>Rank</th>\n",
       "      <th>Title</th>\n",
       "      <th>Artist</th>\n",
       "      <th>lyrics</th>\n",
       "    </tr>\n",
       "  </thead>\n",
       "  <tbody>\n",
       "    <tr>\n",
       "      <th>0</th>\n",
       "      <td>1</td>\n",
       "      <td>Heartless</td>\n",
       "      <td>The Weeknd</td>\n",
       "      <td>Young Metro, young Metro, young Metro (Sheesh)...</td>\n",
       "    </tr>\n",
       "    <tr>\n",
       "      <th>1</th>\n",
       "      <td>2</td>\n",
       "      <td>Circles</td>\n",
       "      <td>Post Malone</td>\n",
       "      <td>Oh, oh, oh\\nOh,  oh, oh\\nOh,  oh, oh, oh, oh\\n...</td>\n",
       "    </tr>\n",
       "    <tr>\n",
       "      <th>2</th>\n",
       "      <td>3</td>\n",
       "      <td>All I Want For Christmas Is You</td>\n",
       "      <td>Mariah Carey</td>\n",
       "      <td>I don't want a lot for Christmas\\nThere is jus...</td>\n",
       "    </tr>\n",
       "    <tr>\n",
       "      <th>3</th>\n",
       "      <td>4</td>\n",
       "      <td>Someone You Loved</td>\n",
       "      <td>Lewis Capaldi</td>\n",
       "      <td>I'm going under, and this time, I fear there's...</td>\n",
       "    </tr>\n",
       "    <tr>\n",
       "      <th>4</th>\n",
       "      <td>5</td>\n",
       "      <td>Memories</td>\n",
       "      <td>Maroon 5</td>\n",
       "      <td>Here's to the ones that we got\\nCheers to the ...</td>\n",
       "    </tr>\n",
       "    <tr>\n",
       "      <th>5</th>\n",
       "      <td>6</td>\n",
       "      <td>Good As Hell</td>\n",
       "      <td>Lizzo</td>\n",
       "      <td>I do my hair toss, check my nails\\nBaby, how y...</td>\n",
       "    </tr>\n",
       "    <tr>\n",
       "      <th>6</th>\n",
       "      <td>7</td>\n",
       "      <td>Roxanne</td>\n",
       "      <td>Arizona Zervas</td>\n",
       "      <td>All for the 'Gram\\nBitches love the 'Gram\\nOh ...</td>\n",
       "    </tr>\n",
       "    <tr>\n",
       "      <th>7</th>\n",
       "      <td>8</td>\n",
       "      <td>Rockin' Around The Christmas Tree</td>\n",
       "      <td>Brenda Lee</td>\n",
       "      <td>Rockin' around the Christmas tree\\nAt the Chri...</td>\n",
       "    </tr>\n",
       "    <tr>\n",
       "      <th>8</th>\n",
       "      <td>9</td>\n",
       "      <td>Lose You To Love Me</td>\n",
       "      <td>Selena Gomez</td>\n",
       "      <td>You promised the world and I fell for it\\nI pu...</td>\n",
       "    </tr>\n",
       "    <tr>\n",
       "      <th>9</th>\n",
       "      <td>10</td>\n",
       "      <td>10,000 Hours</td>\n",
       "      <td>Dan + Shay &amp; Justin Bieber</td>\n",
       "      <td>Do you love the rain, does it make you dance\\n...</td>\n",
       "    </tr>\n",
       "  </tbody>\n",
       "</table>\n",
       "</div>"
      ],
      "text/plain": [
       "   Rank                              Title                      Artist  \\\n",
       "0     1                          Heartless                  The Weeknd   \n",
       "1     2                            Circles                 Post Malone   \n",
       "2     3    All I Want For Christmas Is You                Mariah Carey   \n",
       "3     4                  Someone You Loved               Lewis Capaldi   \n",
       "4     5                           Memories                    Maroon 5   \n",
       "5     6                       Good As Hell                       Lizzo   \n",
       "6     7                            Roxanne              Arizona Zervas   \n",
       "7     8  Rockin' Around The Christmas Tree                  Brenda Lee   \n",
       "8     9                Lose You To Love Me                Selena Gomez   \n",
       "9    10                       10,000 Hours  Dan + Shay & Justin Bieber   \n",
       "\n",
       "                                              lyrics  \n",
       "0  Young Metro, young Metro, young Metro (Sheesh)...  \n",
       "1  Oh, oh, oh\\nOh,  oh, oh\\nOh,  oh, oh, oh, oh\\n...  \n",
       "2  I don't want a lot for Christmas\\nThere is jus...  \n",
       "3  I'm going under, and this time, I fear there's...  \n",
       "4  Here's to the ones that we got\\nCheers to the ...  \n",
       "5  I do my hair toss, check my nails\\nBaby, how y...  \n",
       "6  All for the 'Gram\\nBitches love the 'Gram\\nOh ...  \n",
       "7  Rockin' around the Christmas tree\\nAt the Chri...  \n",
       "8  You promised the world and I fell for it\\nI pu...  \n",
       "9  Do you love the rain, does it make you dance\\n...  "
      ]
     },
     "metadata": {},
     "output_type": "display_data"
    }
   ],
   "source": [
    "top100 = populate_chart_with_lyrics(top100)\n",
    "rap = populate_chart_with_lyrics(rap)\n",
    "pop = populate_chart_with_lyrics(pop)\n",
    "country = populate_chart_with_lyrics(country)\n",
    "rock = populate_chart_with_lyrics(rock)\n",
    "\n",
    "display(top100.head(10))"
   ]
  },
  {
   "cell_type": "code",
   "execution_count": 9,
   "metadata": {},
   "outputs": [],
   "source": [
    "def get_spotify_popularity(title):\n",
    "    title = title.replace(\"$\",\"s\")\n",
    "    answer = sp.search(title, type=\"track\", limit = 1)\n",
    "    track = sp.track(answer[\"tracks\"][\"items\"][0][\"id\"])\n",
    "    return track[\"popularity\"]"
   ]
  },
  {
   "cell_type": "markdown",
   "metadata": {},
   "source": [
    "The above method gets the Spotify popularity associated with a specific song. The popularity metric on Spotify is a number between 0 and 100 based on how many plays the track has and how recent those plays are. The algorithm is not publically available, but if you want to look at the API documentation it is here: https://developer.spotify.com/documentation/web-api/reference/tracks/get-track/."
   ]
  },
  {
   "cell_type": "code",
   "execution_count": 10,
   "metadata": {},
   "outputs": [],
   "source": [
    "def populate_chart_with_spotify_popularity(chart):\n",
    "    chart[\"spotify_popularity\"] = chart.apply(lambda x: get_spotify_popularity(x[\"Title\"]), axis = 1)\n",
    "    return chart"
   ]
  },
  {
   "cell_type": "markdown",
   "metadata": {},
   "source": [
    "This method adds a column to an existing dataframe of a music chart with the Spotify popularity of each song."
   ]
  },
  {
   "cell_type": "code",
   "execution_count": 11,
   "metadata": {},
   "outputs": [
    {
     "data": {
      "text/html": [
       "<div>\n",
       "<style scoped>\n",
       "    .dataframe tbody tr th:only-of-type {\n",
       "        vertical-align: middle;\n",
       "    }\n",
       "\n",
       "    .dataframe tbody tr th {\n",
       "        vertical-align: top;\n",
       "    }\n",
       "\n",
       "    .dataframe thead th {\n",
       "        text-align: right;\n",
       "    }\n",
       "</style>\n",
       "<table border=\"1\" class=\"dataframe\">\n",
       "  <thead>\n",
       "    <tr style=\"text-align: right;\">\n",
       "      <th></th>\n",
       "      <th>Rank</th>\n",
       "      <th>Title</th>\n",
       "      <th>Artist</th>\n",
       "      <th>lyrics</th>\n",
       "      <th>spotify_popularity</th>\n",
       "    </tr>\n",
       "  </thead>\n",
       "  <tbody>\n",
       "    <tr>\n",
       "      <th>0</th>\n",
       "      <td>1</td>\n",
       "      <td>Heartless</td>\n",
       "      <td>The Weeknd</td>\n",
       "      <td>Young Metro, young Metro, young Metro (Sheesh)...</td>\n",
       "      <td>94</td>\n",
       "    </tr>\n",
       "    <tr>\n",
       "      <th>1</th>\n",
       "      <td>2</td>\n",
       "      <td>Circles</td>\n",
       "      <td>Post Malone</td>\n",
       "      <td>Oh, oh, oh\\nOh,  oh, oh\\nOh,  oh, oh, oh, oh\\n...</td>\n",
       "      <td>99</td>\n",
       "    </tr>\n",
       "    <tr>\n",
       "      <th>2</th>\n",
       "      <td>3</td>\n",
       "      <td>All I Want For Christmas Is You</td>\n",
       "      <td>Mariah Carey</td>\n",
       "      <td>I don't want a lot for Christmas\\nThere is jus...</td>\n",
       "      <td>95</td>\n",
       "    </tr>\n",
       "    <tr>\n",
       "      <th>3</th>\n",
       "      <td>4</td>\n",
       "      <td>Someone You Loved</td>\n",
       "      <td>Lewis Capaldi</td>\n",
       "      <td>I'm going under, and this time, I fear there's...</td>\n",
       "      <td>96</td>\n",
       "    </tr>\n",
       "    <tr>\n",
       "      <th>4</th>\n",
       "      <td>5</td>\n",
       "      <td>Memories</td>\n",
       "      <td>Maroon 5</td>\n",
       "      <td>Here's to the ones that we got\\nCheers to the ...</td>\n",
       "      <td>100</td>\n",
       "    </tr>\n",
       "    <tr>\n",
       "      <th>5</th>\n",
       "      <td>6</td>\n",
       "      <td>Good As Hell</td>\n",
       "      <td>Lizzo</td>\n",
       "      <td>I do my hair toss, check my nails\\nBaby, how y...</td>\n",
       "      <td>86</td>\n",
       "    </tr>\n",
       "    <tr>\n",
       "      <th>6</th>\n",
       "      <td>7</td>\n",
       "      <td>Roxanne</td>\n",
       "      <td>Arizona Zervas</td>\n",
       "      <td>All for the 'Gram\\nBitches love the 'Gram\\nOh ...</td>\n",
       "      <td>98</td>\n",
       "    </tr>\n",
       "    <tr>\n",
       "      <th>7</th>\n",
       "      <td>8</td>\n",
       "      <td>Rockin' Around The Christmas Tree</td>\n",
       "      <td>Brenda Lee</td>\n",
       "      <td>Rockin' around the Christmas tree\\nAt the Chri...</td>\n",
       "      <td>90</td>\n",
       "    </tr>\n",
       "    <tr>\n",
       "      <th>8</th>\n",
       "      <td>9</td>\n",
       "      <td>Lose You To Love Me</td>\n",
       "      <td>Selena Gomez</td>\n",
       "      <td>You promised the world and I fell for it\\nI pu...</td>\n",
       "      <td>98</td>\n",
       "    </tr>\n",
       "    <tr>\n",
       "      <th>9</th>\n",
       "      <td>10</td>\n",
       "      <td>10,000 Hours</td>\n",
       "      <td>Dan + Shay &amp; Justin Bieber</td>\n",
       "      <td>Do you love the rain, does it make you dance\\n...</td>\n",
       "      <td>94</td>\n",
       "    </tr>\n",
       "  </tbody>\n",
       "</table>\n",
       "</div>"
      ],
      "text/plain": [
       "   Rank                              Title                      Artist  \\\n",
       "0     1                          Heartless                  The Weeknd   \n",
       "1     2                            Circles                 Post Malone   \n",
       "2     3    All I Want For Christmas Is You                Mariah Carey   \n",
       "3     4                  Someone You Loved               Lewis Capaldi   \n",
       "4     5                           Memories                    Maroon 5   \n",
       "5     6                       Good As Hell                       Lizzo   \n",
       "6     7                            Roxanne              Arizona Zervas   \n",
       "7     8  Rockin' Around The Christmas Tree                  Brenda Lee   \n",
       "8     9                Lose You To Love Me                Selena Gomez   \n",
       "9    10                       10,000 Hours  Dan + Shay & Justin Bieber   \n",
       "\n",
       "                                              lyrics  spotify_popularity  \n",
       "0  Young Metro, young Metro, young Metro (Sheesh)...                  94  \n",
       "1  Oh, oh, oh\\nOh,  oh, oh\\nOh,  oh, oh, oh, oh\\n...                  99  \n",
       "2  I don't want a lot for Christmas\\nThere is jus...                  95  \n",
       "3  I'm going under, and this time, I fear there's...                  96  \n",
       "4  Here's to the ones that we got\\nCheers to the ...                 100  \n",
       "5  I do my hair toss, check my nails\\nBaby, how y...                  86  \n",
       "6  All for the 'Gram\\nBitches love the 'Gram\\nOh ...                  98  \n",
       "7  Rockin' around the Christmas tree\\nAt the Chri...                  90  \n",
       "8  You promised the world and I fell for it\\nI pu...                  98  \n",
       "9  Do you love the rain, does it make you dance\\n...                  94  "
      ]
     },
     "metadata": {},
     "output_type": "display_data"
    }
   ],
   "source": [
    "top100 = populate_chart_with_spotify_popularity(top100)\n",
    "rap = populate_chart_with_spotify_popularity(rap)\n",
    "pop = populate_chart_with_spotify_popularity(pop)\n",
    "country = populate_chart_with_spotify_popularity(country)\n",
    "rock = populate_chart_with_spotify_popularity(rock)\n",
    "\n",
    "display(top100.head(10))"
   ]
  },
  {
   "cell_type": "code",
   "execution_count": 12,
   "metadata": {},
   "outputs": [
    {
     "data": {
      "image/png": "[encoded data removed]",
      "text/plain": [
       "<Figure size 432x288 with 1 Axes>"
      ]
     },
     "metadata": {
      "needs_background": "light"
     },
     "output_type": "display_data"
    },
    {
     "data": {
      "image/png": "[encoded data removed]",
      "text/plain": [
       "<Figure size 432x288 with 1 Axes>"
      ]
     },
     "metadata": {
      "needs_background": "light"
     },
     "output_type": "display_data"
    },
    {
     "data": {
      "image/png": "[encoded data removed]",
      "text/plain": [
       "<Figure size 432x288 with 1 Axes>"
      ]
     },
     "metadata": {
      "needs_background": "light"
     },
     "output_type": "display_data"
    },
    {
     "data": {
      "image/png": "[encoded data removed]",
      "text/plain": [
       "<Figure size 432x288 with 1 Axes>"
      ]
     },
     "metadata": {
      "needs_background": "light"
     },
     "output_type": "display_data"
    },
    {
     "data": {
      "image/png": "[encoded data removed]",
      "text/plain": [
       "<Figure size 432x288 with 1 Axes>"
      ]
     },
     "metadata": {
      "needs_background": "light"
     },
     "output_type": "display_data"
    }
   ],
   "source": [
    "plt.show(sns.scatterplot(x='Rank', y='spotify_popularity', data=top100))\n",
    "plt.show(sns.scatterplot(x='Rank', y='spotify_popularity', data=rap))\n",
    "plt.show(sns.scatterplot(x='Rank', y='spotify_popularity', data=pop))\n",
    "plt.show(sns.scatterplot(x='Rank', y='spotify_popularity', data=country))\n",
    "plt.show(sns.scatterplot(x='Rank', y='spotify_popularity', data=rock))"
   ]
  },
  {
   "cell_type": "code",
   "execution_count": 13,
   "metadata": {},
   "outputs": [],
   "source": [
    "def create_term_doc_matrix(chart):\n",
    "    lyrics = chart[\"lyrics\"].to_list()\n",
    "    vec = CountVectorizer()\n",
    "    X = vec.fit_transform(lyrics)\n",
    "    termdocmatrix = pd.DataFrame(X.toarray(), columns=vec.get_feature_names(), index=chart.Title)\n",
    "    return termdocmatrix"
   ]
  },
  {
   "cell_type": "code",
   "execution_count": 14,
   "metadata": {},
   "outputs": [
    {
     "data": {
      "text/html": [
       "<div>\n",
       "<style scoped>\n",
       "    .dataframe tbody tr th:only-of-type {\n",
       "        vertical-align: middle;\n",
       "    }\n",
       "\n",
       "    .dataframe tbody tr th {\n",
       "        vertical-align: top;\n",
       "    }\n",
       "\n",
       "    .dataframe thead th {\n",
       "        text-align: right;\n",
       "    }\n",
       "</style>\n",
       "<table border=\"1\" class=\"dataframe\">\n",
       "  <thead>\n",
       "    <tr style=\"text-align: right;\">\n",
       "      <th></th>\n",
       "      <th>000</th>\n",
       "      <th>02</th>\n",
       "      <th>10</th>\n",
       "      <th>100</th>\n",
       "      <th>101</th>\n",
       "      <th>10k</th>\n",
       "      <th>11</th>\n",
       "      <th>12</th>\n",
       "      <th>12am</th>\n",
       "      <th>14</th>\n",
       "      <th>...</th>\n",
       "      <th>yvncc</th>\n",
       "      <th>zaar</th>\n",
       "      <th>zella</th>\n",
       "      <th>zervas</th>\n",
       "      <th>zhu</th>\n",
       "      <th>zombie</th>\n",
       "      <th>zoom</th>\n",
       "      <th>zumban</th>\n",
       "      <th>él</th>\n",
       "      <th>íta</th>\n",
       "    </tr>\n",
       "    <tr>\n",
       "      <th>Title</th>\n",
       "      <th></th>\n",
       "      <th></th>\n",
       "      <th></th>\n",
       "      <th></th>\n",
       "      <th></th>\n",
       "      <th></th>\n",
       "      <th></th>\n",
       "      <th></th>\n",
       "      <th></th>\n",
       "      <th></th>\n",
       "      <th></th>\n",
       "      <th></th>\n",
       "      <th></th>\n",
       "      <th></th>\n",
       "      <th></th>\n",
       "      <th></th>\n",
       "      <th></th>\n",
       "      <th></th>\n",
       "      <th></th>\n",
       "      <th></th>\n",
       "      <th></th>\n",
       "    </tr>\n",
       "  </thead>\n",
       "  <tbody>\n",
       "    <tr>\n",
       "      <th>Heartless</th>\n",
       "      <td>0</td>\n",
       "      <td>0</td>\n",
       "      <td>0</td>\n",
       "      <td>0</td>\n",
       "      <td>0</td>\n",
       "      <td>0</td>\n",
       "      <td>0</td>\n",
       "      <td>0</td>\n",
       "      <td>0</td>\n",
       "      <td>0</td>\n",
       "      <td>...</td>\n",
       "      <td>0</td>\n",
       "      <td>1</td>\n",
       "      <td>0</td>\n",
       "      <td>0</td>\n",
       "      <td>0</td>\n",
       "      <td>0</td>\n",
       "      <td>0</td>\n",
       "      <td>0</td>\n",
       "      <td>0</td>\n",
       "      <td>0</td>\n",
       "    </tr>\n",
       "    <tr>\n",
       "      <th>Circles</th>\n",
       "      <td>0</td>\n",
       "      <td>0</td>\n",
       "      <td>0</td>\n",
       "      <td>0</td>\n",
       "      <td>0</td>\n",
       "      <td>0</td>\n",
       "      <td>0</td>\n",
       "      <td>0</td>\n",
       "      <td>0</td>\n",
       "      <td>0</td>\n",
       "      <td>...</td>\n",
       "      <td>0</td>\n",
       "      <td>0</td>\n",
       "      <td>0</td>\n",
       "      <td>0</td>\n",
       "      <td>0</td>\n",
       "      <td>0</td>\n",
       "      <td>0</td>\n",
       "      <td>0</td>\n",
       "      <td>0</td>\n",
       "      <td>0</td>\n",
       "    </tr>\n",
       "    <tr>\n",
       "      <th>All I Want For Christmas Is You</th>\n",
       "      <td>0</td>\n",
       "      <td>0</td>\n",
       "      <td>0</td>\n",
       "      <td>0</td>\n",
       "      <td>0</td>\n",
       "      <td>0</td>\n",
       "      <td>0</td>\n",
       "      <td>0</td>\n",
       "      <td>0</td>\n",
       "      <td>0</td>\n",
       "      <td>...</td>\n",
       "      <td>0</td>\n",
       "      <td>0</td>\n",
       "      <td>0</td>\n",
       "      <td>0</td>\n",
       "      <td>0</td>\n",
       "      <td>0</td>\n",
       "      <td>0</td>\n",
       "      <td>0</td>\n",
       "      <td>0</td>\n",
       "      <td>0</td>\n",
       "    </tr>\n",
       "    <tr>\n",
       "      <th>Someone You Loved</th>\n",
       "      <td>0</td>\n",
       "      <td>0</td>\n",
       "      <td>0</td>\n",
       "      <td>0</td>\n",
       "      <td>0</td>\n",
       "      <td>0</td>\n",
       "      <td>0</td>\n",
       "      <td>0</td>\n",
       "      <td>0</td>\n",
       "      <td>0</td>\n",
       "      <td>...</td>\n",
       "      <td>0</td>\n",
       "      <td>0</td>\n",
       "      <td>0</td>\n",
       "      <td>0</td>\n",
       "      <td>0</td>\n",
       "      <td>0</td>\n",
       "      <td>0</td>\n",
       "      <td>0</td>\n",
       "      <td>0</td>\n",
       "      <td>0</td>\n",
       "    </tr>\n",
       "    <tr>\n",
       "      <th>Memories</th>\n",
       "      <td>0</td>\n",
       "      <td>0</td>\n",
       "      <td>0</td>\n",
       "      <td>0</td>\n",
       "      <td>0</td>\n",
       "      <td>0</td>\n",
       "      <td>0</td>\n",
       "      <td>0</td>\n",
       "      <td>0</td>\n",
       "      <td>0</td>\n",
       "      <td>...</td>\n",
       "      <td>0</td>\n",
       "      <td>0</td>\n",
       "      <td>0</td>\n",
       "      <td>0</td>\n",
       "      <td>0</td>\n",
       "      <td>0</td>\n",
       "      <td>0</td>\n",
       "      <td>0</td>\n",
       "      <td>0</td>\n",
       "      <td>0</td>\n",
       "    </tr>\n",
       "  </tbody>\n",
       "</table>\n",
       "<p>5 rows × 4161 columns</p>\n",
       "</div>"
      ],
      "text/plain": [
       "                                 000  02  10  100  101  10k  11  12  12am  14  \\\n",
       "Title                                                                           \n",
       "Heartless                          0   0   0    0    0    0   0   0     0   0   \n",
       "Circles                            0   0   0    0    0    0   0   0     0   0   \n",
       "All I Want For Christmas Is You    0   0   0    0    0    0   0   0     0   0   \n",
       "Someone You Loved                  0   0   0    0    0    0   0   0     0   0   \n",
       "Memories                           0   0   0    0    0    0   0   0     0   0   \n",
       "\n",
       "                                 ...  yvncc  zaar  zella  zervas  zhu  zombie  \\\n",
       "Title                            ...                                            \n",
       "Heartless                        ...      0     1      0       0    0       0   \n",
       "Circles                          ...      0     0      0       0    0       0   \n",
       "All I Want For Christmas Is You  ...      0     0      0       0    0       0   \n",
       "Someone You Loved                ...      0     0      0       0    0       0   \n",
       "Memories                         ...      0     0      0       0    0       0   \n",
       "\n",
       "                                 zoom  zumban  él  íta  \n",
       "Title                                                   \n",
       "Heartless                           0       0   0    0  \n",
       "Circles                             0       0   0    0  \n",
       "All I Want For Christmas Is You     0       0   0    0  \n",
       "Someone You Loved                   0       0   0    0  \n",
       "Memories                            0       0   0    0  \n",
       "\n",
       "[5 rows x 4161 columns]"
      ]
     },
     "execution_count": 14,
     "metadata": {},
     "output_type": "execute_result"
    }
   ],
   "source": [
    "top100 = top100[top100.lyrics != \"Failed to Find Lyrics\"]\n",
    "create_term_doc_matrix(top100).head()"
   ]
  },
  {
   "cell_type": "markdown",
   "metadata": {},
   "source": [
    "This method creates a term-document matrix, which is a matrix that has every word in every song in the dataframe as a column and then the count of how many times each word appeared in a specific songas the value for each row, which in our case is a song. If you want to read further about term-document matrices here is a short blog post that explains the idea https://www.darrinbishop.com/blog/2017/10/text-analytics-document-term-matrix/."
   ]
  },
  {
   "cell_type": "code",
   "execution_count": 15,
   "metadata": {},
   "outputs": [],
   "source": [
    "def create_tfidf(chart):\n",
    "    lyrics = chart[\"lyrics\"].to_list()\n",
    "    vectorizer = TfidfVectorizer()\n",
    "    doc_vec = vectorizer.fit_transform(lyrics)\n",
    "    tfidf = pd.DataFrame(doc_vec.toarray().transpose(), index=vectorizer.get_feature_names())\n",
    "    tfidf.columns = chart[\"Title\"]\n",
    "    return tfidf"
   ]
  },
  {
   "cell_type": "code",
   "execution_count": 16,
   "metadata": {},
   "outputs": [
    {
     "data": {
      "text/html": [
       "<div>\n",
       "<style scoped>\n",
       "    .dataframe tbody tr th:only-of-type {\n",
       "        vertical-align: middle;\n",
       "    }\n",
       "\n",
       "    .dataframe tbody tr th {\n",
       "        vertical-align: top;\n",
       "    }\n",
       "\n",
       "    .dataframe thead th {\n",
       "        text-align: right;\n",
       "    }\n",
       "</style>\n",
       "<table border=\"1\" class=\"dataframe\">\n",
       "  <thead>\n",
       "    <tr style=\"text-align: right;\">\n",
       "      <th>Title</th>\n",
       "      <th>Heartless</th>\n",
       "      <th>Circles</th>\n",
       "      <th>All I Want For Christmas Is You</th>\n",
       "      <th>Someone You Loved</th>\n",
       "      <th>Memories</th>\n",
       "      <th>Good As Hell</th>\n",
       "      <th>Roxanne</th>\n",
       "      <th>Rockin' Around The Christmas Tree</th>\n",
       "      <th>Lose You To Love Me</th>\n",
       "      <th>10,000 Hours</th>\n",
       "      <th>...</th>\n",
       "      <th>Follow God</th>\n",
       "      <th>Cuban Links</th>\n",
       "      <th>F.N</th>\n",
       "      <th>Candy</th>\n",
       "      <th>Tusa</th>\n",
       "      <th>Make No Sense</th>\n",
       "      <th>Jerry Sprunger</th>\n",
       "      <th>RITMO (Bad Boys For Life)</th>\n",
       "      <th>Into The Unknown</th>\n",
       "      <th>La Cancion</th>\n",
       "    </tr>\n",
       "  </thead>\n",
       "  <tbody>\n",
       "    <tr>\n",
       "      <th>000</th>\n",
       "      <td>0.0</td>\n",
       "      <td>0.0</td>\n",
       "      <td>0.0</td>\n",
       "      <td>0.0</td>\n",
       "      <td>0.0</td>\n",
       "      <td>0.0</td>\n",
       "      <td>0.0</td>\n",
       "      <td>0.0</td>\n",
       "      <td>0.0</td>\n",
       "      <td>0.0</td>\n",
       "      <td>...</td>\n",
       "      <td>0.0</td>\n",
       "      <td>0.0</td>\n",
       "      <td>0.0</td>\n",
       "      <td>0.0</td>\n",
       "      <td>0.0</td>\n",
       "      <td>0.0</td>\n",
       "      <td>0.0</td>\n",
       "      <td>0.008207</td>\n",
       "      <td>0.0</td>\n",
       "      <td>0.0</td>\n",
       "    </tr>\n",
       "    <tr>\n",
       "      <th>02</th>\n",
       "      <td>0.0</td>\n",
       "      <td>0.0</td>\n",
       "      <td>0.0</td>\n",
       "      <td>0.0</td>\n",
       "      <td>0.0</td>\n",
       "      <td>0.0</td>\n",
       "      <td>0.0</td>\n",
       "      <td>0.0</td>\n",
       "      <td>0.0</td>\n",
       "      <td>0.0</td>\n",
       "      <td>...</td>\n",
       "      <td>0.0</td>\n",
       "      <td>0.0</td>\n",
       "      <td>0.0</td>\n",
       "      <td>0.0</td>\n",
       "      <td>0.0</td>\n",
       "      <td>0.0</td>\n",
       "      <td>0.0</td>\n",
       "      <td>0.008207</td>\n",
       "      <td>0.0</td>\n",
       "      <td>0.0</td>\n",
       "    </tr>\n",
       "    <tr>\n",
       "      <th>10</th>\n",
       "      <td>0.0</td>\n",
       "      <td>0.0</td>\n",
       "      <td>0.0</td>\n",
       "      <td>0.0</td>\n",
       "      <td>0.0</td>\n",
       "      <td>0.0</td>\n",
       "      <td>0.0</td>\n",
       "      <td>0.0</td>\n",
       "      <td>0.0</td>\n",
       "      <td>0.0</td>\n",
       "      <td>...</td>\n",
       "      <td>0.0</td>\n",
       "      <td>0.0</td>\n",
       "      <td>0.0</td>\n",
       "      <td>0.0</td>\n",
       "      <td>0.0</td>\n",
       "      <td>0.0</td>\n",
       "      <td>0.0</td>\n",
       "      <td>0.248512</td>\n",
       "      <td>0.0</td>\n",
       "      <td>0.0</td>\n",
       "    </tr>\n",
       "    <tr>\n",
       "      <th>100</th>\n",
       "      <td>0.0</td>\n",
       "      <td>0.0</td>\n",
       "      <td>0.0</td>\n",
       "      <td>0.0</td>\n",
       "      <td>0.0</td>\n",
       "      <td>0.0</td>\n",
       "      <td>0.0</td>\n",
       "      <td>0.0</td>\n",
       "      <td>0.0</td>\n",
       "      <td>0.0</td>\n",
       "      <td>...</td>\n",
       "      <td>0.0</td>\n",
       "      <td>0.0</td>\n",
       "      <td>0.0</td>\n",
       "      <td>0.0</td>\n",
       "      <td>0.0</td>\n",
       "      <td>0.0</td>\n",
       "      <td>0.0</td>\n",
       "      <td>0.000000</td>\n",
       "      <td>0.0</td>\n",
       "      <td>0.0</td>\n",
       "    </tr>\n",
       "    <tr>\n",
       "      <th>101</th>\n",
       "      <td>0.0</td>\n",
       "      <td>0.0</td>\n",
       "      <td>0.0</td>\n",
       "      <td>0.0</td>\n",
       "      <td>0.0</td>\n",
       "      <td>0.0</td>\n",
       "      <td>0.0</td>\n",
       "      <td>0.0</td>\n",
       "      <td>0.0</td>\n",
       "      <td>0.0</td>\n",
       "      <td>...</td>\n",
       "      <td>0.0</td>\n",
       "      <td>0.0</td>\n",
       "      <td>0.0</td>\n",
       "      <td>0.0</td>\n",
       "      <td>0.0</td>\n",
       "      <td>0.0</td>\n",
       "      <td>0.0</td>\n",
       "      <td>0.000000</td>\n",
       "      <td>0.0</td>\n",
       "      <td>0.0</td>\n",
       "    </tr>\n",
       "  </tbody>\n",
       "</table>\n",
       "<p>5 rows × 100 columns</p>\n",
       "</div>"
      ],
      "text/plain": [
       "Title  Heartless  Circles  All I Want For Christmas Is You  Someone You Loved  \\\n",
       "000          0.0      0.0                              0.0                0.0   \n",
       "02           0.0      0.0                              0.0                0.0   \n",
       "10           0.0      0.0                              0.0                0.0   \n",
       "100          0.0      0.0                              0.0                0.0   \n",
       "101          0.0      0.0                              0.0                0.0   \n",
       "\n",
       "Title  Memories  Good As Hell  Roxanne  Rockin' Around The Christmas Tree  \\\n",
       "000         0.0           0.0      0.0                                0.0   \n",
       "02          0.0           0.0      0.0                                0.0   \n",
       "10          0.0           0.0      0.0                                0.0   \n",
       "100         0.0           0.0      0.0                                0.0   \n",
       "101         0.0           0.0      0.0                                0.0   \n",
       "\n",
       "Title  Lose You To Love Me  10,000 Hours  ...  Follow God  Cuban Links  F.N  \\\n",
       "000                    0.0           0.0  ...         0.0          0.0  0.0   \n",
       "02                     0.0           0.0  ...         0.0          0.0  0.0   \n",
       "10                     0.0           0.0  ...         0.0          0.0  0.0   \n",
       "100                    0.0           0.0  ...         0.0          0.0  0.0   \n",
       "101                    0.0           0.0  ...         0.0          0.0  0.0   \n",
       "\n",
       "Title  Candy  Tusa  Make No Sense  Jerry Sprunger  RITMO (Bad Boys For Life)  \\\n",
       "000      0.0   0.0            0.0             0.0                   0.008207   \n",
       "02       0.0   0.0            0.0             0.0                   0.008207   \n",
       "10       0.0   0.0            0.0             0.0                   0.248512   \n",
       "100      0.0   0.0            0.0             0.0                   0.000000   \n",
       "101      0.0   0.0            0.0             0.0                   0.000000   \n",
       "\n",
       "Title  Into The Unknown  La Cancion  \n",
       "000                 0.0         0.0  \n",
       "02                  0.0         0.0  \n",
       "10                  0.0         0.0  \n",
       "100                 0.0         0.0  \n",
       "101                 0.0         0.0  \n",
       "\n",
       "[5 rows x 100 columns]"
      ]
     },
     "execution_count": 16,
     "metadata": {},
     "output_type": "execute_result"
    }
   ],
   "source": [
    "tfidf = create_tfidf(top100)\n",
    "tfidf.head()"
   ]
  },
  {
   "cell_type": "markdown",
   "metadata": {},
   "source": [
    "This method creates a term frequency-inverse document frequency (tf-idf) matrix. This is done by multiplying the term frequency score for each value by the inverse document frequency score of each value. The term frquency is calculated for each word in each song by counting the number of times the word appears in the song and dividing it by the total number of words in the song. The idf score is the inverse document frequency of a word, which is defined as the log(# of documents or in this case songs/ # of documents with the word in them). These matrices are used to determine the importance of a word to a song based off how often it is used in the song itself and in the other songs in the dataframe. A word is more important if it is only used by a single song in the dataframe. If you want to read more about tf-idf matrices here is a good resource: http://www.tfidf.com/."
   ]
  },
  {
   "cell_type": "code",
   "execution_count": 17,
   "metadata": {},
   "outputs": [],
   "source": [
    "def average_cosine_similarity(tfidf):\n",
    "    similarity = 0\n",
    "    count = 0\n",
    "    for index in range(tfidf.shape[1]):\n",
    "        col = tfidf.iloc[: , index]\n",
    "        for ind2 in range(index + 1, tfidf.shape[1]):\n",
    "            col2 = tfidf.iloc[: , ind2]\n",
    "            similarity = similarity + np.dot(col.values,col2.values)/(np.linalg.norm(col.values)*np.linalg.norm(col2.values))\n",
    "            count = count + 1\n",
    "    return similarity/count"
   ]
  },
  {
   "cell_type": "markdown",
   "metadata": {},
   "source": [
    "This method calculates the average pairwise cosine similarity for each song in the chart. Cosine similarity is a measure of the similarity between two different songs x and y. It is calculated by similarity(x,y) = $\\frac{x^Ty}{|x| * |y|}$. This gives a value between 0 and 1, with 0 meaning the vectors are not related at all and 1 meaning the vectors are the same. If you want to read more about cosine similarity you can look here: https://www.machinelearningplus.com/nlp/cosine-similarity/."
   ]
  },
  {
   "cell_type": "code",
   "execution_count": 18,
   "metadata": {},
   "outputs": [],
   "source": [
    "def top_pairwise_cosine_similarity(tfidf):\n",
    "    similarity = 0\n",
    "    songs = []\n",
    "    for index in range(tfidf.shape[1]):\n",
    "        col = tfidf.iloc[: , index]\n",
    "        for ind2 in range(index + 1, tfidf.shape[1]):\n",
    "            col2 = tfidf.iloc[: , ind2]\n",
    "            temp = np.dot(col.values,col2.values)/(np.linalg.norm(col.values)*np.linalg.norm(col2.values))\n",
    "            if temp > similarity:\n",
    "                similarity = temp\n",
    "                names = [col.name,col2.name]\n",
    "    return similarity, names"
   ]
  },
  {
   "cell_type": "markdown",
   "metadata": {},
   "source": [
    "This method calculates and returns the cosine similarity for the most similar pair of songs in the chart and the names of the two songs that were the most similar."
   ]
  },
  {
   "cell_type": "code",
   "execution_count": 19,
   "metadata": {},
   "outputs": [
    {
     "data": {
      "text/plain": [
       "<matplotlib.axes._subplots.AxesSubplot at 0x7f7477e4a6d8>"
      ]
     },
     "execution_count": 19,
     "metadata": {},
     "output_type": "execute_result"
    },
    {
     "data": {
      "image/png": "[encoded data removed]",
      "text/plain": [
       "<Figure size 432x288 with 1 Axes>"
      ]
     },
     "metadata": {
      "needs_background": "light"
     },
     "output_type": "display_data"
    }
   ],
   "source": [
    "x = np.array([\"top100\", \"pop\", \"country\", \"rap\", \"rock\"])\n",
    "y = []\n",
    "y.append(average_cosine_similarity(create_tfidf(top100)))\n",
    "y.append(average_cosine_similarity(create_tfidf(pop)))\n",
    "y.append(average_cosine_similarity(create_tfidf(country)))\n",
    "y.append(average_cosine_similarity(create_tfidf(rap)))\n",
    "y.append(average_cosine_similarity(create_tfidf(rock)))\n",
    "y = np.array(y)\n",
    "sns.barplot(x=x, y=y)"
   ]
  },
  {
   "cell_type": "markdown",
   "metadata": {},
   "source": [
    "This chart shows the average pairwise cosine similarity over the five different charts we are looking at. This means that the cosine similarity was calculated bewteen every pair of songs in each chart and then the average was taken for all of those values. It is interesting to see that rap has the most similarity between all of the songs in its top chart and then  the second highest similarity is pop. The top100, rock and country all have similar average simalirty scores. The fact that all of these scors are relatively low as the largest one is less than .2 means that songs in the same genre or on the top100 chart are often very different in their lyrics."
   ]
  },
  {
   "cell_type": "code",
   "execution_count": 20,
   "metadata": {},
   "outputs": [
    {
     "name": "stdout",
     "output_type": "stream",
     "text": [
      "top100's most similar pair of songs is Into The Unknown and Into The Unknown\n",
      "pop's most similar pair of songs is Panini and Take What You Want\n",
      "country's most similar pair of songs is I Hope and I Hope You're Happy Now\n",
      "rap's most similar pair of songs is Death and 223's\n",
      "rock's most similar pair of songs is Under The Graveyard and Legendary\n"
     ]
    },
    {
     "data": {
      "image/png": "[encoded data removed]",
      "text/plain": [
       "<Figure size 432x288 with 1 Axes>"
      ]
     },
     "metadata": {
      "needs_background": "light"
     },
     "output_type": "display_data"
    }
   ],
   "source": [
    "x = np.array([\"top100\", \"pop\", \"country\", \"rap\", \"rock\"])\n",
    "y = []\n",
    "z = {}\n",
    "score,names = top_pairwise_cosine_similarity(create_tfidf(top100))\n",
    "y.append(score)\n",
    "z[\"top100\"] = names\n",
    "score,names = top_pairwise_cosine_similarity(create_tfidf(pop))\n",
    "y.append(score)\n",
    "z[\"pop\"] = names\n",
    "score,names = top_pairwise_cosine_similarity(create_tfidf(country))\n",
    "y.append(score)\n",
    "z[\"country\"] = names\n",
    "score,names = top_pairwise_cosine_similarity(create_tfidf(rap))\n",
    "y.append(score)\n",
    "z[\"rap\"] = names\n",
    "score,names = top_pairwise_cosine_similarity(create_tfidf(rock))\n",
    "y.append(score)\n",
    "z[\"rock\"] = names\n",
    "y = np.array(y)\n",
    "sns.barplot(x=x, y=y)\n",
    "for chart in z:\n",
    "    print(chart + \"'s most similar pair of songs is \" + z[chart][0] + \" and \" + z[chart][1])"
   ]
  },
  {
   "cell_type": "markdown",
   "metadata": {},
   "source": [
    "The graph shows that the top100 has the most similar pair of songs by far than any other chart. This is due to the fact that two different versions of the same song are both on the Billboard top100 chart, so this is a bit of an outlier and does not normally occur. It is interesting to see that rap has the lowest max similarity between any pair of songs as it was the chart that had the highest average pairwise similarity out of all of the charts. Also, the fact that the max similarity value is usually around .5 shows that there is significant overlap between certain songs in the same genre."
   ]
  },
  {
   "cell_type": "code",
   "execution_count": 21,
   "metadata": {},
   "outputs": [],
   "source": [
    "def percent_of_top_100(songs):\n",
    "    count = 0\n",
    "    len = songs.shape[0] #num of rows\n",
    "    \n",
    "    for index, row in songs.iterrows():\n",
    "        if ((top100['Title'] == row['Title']) & (top100['Artist'] == row['Artist'])).any():\n",
    "            count += 1\n",
    "            \n",
    "    return count / 100"
   ]
  },
  {
   "cell_type": "code",
   "execution_count": 22,
   "metadata": {},
   "outputs": [
    {
     "data": {
      "text/plain": [
       "0.0"
      ]
     },
     "metadata": {},
     "output_type": "display_data"
    },
    {
     "data": {
      "text/plain": [
       "0.27"
      ]
     },
     "metadata": {},
     "output_type": "display_data"
    },
    {
     "data": {
      "text/plain": [
       "0.12"
      ]
     },
     "metadata": {},
     "output_type": "display_data"
    }
   ],
   "source": [
    "# create a histogram\n",
    "display(percent_of_top_100(rock))\n",
    "display(percent_of_top_100(pop))\n",
    "display(percent_of_top_100(country))"
   ]
  },
  {
   "cell_type": "code",
   "execution_count": 23,
   "metadata": {},
   "outputs": [],
   "source": [
    "def get_lyric_len(chart):\n",
    "    return create_term_doc_matrix(chart).sum(axis = 1, skipna = True)"
   ]
  },
  {
   "cell_type": "code",
   "execution_count": 24,
   "metadata": {},
   "outputs": [],
   "source": [
    "def get_chart_word_count(chart):\n",
    "    return create_term_doc_matrix(chart).sum(axis = 0, skipna = True)\n",
    "\n",
    "def find_most_freq_words(chart):\n",
    "    counts = get_chart_word_count(chart)\n",
    "    return counts.nlargest(10) "
   ]
  },
  {
   "cell_type": "code",
   "execution_count": 25,
   "metadata": {},
   "outputs": [],
   "source": [
    "def create_word_freq_chart(chart):\n",
    "    freq = find_most_freq_words(chart)\n",
    "    freq = pd.DataFrame({'words':freq.index, 'word_cnt':freq.values})\n",
    "    sns.barplot(x=\"words\", y=\"word_cnt\", data=freq)"
   ]
  },
  {
   "cell_type": "code",
   "execution_count": 26,
   "metadata": {},
   "outputs": [
    {
     "data": {
      "image/png": "[encoded data removed]",
      "text/plain": [
       "<Figure size 432x288 with 1 Axes>"
      ]
     },
     "metadata": {
      "needs_background": "light"
     },
     "output_type": "display_data"
    }
   ],
   "source": [
    "create_word_freq_chart(rock)"
   ]
  },
  {
   "cell_type": "code",
   "execution_count": 27,
   "metadata": {},
   "outputs": [
    {
     "data": {
      "image/png": "[encoded data removed]",
      "text/plain": [
       "<Figure size 432x288 with 1 Axes>"
      ]
     },
     "metadata": {
      "needs_background": "light"
     },
     "output_type": "display_data"
    }
   ],
   "source": [
    "create_word_freq_chart(pop)"
   ]
  },
  {
   "cell_type": "code",
   "execution_count": 28,
   "metadata": {},
   "outputs": [
    {
     "data": {
      "image/png": "[encoded data removed]",
      "text/plain": [
       "<Figure size 432x288 with 1 Axes>"
      ]
     },
     "metadata": {
      "needs_background": "light"
     },
     "output_type": "display_data"
    }
   ],
   "source": [
    "create_word_freq_chart(country)"
   ]
  },
  {
   "cell_type": "code",
   "execution_count": 29,
   "metadata": {},
   "outputs": [
    {
     "data": {
      "image/png": "[encoded data removed]",
      "text/plain": [
       "<Figure size 432x288 with 1 Axes>"
      ]
     },
     "metadata": {
      "needs_background": "light"
     },
     "output_type": "display_data"
    }
   ],
   "source": [
    "create_word_freq_chart(rap)"
   ]
  },
  {
   "cell_type": "code",
   "execution_count": 30,
   "metadata": {},
   "outputs": [
    {
     "data": {
      "image/png": "[encoded data removed]",
      "text/plain": [
       "<Figure size 432x288 with 1 Axes>"
      ]
     },
     "metadata": {
      "needs_background": "light"
     },
     "output_type": "display_data"
    }
   ],
   "source": [
    "create_word_freq_chart(top100)"
   ]
  },
  {
   "cell_type": "code",
   "execution_count": 39,
   "metadata": {},
   "outputs": [],
   "source": [
    "def find_most_freq_key_words(chart): #This removes unimportant words such as a, an, to, the, etc... \n",
    "    words = ['a', 'an', 'the','that','you','of', 'it', 'my', 'yeah', 'all', 'that', 'to', 'on', 'and', 'oh', 'be', 'in', 'when', 're', 'but', 'can', 'for', 'so']\n",
    "    stop_words = set(stopwords.words('english'))\n",
    "    other_words_to_remove = ['oh', 'yeah', 'like', 'go', 'ah', 'ft', 'ooh', 'cause', 'got', 'gonna', 'me', 'we', 'don', 'with', 'get', 'doo', 'let', 'wanna', 'us', 'la', 'uh', 'want', 'ayy']\n",
    "    for word in other_words_to_remove:\n",
    "        stop_words.add(word)\n",
    "    counts = get_chart_word_count(chart)\n",
    "    counts = counts[~counts.index.isin(stop_words)]\n",
    "    return counts.nlargest(10)"
   ]
  },
  {
   "cell_type": "code",
   "execution_count": 40,
   "metadata": {},
   "outputs": [],
   "source": [
    "def create_word_key_chart(chart):\n",
    "    freq = find_most_freq_key_words(chart)\n",
    "    freq = pd.DataFrame({'words':freq.index, 'word_cnt':freq.values})\n",
    "    sns.barplot(x=\"words\", y=\"word_cnt\", data=freq)"
   ]
  },
  {
   "cell_type": "code",
   "execution_count": 41,
   "metadata": {},
   "outputs": [
    {
     "data": {
      "image/png": "[encoded data removed]",
      "text/plain": [
       "<Figure size 432x288 with 1 Axes>"
      ]
     },
     "metadata": {
      "needs_background": "light"
     },
     "output_type": "display_data"
    }
   ],
   "source": [
    "create_word_key_chart(rock)"
   ]
  },
  {
   "cell_type": "code",
   "execution_count": 42,
   "metadata": {},
   "outputs": [
    {
     "data": {
      "image/png": "[encoded data removed]",
      "text/plain": [
       "<Figure size 432x288 with 1 Axes>"
      ]
     },
     "metadata": {
      "needs_background": "light"
     },
     "output_type": "display_data"
    }
   ],
   "source": [
    "create_word_key_chart(pop)"
   ]
  },
  {
   "cell_type": "code",
   "execution_count": 43,
   "metadata": {},
   "outputs": [
    {
     "data": {
      "image/png": "[encoded data removed]",
      "text/plain": [
       "<Figure size 432x288 with 1 Axes>"
      ]
     },
     "metadata": {
      "needs_background": "light"
     },
     "output_type": "display_data"
    }
   ],
   "source": [
    "create_word_key_chart(country)"
   ]
  },
  {
   "cell_type": "code",
   "execution_count": 44,
   "metadata": {},
   "outputs": [
    {
     "data": {
      "image/png": "[encoded data removed]",
      "text/plain": [
       "<Figure size 432x288 with 1 Axes>"
      ]
     },
     "metadata": {
      "needs_background": "light"
     },
     "output_type": "display_data"
    }
   ],
   "source": [
    "create_word_key_chart(rap)"
   ]
  },
  {
   "cell_type": "code",
   "execution_count": 45,
   "metadata": {},
   "outputs": [
    {
     "data": {
      "image/png": "[encoded data removed]",
      "text/plain": [
       "<Figure size 432x288 with 1 Axes>"
      ]
     },
     "metadata": {
      "needs_background": "light"
     },
     "output_type": "display_data"
    }
   ],
   "source": [
    "create_word_key_chart(top100)"
   ]
  },
  {
   "cell_type": "code",
   "execution_count": 51,
   "metadata": {},
   "outputs": [],
   "source": [
    "def get_profan_freq(chart):\n",
    "    freq = get_chart_word_count(chart)\n",
    "    profan = {}\n",
    "    percent = {}\n",
    "    \n",
    "    for row in freq.index:\n",
    "        if predict([row]):\n",
    "            profan[row] = freq[row]\n",
    "            percent[row] = profan[row] / get_lyric_len(chart).sum(axis = 0, skipna = True)\n",
    "               \n",
    "    return profan, percent"
   ]
  },
  {
   "cell_type": "code",
   "execution_count": 52,
   "metadata": {},
   "outputs": [
    {
     "data": {
      "text/plain": [
       "<matplotlib.axes._subplots.AxesSubplot at 0x7f747550fcf8>"
      ]
     },
     "execution_count": 52,
     "metadata": {},
     "output_type": "execute_result"
    },
    {
     "data": {
      "image/png": "[encoded data removed]",
      "text/plain": [
       "<Figure size 432x288 with 1 Axes>"
      ]
     },
     "metadata": {
      "needs_background": "light"
     },
     "output_type": "display_data"
    }
   ],
   "source": [
    "x = np.array([\"top100\", \"pop\", \"country\", \"rap\", \"rock\"])\n",
    "y = []\n",
    "y.append(sum(get_profan_freq(top100)[1].values()))\n",
    "y.append(sum(get_profan_freq(pop)[1].values()))\n",
    "y.append(sum(get_profan_freq(country)[1].values()))\n",
    "y.append(sum(get_profan_freq(rap)[1].values()))\n",
    "y.append(sum(get_profan_freq(rock)[1].values()))\n",
    "y = np.array(y)\n",
    "sns.barplot(x=x, y=y)"
   ]
  },
  {
   "cell_type": "markdown",
   "metadata": {},
   "source": [
    "This graph shows the total percentage of lyrics in each chart that are classified as profane. As one would expect the rap chart has a much higher percentage of profane words then any other chart and top100 is the next highest because it has rap songs on it. Country has an extremely low percentage of profane words and rock also has a low percentage of profane words."
   ]
  },
  {
   "cell_type": "code",
   "execution_count": 53,
   "metadata": {},
   "outputs": [],
   "source": [
    "def profan_cnt_graph(chart):\n",
    "    doc = create_term_doc_matrix(chart)\n",
    "    cols = doc.columns\n",
    "\n",
    "    for i in cols:\n",
    "        if not predict([i]):\n",
    "            cols = cols.drop([i])\n",
    "\n",
    "    doc = doc[cols]\n",
    "    sum = doc.sum(axis = 1, skipna = True) \n",
    "    sum = pd.DataFrame({'Title':sum.index, 'profan_cnt':sum.values})\n",
    "\n",
    "    sum['Rank'] = chart['Rank']\n",
    "    sns.regplot(x=\"Rank\", y=\"profan_cnt\", data=sum)"
   ]
  },
  {
   "cell_type": "code",
   "execution_count": 54,
   "metadata": {},
   "outputs": [
    {
     "data": {
      "image/png": "[encoded data removed]",
      "text/plain": [
       "<Figure size 432x288 with 1 Axes>"
      ]
     },
     "metadata": {
      "needs_background": "light"
     },
     "output_type": "display_data"
    }
   ],
   "source": [
    "#Trend seems to be that higher ranking songs tend to have less profanity.\n",
    "#This makes sense, less profanity makes the song easier to play in more places. \n",
    "profan_cnt_graph(top100)"
   ]
  },
  {
   "cell_type": "code",
   "execution_count": 55,
   "metadata": {},
   "outputs": [
    {
     "data": {
      "image/png": "[encoded data removed]",
      "text/plain": [
       "<Figure size 432x288 with 1 Axes>"
      ]
     },
     "metadata": {
      "needs_background": "light"
     },
     "output_type": "display_data"
    }
   ],
   "source": [
    "profan_cnt_graph(rap)"
   ]
  },
  {
   "cell_type": "code",
   "execution_count": 56,
   "metadata": {},
   "outputs": [
    {
     "name": "stdout",
     "output_type": "stream",
     "text": [
      "How many key words do you want to enter? 2\n",
      "Please enter a key word: Christmas\n",
      "Please enter your final key word: all\n",
      "Title\n",
      "All I Want For Christmas Is You    0.170514\n",
      "dtype: float64\n"
     ]
    }
   ],
   "source": [
    "#Matching songs based off of lyrics\n",
    "#A person enters n lyrics and we try to match which song in top100 is the best match\n",
    "def find_best_match(words):\n",
    "    print(tfidf[tfidf.index.isin(words)].sum(axis = 0, skipna = True).nlargest(1))\n",
    "\n",
    "num = int(input(\"How many key words do you want to enter? \"))\n",
    "words = []\n",
    "\n",
    "for i in range(num - 1):\n",
    "    words.append(input(\"Please enter a key word: \"))\n",
    "words.append(input(\"Please enter your final key word: \"))  \n",
    "\n",
    "find_best_match(words)"
   ]
  },
  {
   "cell_type": "code",
   "execution_count": 57,
   "metadata": {},
   "outputs": [
    {
     "data": {
      "image/png": "[encoded data removed]",
      "text/plain": [
       "<Figure size 432x288 with 1 Axes>"
      ]
     },
     "metadata": {
      "needs_background": "light"
     },
     "output_type": "display_data"
    },
    {
     "name": "stdout",
     "output_type": "stream",
     "text": [
      "-144.08303485840526\n"
     ]
    },
    {
     "data": {
      "image/png": "[encoded data removed]",
      "text/plain": [
       "<Figure size 432x288 with 1 Axes>"
      ]
     },
     "metadata": {
      "needs_background": "light"
     },
     "output_type": "display_data"
    },
    {
     "name": "stdout",
     "output_type": "stream",
     "text": [
      "-1.3234046545077365\n"
     ]
    }
   ],
   "source": [
    "top100_matrix = create_term_doc_matrix(top100)\n",
    "top100_matrix['rank'] = top100['Rank'].values\n",
    "top100_matrix['spotify_popularity'] = top100['spotify_popularity'].values\n",
    "stop_words = set(stopwords.words('english'))\n",
    "other_words_to_remove = ['oh', 'yeah', 'like', 'go', 'ah', 'ft', 'ooh', 'cause', 'got', 'gonna', 'me', 'we', 'don', 'with', 'get', 'doo', 'let', 'wanna', 'us', 'la', 'uh', 'want', 'ayy']\n",
    "for word in other_words_to_remove:\n",
    "    stop_words.add(word)\n",
    "    \n",
    "stop_word_columns = [x for x in top100_matrix.columns if x in stop_words]\n",
    "\n",
    "better_top100_matrix = top100_matrix.drop(columns=stop_word_columns)\n",
    "\n",
    "top100_most_freq = find_most_freq_key_words(top100).index.tolist()\n",
    "\n",
    "X = better_top100_matrix[top100_most_freq]\n",
    "y_rank = top100_matrix['rank']\n",
    "reg = LinearRegression().fit(X, y_rank)\n",
    "reg.coef_\n",
    "real_rank_predict_rank = sns.regplot(x=y_rank, y=reg.predict(X))\n",
    "plt.show(real_rank_predict_rank)\n",
    "print(cross_val_score(reg, X, y_rank, cv=10).mean())\n",
    "\n",
    "y_spotify_pop = top100_matrix['spotify_popularity']\n",
    "reg = LinearRegression().fit(X, y_spotify_pop)\n",
    "reg.coef_\n",
    "real_spot_pop_predict_spot_pop = sns.regplot(x=y_spotify_pop, y=reg.predict(X))\n",
    "plt.show(real_spot_pop_predict_spot_pop)\n",
    "print(cross_val_score(reg, X, y_spotify_pop, cv=10).mean())"
   ]
  },
  {
   "cell_type": "markdown",
   "metadata": {},
   "source": [
    "```python\n",
    "def getSongRanks(year):\n",
    "    r = requests.get(f\"https://www.billboard.com/charts/year-end/{year}/hot-100-songs\")\n",
    "    if r.status_code != 200:\n",
    "        print(f\"Failed on year {year}\")\n",
    "        return\n",
    "    time.sleep(2) # If I remove this I get a \"Too Many Requests\" error from billboard.com\n",
    "    soup = BeautifulSoup(r.text, 'html.parser')\n",
    "    ranks = soup.find_all(\"div\", {\"class\": \"ye-chart-item__rank\"})\n",
    "    titles = soup.find_all(\"div\", {\"class\": \"ye-chart-item__title\"})\n",
    "    artists = soup.find_all(\"div\", {\"class\": \"ye-chart-item__artist\"})\n",
    "    ranks = [rank.text.strip() for rank in ranks]\n",
    "    titles = [title.text.strip() for title in titles]\n",
    "    artists = [artist.text.strip() for artist in artists]\n",
    "    songs = list(zip(ranks, titles, artists))\n",
    "    print(f\"Done with year {year}\")\n",
    "    return songs\n",
    "\n",
    "ranks = pd.DataFrame(columns=[\"Title\", \"Artist\", \"Year\", \"Rank\", \"lyrics\"])\n",
    "    \n",
    "year_range = range(2006, 2020)\n",
    "for year in year_range:\n",
    "    top = getSongRanks(year)\n",
    "    for (rank, title, artist) in top:\n",
    "        ranks = ranks.append({\"Title\": title, \"Artist\": artist, \"Year\": year, \"Rank\": rank, \"lyrics\": np.nan}, ignore_index=True)\n",
    "```"
   ]
  },
  {
   "cell_type": "code",
   "execution_count": 58,
   "metadata": {},
   "outputs": [
    {
     "data": {
      "text/html": [
       "<div>\n",
       "<style scoped>\n",
       "    .dataframe tbody tr th:only-of-type {\n",
       "        vertical-align: middle;\n",
       "    }\n",
       "\n",
       "    .dataframe tbody tr th {\n",
       "        vertical-align: top;\n",
       "    }\n",
       "\n",
       "    .dataframe thead th {\n",
       "        text-align: right;\n",
       "    }\n",
       "</style>\n",
       "<table border=\"1\" class=\"dataframe\">\n",
       "  <thead>\n",
       "    <tr style=\"text-align: right;\">\n",
       "      <th></th>\n",
       "      <th>index</th>\n",
       "      <th>Rank</th>\n",
       "      <th>Title</th>\n",
       "      <th>Artist</th>\n",
       "      <th>Year</th>\n",
       "      <th>lyrics</th>\n",
       "    </tr>\n",
       "  </thead>\n",
       "  <tbody>\n",
       "    <tr>\n",
       "      <th>0</th>\n",
       "      <td>0</td>\n",
       "      <td>1</td>\n",
       "      <td>Bad Day</td>\n",
       "      <td>Daniel Powter</td>\n",
       "      <td>2006.0</td>\n",
       "      <td>Where is the moment we needed the most?\\nYou k...</td>\n",
       "    </tr>\n",
       "    <tr>\n",
       "      <th>1</th>\n",
       "      <td>1</td>\n",
       "      <td>2</td>\n",
       "      <td>Temperature</td>\n",
       "      <td>Sean Paul</td>\n",
       "      <td>2006.0</td>\n",
       "      <td>The gyal dem Schillaci, Sean da Paul\\nSo me gi...</td>\n",
       "    </tr>\n",
       "    <tr>\n",
       "      <th>2</th>\n",
       "      <td>2</td>\n",
       "      <td>3</td>\n",
       "      <td>Promiscuous</td>\n",
       "      <td>Nelly Furtado Featuring Timbaland</td>\n",
       "      <td>2006.0</td>\n",
       "      <td>Am I throwin' you off?\\nNope\\nDidn't think so\\...</td>\n",
       "    </tr>\n",
       "    <tr>\n",
       "      <th>3</th>\n",
       "      <td>3</td>\n",
       "      <td>4</td>\n",
       "      <td>You're Beautiful</td>\n",
       "      <td>James Blunt</td>\n",
       "      <td>2006.0</td>\n",
       "      <td>My life is brilliant\\n\\nMy life is brilliant, ...</td>\n",
       "    </tr>\n",
       "    <tr>\n",
       "      <th>4</th>\n",
       "      <td>4</td>\n",
       "      <td>5</td>\n",
       "      <td>Hips Don't Lie</td>\n",
       "      <td>Shakira Featuring Wyclef Jean</td>\n",
       "      <td>2006.0</td>\n",
       "      <td>Ladies up in here tonight\\nNo fighting (We got...</td>\n",
       "    </tr>\n",
       "    <tr>\n",
       "      <th>5</th>\n",
       "      <td>5</td>\n",
       "      <td>6</td>\n",
       "      <td>Unwritten</td>\n",
       "      <td>Natasha Bedingfield</td>\n",
       "      <td>2006.0</td>\n",
       "      <td>I am unwritten, can't read my mind\\nI'm undefi...</td>\n",
       "    </tr>\n",
       "    <tr>\n",
       "      <th>6</th>\n",
       "      <td>6</td>\n",
       "      <td>7</td>\n",
       "      <td>Crazy</td>\n",
       "      <td>Gnarls Barkley</td>\n",
       "      <td>2006.0</td>\n",
       "      <td>I remember when\\nI remember, I remember when I...</td>\n",
       "    </tr>\n",
       "    <tr>\n",
       "      <th>7</th>\n",
       "      <td>7</td>\n",
       "      <td>8</td>\n",
       "      <td>Ridin'</td>\n",
       "      <td>Chamillionaire Featuring Krayzie Bone</td>\n",
       "      <td>2006.0</td>\n",
       "      <td>Hi. I'm the Rap Critic. Let's talk about Chami...</td>\n",
       "    </tr>\n",
       "    <tr>\n",
       "      <th>8</th>\n",
       "      <td>8</td>\n",
       "      <td>9</td>\n",
       "      <td>SexyBack</td>\n",
       "      <td>Justin Timberlake</td>\n",
       "      <td>2006.0</td>\n",
       "      <td>I'm bringin' sexy back (Yeah)\\nThem other boys...</td>\n",
       "    </tr>\n",
       "    <tr>\n",
       "      <th>9</th>\n",
       "      <td>9</td>\n",
       "      <td>10</td>\n",
       "      <td>Check On It</td>\n",
       "      <td>Beyonce Featuring Slim Thug</td>\n",
       "      <td>2006.0</td>\n",
       "      <td>Swizz Beatz\\nDC, Destiny Child (Slim Thug)\\n\\n...</td>\n",
       "    </tr>\n",
       "    <tr>\n",
       "      <th>10</th>\n",
       "      <td>10</td>\n",
       "      <td>11</td>\n",
       "      <td>Be Without You</td>\n",
       "      <td>Mary J. Blige</td>\n",
       "      <td>2006.0</td>\n",
       "      <td>I wanna be with you\\nGotta be with you\\nNeed t...</td>\n",
       "    </tr>\n",
       "    <tr>\n",
       "      <th>11</th>\n",
       "      <td>11</td>\n",
       "      <td>12</td>\n",
       "      <td>Grillz</td>\n",
       "      <td>Nelly Featuring Paul Wall, Ali &amp; Gipp</td>\n",
       "      <td>2006.0</td>\n",
       "      <td>Rob the jewelry store and tell 'em make me a g...</td>\n",
       "    </tr>\n",
       "    <tr>\n",
       "      <th>12</th>\n",
       "      <td>12</td>\n",
       "      <td>13</td>\n",
       "      <td>Over My Head (Cable Car)</td>\n",
       "      <td>The Fray</td>\n",
       "      <td>2006.0</td>\n",
       "      <td>I never knew\\nI never knew that everything was...</td>\n",
       "    </tr>\n",
       "    <tr>\n",
       "      <th>13</th>\n",
       "      <td>13</td>\n",
       "      <td>14</td>\n",
       "      <td>Me &amp; U</td>\n",
       "      <td>Cassie</td>\n",
       "      <td>2006.0</td>\n",
       "      <td>Uh, NextSelection\\n\\nYou've been waiting so lo...</td>\n",
       "    </tr>\n",
       "    <tr>\n",
       "      <th>14</th>\n",
       "      <td>14</td>\n",
       "      <td>15</td>\n",
       "      <td>Buttons</td>\n",
       "      <td>The Pussycat Dolls Featuring Snoop Dogg</td>\n",
       "      <td>2006.0</td>\n",
       "      <td>What it do, baby boo?\\nYeah, lil' mama, you lo...</td>\n",
       "    </tr>\n",
       "    <tr>\n",
       "      <th>15</th>\n",
       "      <td>15</td>\n",
       "      <td>16</td>\n",
       "      <td>Run It!</td>\n",
       "      <td>Chris Brown</td>\n",
       "      <td>2006.0</td>\n",
       "      <td>Okay, check it, check it, check it out\\nIt's S...</td>\n",
       "    </tr>\n",
       "    <tr>\n",
       "      <th>16</th>\n",
       "      <td>16</td>\n",
       "      <td>17</td>\n",
       "      <td>So Sick</td>\n",
       "      <td>Ne-Yo</td>\n",
       "      <td>2006.0</td>\n",
       "      <td>Mmm, mmm, yeah\\nDo, do, do, do, do, do, do-do\\...</td>\n",
       "    </tr>\n",
       "    <tr>\n",
       "      <th>17</th>\n",
       "      <td>17</td>\n",
       "      <td>18</td>\n",
       "      <td>It's Goin' Down</td>\n",
       "      <td>Yung Joc</td>\n",
       "      <td>2006.0</td>\n",
       "      <td>Here we go again\\nGhettoville U.S.A. (uh oh)\\n...</td>\n",
       "    </tr>\n",
       "    <tr>\n",
       "      <th>18</th>\n",
       "      <td>18</td>\n",
       "      <td>19</td>\n",
       "      <td>SOS</td>\n",
       "      <td>Rihanna</td>\n",
       "      <td>2006.0</td>\n",
       "      <td>La-la-la, la-la-la, la-la-la-la-la, oh\\n(You k...</td>\n",
       "    </tr>\n",
       "    <tr>\n",
       "      <th>19</th>\n",
       "      <td>19</td>\n",
       "      <td>20</td>\n",
       "      <td>I Write Sins Not Tragedies</td>\n",
       "      <td>Panic! At The Disco</td>\n",
       "      <td>2006.0</td>\n",
       "      <td>Oh, well, imagine\\nAs I'm pacing the pews in a...</td>\n",
       "    </tr>\n",
       "    <tr>\n",
       "      <th>20</th>\n",
       "      <td>20</td>\n",
       "      <td>21</td>\n",
       "      <td>Move Along</td>\n",
       "      <td>The All-American Rejects</td>\n",
       "      <td>2006.0</td>\n",
       "      <td>Go ahead as you waste your days with thinking\\...</td>\n",
       "    </tr>\n",
       "    <tr>\n",
       "      <th>21</th>\n",
       "      <td>21</td>\n",
       "      <td>22</td>\n",
       "      <td>London Bridge</td>\n",
       "      <td>Fergie</td>\n",
       "      <td>2006.0</td>\n",
       "      <td>Oh, shit! Oh, shit! Oh, shit!\\nOh, shit! Oh, s...</td>\n",
       "    </tr>\n",
       "    <tr>\n",
       "      <th>22</th>\n",
       "      <td>22</td>\n",
       "      <td>23</td>\n",
       "      <td>Dani California</td>\n",
       "      <td>Red Hot Chili Peppers</td>\n",
       "      <td>2006.0</td>\n",
       "      <td>Gettin' born in the state of Mississippi\\nPopp...</td>\n",
       "    </tr>\n",
       "    <tr>\n",
       "      <th>23</th>\n",
       "      <td>23</td>\n",
       "      <td>24</td>\n",
       "      <td>Snap Yo Fingers</td>\n",
       "      <td>Lil Jon Featuring E-40 &amp; Sean Paul Of The Youn...</td>\n",
       "      <td>2006.0</td>\n",
       "      <td>Failed to Find Lyrics</td>\n",
       "    </tr>\n",
       "    <tr>\n",
       "      <th>24</th>\n",
       "      <td>24</td>\n",
       "      <td>25</td>\n",
       "      <td>Lean Wit It, Rock Wit It</td>\n",
       "      <td>Dem Franchize Boyz Featuring Lil Peanut &amp; Charlay</td>\n",
       "      <td>2006.0</td>\n",
       "      <td>Failed to Find Lyrics</td>\n",
       "    </tr>\n",
       "    <tr>\n",
       "      <th>25</th>\n",
       "      <td>25</td>\n",
       "      <td>26</td>\n",
       "      <td>What Hurts The Most</td>\n",
       "      <td>Rascal Flatts</td>\n",
       "      <td>2006.0</td>\n",
       "      <td>I can take the rain on the roof of this empty ...</td>\n",
       "    </tr>\n",
       "    <tr>\n",
       "      <th>26</th>\n",
       "      <td>26</td>\n",
       "      <td>27</td>\n",
       "      <td>How To Save A Life</td>\n",
       "      <td>The Fray</td>\n",
       "      <td>2006.0</td>\n",
       "      <td>Step one, you say we need to talk\\nHe walks, y...</td>\n",
       "    </tr>\n",
       "    <tr>\n",
       "      <th>27</th>\n",
       "      <td>27</td>\n",
       "      <td>28</td>\n",
       "      <td>Unfaithful</td>\n",
       "      <td>Rihanna</td>\n",
       "      <td>2006.0</td>\n",
       "      <td>Story of my life\\nSearching for the right, but...</td>\n",
       "    </tr>\n",
       "    <tr>\n",
       "      <th>28</th>\n",
       "      <td>28</td>\n",
       "      <td>29</td>\n",
       "      <td>Chasing Cars</td>\n",
       "      <td>Snow Patrol</td>\n",
       "      <td>2006.0</td>\n",
       "      <td>We'll do it all\\nEverything\\nOn our own\\nWe do...</td>\n",
       "    </tr>\n",
       "    <tr>\n",
       "      <th>29</th>\n",
       "      <td>29</td>\n",
       "      <td>30</td>\n",
       "      <td>Lips Of An Angel</td>\n",
       "      <td>Hinder</td>\n",
       "      <td>2006.0</td>\n",
       "      <td>Honey why you callin’ me so late?\\nIt’s kinda ...</td>\n",
       "    </tr>\n",
       "    <tr>\n",
       "      <th>...</th>\n",
       "      <td>...</td>\n",
       "      <td>...</td>\n",
       "      <td>...</td>\n",
       "      <td>...</td>\n",
       "      <td>...</td>\n",
       "      <td>...</td>\n",
       "    </tr>\n",
       "    <tr>\n",
       "      <th>1368</th>\n",
       "      <td>1368</td>\n",
       "      <td>71</td>\n",
       "      <td>Leave Me Alone</td>\n",
       "      <td>Flipp Dinero</td>\n",
       "      <td>2019.0</td>\n",
       "      <td>Yeah, yeah\\nYeah, I miss you but I got no time...</td>\n",
       "    </tr>\n",
       "    <tr>\n",
       "      <th>1369</th>\n",
       "      <td>1369</td>\n",
       "      <td>72</td>\n",
       "      <td>Breathin</td>\n",
       "      <td>Ariana Grande</td>\n",
       "      <td>2019.0</td>\n",
       "      <td>Lacigam gnihtemos od ot\\nThgin laiceps ruoy s'...</td>\n",
       "    </tr>\n",
       "    <tr>\n",
       "      <th>1370</th>\n",
       "      <td>1370</td>\n",
       "      <td>73</td>\n",
       "      <td>Bury A Friend</td>\n",
       "      <td>Billie Eilish</td>\n",
       "      <td>2019.0</td>\n",
       "      <td>Billie\\n\\nWhat do you want from me? Why don't ...</td>\n",
       "    </tr>\n",
       "    <tr>\n",
       "      <th>1371</th>\n",
       "      <td>1371</td>\n",
       "      <td>74</td>\n",
       "      <td>Close Friends</td>\n",
       "      <td>Lil Baby</td>\n",
       "      <td>2019.0</td>\n",
       "      <td>Oh, this the one right here, Wicked?\\nOkay\\nYe...</td>\n",
       "    </tr>\n",
       "    <tr>\n",
       "      <th>1372</th>\n",
       "      <td>1372</td>\n",
       "      <td>75</td>\n",
       "      <td>Baby Shark</td>\n",
       "      <td>Pinkfong</td>\n",
       "      <td>2019.0</td>\n",
       "      <td>Baby shark, doo doo doo doo doo doo\\nBaby shar...</td>\n",
       "    </tr>\n",
       "    <tr>\n",
       "      <th>1373</th>\n",
       "      <td>1373</td>\n",
       "      <td>76</td>\n",
       "      <td>My Type</td>\n",
       "      <td>Saweetie</td>\n",
       "      <td>2019.0</td>\n",
       "      <td>Hennessy on my lips, take a little sip\\nPrivac...</td>\n",
       "    </tr>\n",
       "    <tr>\n",
       "      <th>1374</th>\n",
       "      <td>1374</td>\n",
       "      <td>77</td>\n",
       "      <td>Worth It</td>\n",
       "      <td>YK Osiris</td>\n",
       "      <td>2019.0</td>\n",
       "      <td>I would give you the world, nah, nah, nah\\n(Yo...</td>\n",
       "    </tr>\n",
       "    <tr>\n",
       "      <th>1375</th>\n",
       "      <td>1375</td>\n",
       "      <td>78</td>\n",
       "      <td>Only Human</td>\n",
       "      <td>Jonas Brothers</td>\n",
       "      <td>2019.0</td>\n",
       "      <td>Yeah, ayy\\n\\nI don't want this night to end\\nI...</td>\n",
       "    </tr>\n",
       "    <tr>\n",
       "      <th>1376</th>\n",
       "      <td>1376</td>\n",
       "      <td>79</td>\n",
       "      <td>Knockin' Boots</td>\n",
       "      <td>Luke Bryan</td>\n",
       "      <td>2019.0</td>\n",
       "      <td>This truck needs a half tank\\nThese wheels nee...</td>\n",
       "    </tr>\n",
       "    <tr>\n",
       "      <th>1377</th>\n",
       "      <td>1377</td>\n",
       "      <td>80</td>\n",
       "      <td>Trip</td>\n",
       "      <td>Ella Mai</td>\n",
       "      <td>2019.0</td>\n",
       "      <td>Ooh, yeah, yeah\\n\\nI put my feelings on safety...</td>\n",
       "    </tr>\n",
       "    <tr>\n",
       "      <th>1378</th>\n",
       "      <td>1378</td>\n",
       "      <td>81</td>\n",
       "      <td>Rumor</td>\n",
       "      <td>Lee Brice</td>\n",
       "      <td>2019.0</td>\n",
       "      <td>Girl you know I've known you forever\\nHow many...</td>\n",
       "    </tr>\n",
       "    <tr>\n",
       "      <th>1379</th>\n",
       "      <td>1379</td>\n",
       "      <td>82</td>\n",
       "      <td>Swervin</td>\n",
       "      <td>A Boogie Wit da Hoodie Featuring 6ix9ine</td>\n",
       "      <td>2019.0</td>\n",
       "      <td>Uh\\nYeah\\nOh, that's London On Da Track, run t...</td>\n",
       "    </tr>\n",
       "    <tr>\n",
       "      <th>1380</th>\n",
       "      <td>1380</td>\n",
       "      <td>83</td>\n",
       "      <td>How Do You Sleep?</td>\n",
       "      <td>Sam Smith</td>\n",
       "      <td>2019.0</td>\n",
       "      <td>I'm done hatin' myself for feelin'\\nI'm done c...</td>\n",
       "    </tr>\n",
       "    <tr>\n",
       "      <th>1381</th>\n",
       "      <td>1381</td>\n",
       "      <td>84</td>\n",
       "      <td>Baby</td>\n",
       "      <td>Lil Baby &amp; DaBaby</td>\n",
       "      <td>2019.0</td>\n",
       "      <td>Wheezy outta here\\n\\nYeah, rest in peace to Ba...</td>\n",
       "    </tr>\n",
       "    <tr>\n",
       "      <th>1382</th>\n",
       "      <td>1382</td>\n",
       "      <td>85</td>\n",
       "      <td>Look What God Gave Her</td>\n",
       "      <td>Thomas Rhett</td>\n",
       "      <td>2019.0</td>\n",
       "      <td>Don't even want the attention\\nBut yeah, that'...</td>\n",
       "    </tr>\n",
       "    <tr>\n",
       "      <th>1383</th>\n",
       "      <td>1383</td>\n",
       "      <td>86</td>\n",
       "      <td>Good As You</td>\n",
       "      <td>Kane Brown</td>\n",
       "      <td>2019.0</td>\n",
       "      <td>See the way you're taking care of your Mama\\nT...</td>\n",
       "    </tr>\n",
       "    <tr>\n",
       "      <th>1384</th>\n",
       "      <td>1384</td>\n",
       "      <td>87</td>\n",
       "      <td>Clout</td>\n",
       "      <td>Offset Featuring Cardi B</td>\n",
       "      <td>2019.0</td>\n",
       "      <td>Diamonds on fleek\\nBitch, I ain't talking abou...</td>\n",
       "    </tr>\n",
       "    <tr>\n",
       "      <th>1385</th>\n",
       "      <td>1385</td>\n",
       "      <td>88</td>\n",
       "      <td>Love Lies</td>\n",
       "      <td>Khalid &amp; Normani</td>\n",
       "      <td>2019.0</td>\n",
       "      <td>Sorry if it's hard to catch my vibe, mmm\\nI ne...</td>\n",
       "    </tr>\n",
       "    <tr>\n",
       "      <th>1386</th>\n",
       "      <td>1386</td>\n",
       "      <td>89</td>\n",
       "      <td>One Thing Right</td>\n",
       "      <td>Marshmello &amp; Kane Brown</td>\n",
       "      <td>2019.0</td>\n",
       "      <td>I've cheated and I’ve lied\\nI've broke down an...</td>\n",
       "    </tr>\n",
       "    <tr>\n",
       "      <th>1387</th>\n",
       "      <td>1387</td>\n",
       "      <td>90</td>\n",
       "      <td>Cash Shit</td>\n",
       "      <td>Megan Thee Stallion Featuring DaBaby</td>\n",
       "      <td>2019.0</td>\n",
       "      <td>Real hot girl shit\\nYeah, I'm in my bag, but I...</td>\n",
       "    </tr>\n",
       "    <tr>\n",
       "      <th>1388</th>\n",
       "      <td>1388</td>\n",
       "      <td>91</td>\n",
       "      <td>Tequila</td>\n",
       "      <td>Dan + Shay</td>\n",
       "      <td>2019.0</td>\n",
       "      <td>I can still shut down a party\\nI can hang with...</td>\n",
       "    </tr>\n",
       "    <tr>\n",
       "      <th>1389</th>\n",
       "      <td>1389</td>\n",
       "      <td>92</td>\n",
       "      <td>Shotta Flow</td>\n",
       "      <td>NLE Choppa</td>\n",
       "      <td>2019.0</td>\n",
       "      <td>I wish everything I touch would turn to gold\\n...</td>\n",
       "    </tr>\n",
       "    <tr>\n",
       "      <th>1390</th>\n",
       "      <td>1390</td>\n",
       "      <td>93</td>\n",
       "      <td>Hot Girl Summer</td>\n",
       "      <td>Megan Thee Stallion, Nicki Minaj &amp; Ty Dolla $ign</td>\n",
       "      <td>2019.0</td>\n",
       "      <td>(Bone Collector the plug)\\nReal hot girl shit\\...</td>\n",
       "    </tr>\n",
       "    <tr>\n",
       "      <th>1391</th>\n",
       "      <td>1391</td>\n",
       "      <td>94</td>\n",
       "      <td>Talk You Out Of It</td>\n",
       "      <td>Florida Georgia Line</td>\n",
       "      <td>2019.0</td>\n",
       "      <td>Girl, I know you had a long day\\nYou ain't fee...</td>\n",
       "    </tr>\n",
       "    <tr>\n",
       "      <th>1392</th>\n",
       "      <td>1392</td>\n",
       "      <td>95</td>\n",
       "      <td>Beautiful</td>\n",
       "      <td>Bazzi Featuring Camila Cabello</td>\n",
       "      <td>2019.0</td>\n",
       "      <td>Hey\\nBeautiful, beautiful, beautiful, beautifu...</td>\n",
       "    </tr>\n",
       "    <tr>\n",
       "      <th>1393</th>\n",
       "      <td>1393</td>\n",
       "      <td>96</td>\n",
       "      <td>Eyes On You</td>\n",
       "      <td>Chase Rice</td>\n",
       "      <td>2019.0</td>\n",
       "      <td>We've been to both Carolinas\\nSeen a big Monta...</td>\n",
       "    </tr>\n",
       "    <tr>\n",
       "      <th>1394</th>\n",
       "      <td>1394</td>\n",
       "      <td>97</td>\n",
       "      <td>All To Myself</td>\n",
       "      <td>Dan + Shay</td>\n",
       "      <td>2019.0</td>\n",
       "      <td>I'm jealous of the blue jeans that you're wear...</td>\n",
       "    </tr>\n",
       "    <tr>\n",
       "      <th>1395</th>\n",
       "      <td>1395</td>\n",
       "      <td>98</td>\n",
       "      <td>Boyfriend</td>\n",
       "      <td>Ariana Grande &amp; Social House</td>\n",
       "      <td>2019.0</td>\n",
       "      <td>I'm a motherfuckin' train wreck\\nI don't wanna...</td>\n",
       "    </tr>\n",
       "    <tr>\n",
       "      <th>1396</th>\n",
       "      <td>1396</td>\n",
       "      <td>99</td>\n",
       "      <td>Walk Me Home</td>\n",
       "      <td>P!nk</td>\n",
       "      <td>2019.0</td>\n",
       "      <td>There's somethin' in the way you roll your eye...</td>\n",
       "    </tr>\n",
       "    <tr>\n",
       "      <th>1397</th>\n",
       "      <td>1397</td>\n",
       "      <td>100</td>\n",
       "      <td>Robbery</td>\n",
       "      <td>Juice WRLD</td>\n",
       "      <td>2019.0</td>\n",
       "      <td>Man, what? (Haha)\\nThis shit funny, one sec\\nO...</td>\n",
       "    </tr>\n",
       "  </tbody>\n",
       "</table>\n",
       "<p>1398 rows × 6 columns</p>\n",
       "</div>"
      ],
      "text/plain": [
       "      index Rank             Title                             Artist    Year  \\\n",
       "0         0    1           Bad Day                      Daniel Powter  2006.0   \n",
       "1         1    2       Temperature                          Sean Paul  2006.0   \n",
       "2         2    3       Promiscuous  Nelly Furtado Featuring Timbaland  2006.0   \n",
       "3         3    4  You're Beautiful                        James Blunt  2006.0   \n",
       "4         4    5    Hips Don't Lie      Shakira Featuring Wyclef Jean  2006.0   \n",
       "...     ...  ...               ...                                ...     ...   \n",
       "1393   1393   96       Eyes On You                         Chase Rice  2019.0   \n",
       "1394   1394   97     All To Myself                         Dan + Shay  2019.0   \n",
       "1395   1395   98         Boyfriend       Ariana Grande & Social House  2019.0   \n",
       "1396   1396   99      Walk Me Home                               P!nk  2019.0   \n",
       "1397   1397  100           Robbery                         Juice WRLD  2019.0   \n",
       "\n",
       "                                                 lyrics  \n",
       "0     Where is the moment we needed the most?\\nYou k...  \n",
       "1     The gyal dem Schillaci, Sean da Paul\\nSo me gi...  \n",
       "2     Am I throwin' you off?\\nNope\\nDidn't think so\\...  \n",
       "3     My life is brilliant\\n\\nMy life is brilliant, ...  \n",
       "4     Ladies up in here tonight\\nNo fighting (We got...  \n",
       "...                                                 ...  \n",
       "1393  We've been to both Carolinas\\nSeen a big Monta...  \n",
       "1394  I'm jealous of the blue jeans that you're wear...  \n",
       "1395  I'm a motherfuckin' train wreck\\nI don't wanna...  \n",
       "1396  There's somethin' in the way you roll your eye...  \n",
       "1397  Man, what? (Haha)\\nThis shit funny, one sec\\nO...  \n",
       "\n",
       "[1398 rows x 6 columns]"
      ]
     },
     "metadata": {},
     "output_type": "display_data"
    }
   ],
   "source": [
    "conn = sqlite3.connect('billboard100.db')\n",
    "\n",
    "df = pd.read_sql_query(\"SELECT * FROM billboard100\", conn)\n",
    "\n",
    "display(df)\n",
    "\n",
    "profanity_per_year = {}\n",
    "\n",
    "for year in range(2006,2020):\n",
    "    top100inYear = df[df[\"Year\"] == year]\n",
    "    profane, _ = get_profan_freq(top100inYear)\n",
    "    profanity_per_year[year] = profane"
   ]
  },
  {
   "cell_type": "code",
   "execution_count": 59,
   "metadata": {},
   "outputs": [
    {
     "data": {
      "image/png": "[encoded data removed]",
      "text/plain": [
       "<Figure size 432x288 with 1 Axes>"
      ]
     },
     "metadata": {
      "needs_background": "light"
     },
     "output_type": "display_data"
    }
   ],
   "source": [
    "profanity_in_top_charts = {}\n",
    "for year in range(2006,2020):\n",
    "    p = profanity_per_year[year]\n",
    "    profanity_in_top_charts[year] = sum(p.values())\n",
    "    \n",
    "plt.bar(profanity_in_top_charts.keys(), profanity_in_top_charts.values())\n",
    "plt.show()"
   ]
  },
  {
   "cell_type": "code",
   "execution_count": 60,
   "metadata": {},
   "outputs": [],
   "source": [
    "doc = create_term_doc_matrix(df)\n",
    "cols = doc.columns\n",
    "\n",
    "for i in cols:\n",
    "    if not predict([i]):\n",
    "        cols = cols.drop([i])\n",
    "        \n",
    "doc = doc[cols]\n",
    "s = doc.sum(axis = 1, skipna = True) \n",
    "s = pd.DataFrame({'Title':s.index, 'profan_cnt':s.values})\n",
    "\n",
    "s['Rank'] = df['Rank']"
   ]
  },
  {
   "cell_type": "code",
   "execution_count": 62,
   "metadata": {},
   "outputs": [
    {
     "data": {
      "image/png": "[encoded data removed]",
      "text/plain": [
       "<Figure size 432x288 with 1 Axes>"
      ]
     },
     "metadata": {
      "needs_background": "light"
     },
     "output_type": "display_data"
    }
   ],
   "source": [
    "plt.scatter(s[\"Rank\"], s[\"profan_cnt\"])\n",
    "plt.xlabel(\"Rank\")\n",
    "plt.ylabel(\"Profane Words in Song\")\n",
    "plt.xticks([24, 49, 74])\n",
    "plt.show()"
   ]
  },
  {
   "cell_type": "code",
   "execution_count": null,
   "metadata": {},
   "outputs": [],
   "source": []
  }
 ],
 "metadata": {
  "kernelspec": {
   "display_name": "Python 3",
   "language": "python",
   "name": "python3"
  },
  "language_info": {
   "codemirror_mode": {
    "name": "ipython",
    "version": 3
   },
   "file_extension": ".py",
   "mimetype": "text/x-python",
   "name": "python",
   "nbconvert_exporter": "python",
   "pygments_lexer": "ipython3",
   "version": "3.7.3"
  }
 },
 "nbformat": 4,
 "nbformat_minor": 2
}
